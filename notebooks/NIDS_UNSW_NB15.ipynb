{
  "nbformat": 4,
  "nbformat_minor": 0,
  "metadata": {
    "colab": {
      "provenance": []
    },
    "kernelspec": {
      "name": "python3",
      "display_name": "Python 3"
    },
    "language_info": {
      "name": "python"
    }
  },
  "cells": [
    {
      "cell_type": "code",
      "execution_count": null,
      "metadata": {
        "id": "1kcK1GU695H5"
      },
      "outputs": [],
      "source": [
        "#data cleaning and plots\n",
        "import pandas as pd\n",
        "import numpy as np\n",
        "import matplotlib.pyplot as plt\n",
        "import seaborn as sns  # plotting"
      ]
    },
    {
      "cell_type": "code",
      "source": [
        "data_train = pd.read_csv('UNSW_NB15_training-set.csv')"
      ],
      "metadata": {
        "id": "QGg91y9vPs26"
      },
      "execution_count": null,
      "outputs": []
    },
    {
      "cell_type": "code",
      "source": [
        "data_train.head(5)"
      ],
      "metadata": {
        "colab": {
          "base_uri": "https://localhost:8080/",
          "height": 256
        },
        "id": "6ClFGNGldxtT",
        "outputId": "22e7aecb-1690-4134-970e-e20f04c6216b"
      },
      "execution_count": null,
      "outputs": [
        {
          "output_type": "execute_result",
          "data": {
            "text/plain": [
              "   id       dur proto service state  spkts  dpkts  sbytes  dbytes       rate  \\\n",
              "0   1  0.121478   tcp       -   FIN      6      4     258     172  74.087490   \n",
              "1   2  0.649902   tcp       -   FIN     14     38     734   42014  78.473372   \n",
              "2   3  1.623129   tcp       -   FIN      8     16     364   13186  14.170161   \n",
              "3   4  1.681642   tcp     ftp   FIN     12     12     628     770  13.677108   \n",
              "4   5  0.449454   tcp       -   FIN     10      6     534     268  33.373826   \n",
              "\n",
              "   ...  ct_dst_sport_ltm  ct_dst_src_ltm  is_ftp_login  ct_ftp_cmd  \\\n",
              "0  ...                 1               1             0           0   \n",
              "1  ...                 1               2             0           0   \n",
              "2  ...                 1               3             0           0   \n",
              "3  ...                 1               3             1           1   \n",
              "4  ...                 1              40             0           0   \n",
              "\n",
              "   ct_flw_http_mthd  ct_src_ltm  ct_srv_dst  is_sm_ips_ports  attack_cat  \\\n",
              "0                 0           1           1                0      Normal   \n",
              "1                 0           1           6                0      Normal   \n",
              "2                 0           2           6                0      Normal   \n",
              "3                 0           2           1                0      Normal   \n",
              "4                 0           2          39                0      Normal   \n",
              "\n",
              "   label  \n",
              "0      0  \n",
              "1      0  \n",
              "2      0  \n",
              "3      0  \n",
              "4      0  \n",
              "\n",
              "[5 rows x 45 columns]"
            ],
            "text/html": [
              "\n",
              "  <div id=\"df-5f92d03d-62e5-4127-9d42-b8fb6e5338cc\" class=\"colab-df-container\">\n",
              "    <div>\n",
              "<style scoped>\n",
              "    .dataframe tbody tr th:only-of-type {\n",
              "        vertical-align: middle;\n",
              "    }\n",
              "\n",
              "    .dataframe tbody tr th {\n",
              "        vertical-align: top;\n",
              "    }\n",
              "\n",
              "    .dataframe thead th {\n",
              "        text-align: right;\n",
              "    }\n",
              "</style>\n",
              "<table border=\"1\" class=\"dataframe\">\n",
              "  <thead>\n",
              "    <tr style=\"text-align: right;\">\n",
              "      <th></th>\n",
              "      <th>id</th>\n",
              "      <th>dur</th>\n",
              "      <th>proto</th>\n",
              "      <th>service</th>\n",
              "      <th>state</th>\n",
              "      <th>spkts</th>\n",
              "      <th>dpkts</th>\n",
              "      <th>sbytes</th>\n",
              "      <th>dbytes</th>\n",
              "      <th>rate</th>\n",
              "      <th>...</th>\n",
              "      <th>ct_dst_sport_ltm</th>\n",
              "      <th>ct_dst_src_ltm</th>\n",
              "      <th>is_ftp_login</th>\n",
              "      <th>ct_ftp_cmd</th>\n",
              "      <th>ct_flw_http_mthd</th>\n",
              "      <th>ct_src_ltm</th>\n",
              "      <th>ct_srv_dst</th>\n",
              "      <th>is_sm_ips_ports</th>\n",
              "      <th>attack_cat</th>\n",
              "      <th>label</th>\n",
              "    </tr>\n",
              "  </thead>\n",
              "  <tbody>\n",
              "    <tr>\n",
              "      <th>0</th>\n",
              "      <td>1</td>\n",
              "      <td>0.121478</td>\n",
              "      <td>tcp</td>\n",
              "      <td>-</td>\n",
              "      <td>FIN</td>\n",
              "      <td>6</td>\n",
              "      <td>4</td>\n",
              "      <td>258</td>\n",
              "      <td>172</td>\n",
              "      <td>74.087490</td>\n",
              "      <td>...</td>\n",
              "      <td>1</td>\n",
              "      <td>1</td>\n",
              "      <td>0</td>\n",
              "      <td>0</td>\n",
              "      <td>0</td>\n",
              "      <td>1</td>\n",
              "      <td>1</td>\n",
              "      <td>0</td>\n",
              "      <td>Normal</td>\n",
              "      <td>0</td>\n",
              "    </tr>\n",
              "    <tr>\n",
              "      <th>1</th>\n",
              "      <td>2</td>\n",
              "      <td>0.649902</td>\n",
              "      <td>tcp</td>\n",
              "      <td>-</td>\n",
              "      <td>FIN</td>\n",
              "      <td>14</td>\n",
              "      <td>38</td>\n",
              "      <td>734</td>\n",
              "      <td>42014</td>\n",
              "      <td>78.473372</td>\n",
              "      <td>...</td>\n",
              "      <td>1</td>\n",
              "      <td>2</td>\n",
              "      <td>0</td>\n",
              "      <td>0</td>\n",
              "      <td>0</td>\n",
              "      <td>1</td>\n",
              "      <td>6</td>\n",
              "      <td>0</td>\n",
              "      <td>Normal</td>\n",
              "      <td>0</td>\n",
              "    </tr>\n",
              "    <tr>\n",
              "      <th>2</th>\n",
              "      <td>3</td>\n",
              "      <td>1.623129</td>\n",
              "      <td>tcp</td>\n",
              "      <td>-</td>\n",
              "      <td>FIN</td>\n",
              "      <td>8</td>\n",
              "      <td>16</td>\n",
              "      <td>364</td>\n",
              "      <td>13186</td>\n",
              "      <td>14.170161</td>\n",
              "      <td>...</td>\n",
              "      <td>1</td>\n",
              "      <td>3</td>\n",
              "      <td>0</td>\n",
              "      <td>0</td>\n",
              "      <td>0</td>\n",
              "      <td>2</td>\n",
              "      <td>6</td>\n",
              "      <td>0</td>\n",
              "      <td>Normal</td>\n",
              "      <td>0</td>\n",
              "    </tr>\n",
              "    <tr>\n",
              "      <th>3</th>\n",
              "      <td>4</td>\n",
              "      <td>1.681642</td>\n",
              "      <td>tcp</td>\n",
              "      <td>ftp</td>\n",
              "      <td>FIN</td>\n",
              "      <td>12</td>\n",
              "      <td>12</td>\n",
              "      <td>628</td>\n",
              "      <td>770</td>\n",
              "      <td>13.677108</td>\n",
              "      <td>...</td>\n",
              "      <td>1</td>\n",
              "      <td>3</td>\n",
              "      <td>1</td>\n",
              "      <td>1</td>\n",
              "      <td>0</td>\n",
              "      <td>2</td>\n",
              "      <td>1</td>\n",
              "      <td>0</td>\n",
              "      <td>Normal</td>\n",
              "      <td>0</td>\n",
              "    </tr>\n",
              "    <tr>\n",
              "      <th>4</th>\n",
              "      <td>5</td>\n",
              "      <td>0.449454</td>\n",
              "      <td>tcp</td>\n",
              "      <td>-</td>\n",
              "      <td>FIN</td>\n",
              "      <td>10</td>\n",
              "      <td>6</td>\n",
              "      <td>534</td>\n",
              "      <td>268</td>\n",
              "      <td>33.373826</td>\n",
              "      <td>...</td>\n",
              "      <td>1</td>\n",
              "      <td>40</td>\n",
              "      <td>0</td>\n",
              "      <td>0</td>\n",
              "      <td>0</td>\n",
              "      <td>2</td>\n",
              "      <td>39</td>\n",
              "      <td>0</td>\n",
              "      <td>Normal</td>\n",
              "      <td>0</td>\n",
              "    </tr>\n",
              "  </tbody>\n",
              "</table>\n",
              "<p>5 rows × 45 columns</p>\n",
              "</div>\n",
              "    <div class=\"colab-df-buttons\">\n",
              "\n",
              "  <div class=\"colab-df-container\">\n",
              "    <button class=\"colab-df-convert\" onclick=\"convertToInteractive('df-5f92d03d-62e5-4127-9d42-b8fb6e5338cc')\"\n",
              "            title=\"Convert this dataframe to an interactive table.\"\n",
              "            style=\"display:none;\">\n",
              "\n",
              "  <svg xmlns=\"http://www.w3.org/2000/svg\" height=\"24px\" viewBox=\"0 -960 960 960\">\n",
              "    <path d=\"M120-120v-720h720v720H120Zm60-500h600v-160H180v160Zm220 220h160v-160H400v160Zm0 220h160v-160H400v160ZM180-400h160v-160H180v160Zm440 0h160v-160H620v160ZM180-180h160v-160H180v160Zm440 0h160v-160H620v160Z\"/>\n",
              "  </svg>\n",
              "    </button>\n",
              "\n",
              "  <style>\n",
              "    .colab-df-container {\n",
              "      display:flex;\n",
              "      gap: 12px;\n",
              "    }\n",
              "\n",
              "    .colab-df-convert {\n",
              "      background-color: #E8F0FE;\n",
              "      border: none;\n",
              "      border-radius: 50%;\n",
              "      cursor: pointer;\n",
              "      display: none;\n",
              "      fill: #1967D2;\n",
              "      height: 32px;\n",
              "      padding: 0 0 0 0;\n",
              "      width: 32px;\n",
              "    }\n",
              "\n",
              "    .colab-df-convert:hover {\n",
              "      background-color: #E2EBFA;\n",
              "      box-shadow: 0px 1px 2px rgba(60, 64, 67, 0.3), 0px 1px 3px 1px rgba(60, 64, 67, 0.15);\n",
              "      fill: #174EA6;\n",
              "    }\n",
              "\n",
              "    .colab-df-buttons div {\n",
              "      margin-bottom: 4px;\n",
              "    }\n",
              "\n",
              "    [theme=dark] .colab-df-convert {\n",
              "      background-color: #3B4455;\n",
              "      fill: #D2E3FC;\n",
              "    }\n",
              "\n",
              "    [theme=dark] .colab-df-convert:hover {\n",
              "      background-color: #434B5C;\n",
              "      box-shadow: 0px 1px 3px 1px rgba(0, 0, 0, 0.15);\n",
              "      filter: drop-shadow(0px 1px 2px rgba(0, 0, 0, 0.3));\n",
              "      fill: #FFFFFF;\n",
              "    }\n",
              "  </style>\n",
              "\n",
              "    <script>\n",
              "      const buttonEl =\n",
              "        document.querySelector('#df-5f92d03d-62e5-4127-9d42-b8fb6e5338cc button.colab-df-convert');\n",
              "      buttonEl.style.display =\n",
              "        google.colab.kernel.accessAllowed ? 'block' : 'none';\n",
              "\n",
              "      async function convertToInteractive(key) {\n",
              "        const element = document.querySelector('#df-5f92d03d-62e5-4127-9d42-b8fb6e5338cc');\n",
              "        const dataTable =\n",
              "          await google.colab.kernel.invokeFunction('convertToInteractive',\n",
              "                                                    [key], {});\n",
              "        if (!dataTable) return;\n",
              "\n",
              "        const docLinkHtml = 'Like what you see? Visit the ' +\n",
              "          '<a target=\"_blank\" href=https://colab.research.google.com/notebooks/data_table.ipynb>data table notebook</a>'\n",
              "          + ' to learn more about interactive tables.';\n",
              "        element.innerHTML = '';\n",
              "        dataTable['output_type'] = 'display_data';\n",
              "        await google.colab.output.renderOutput(dataTable, element);\n",
              "        const docLink = document.createElement('div');\n",
              "        docLink.innerHTML = docLinkHtml;\n",
              "        element.appendChild(docLink);\n",
              "      }\n",
              "    </script>\n",
              "  </div>\n",
              "\n",
              "\n",
              "    <div id=\"df-a6b24218-bdda-4d90-beaa-ff65dd2a6c25\">\n",
              "      <button class=\"colab-df-quickchart\" onclick=\"quickchart('df-a6b24218-bdda-4d90-beaa-ff65dd2a6c25')\"\n",
              "                title=\"Suggest charts\"\n",
              "                style=\"display:none;\">\n",
              "\n",
              "<svg xmlns=\"http://www.w3.org/2000/svg\" height=\"24px\"viewBox=\"0 0 24 24\"\n",
              "     width=\"24px\">\n",
              "    <g>\n",
              "        <path d=\"M19 3H5c-1.1 0-2 .9-2 2v14c0 1.1.9 2 2 2h14c1.1 0 2-.9 2-2V5c0-1.1-.9-2-2-2zM9 17H7v-7h2v7zm4 0h-2V7h2v10zm4 0h-2v-4h2v4z\"/>\n",
              "    </g>\n",
              "</svg>\n",
              "      </button>\n",
              "\n",
              "<style>\n",
              "  .colab-df-quickchart {\n",
              "      --bg-color: #E8F0FE;\n",
              "      --fill-color: #1967D2;\n",
              "      --hover-bg-color: #E2EBFA;\n",
              "      --hover-fill-color: #174EA6;\n",
              "      --disabled-fill-color: #AAA;\n",
              "      --disabled-bg-color: #DDD;\n",
              "  }\n",
              "\n",
              "  [theme=dark] .colab-df-quickchart {\n",
              "      --bg-color: #3B4455;\n",
              "      --fill-color: #D2E3FC;\n",
              "      --hover-bg-color: #434B5C;\n",
              "      --hover-fill-color: #FFFFFF;\n",
              "      --disabled-bg-color: #3B4455;\n",
              "      --disabled-fill-color: #666;\n",
              "  }\n",
              "\n",
              "  .colab-df-quickchart {\n",
              "    background-color: var(--bg-color);\n",
              "    border: none;\n",
              "    border-radius: 50%;\n",
              "    cursor: pointer;\n",
              "    display: none;\n",
              "    fill: var(--fill-color);\n",
              "    height: 32px;\n",
              "    padding: 0;\n",
              "    width: 32px;\n",
              "  }\n",
              "\n",
              "  .colab-df-quickchart:hover {\n",
              "    background-color: var(--hover-bg-color);\n",
              "    box-shadow: 0 1px 2px rgba(60, 64, 67, 0.3), 0 1px 3px 1px rgba(60, 64, 67, 0.15);\n",
              "    fill: var(--button-hover-fill-color);\n",
              "  }\n",
              "\n",
              "  .colab-df-quickchart-complete:disabled,\n",
              "  .colab-df-quickchart-complete:disabled:hover {\n",
              "    background-color: var(--disabled-bg-color);\n",
              "    fill: var(--disabled-fill-color);\n",
              "    box-shadow: none;\n",
              "  }\n",
              "\n",
              "  .colab-df-spinner {\n",
              "    border: 2px solid var(--fill-color);\n",
              "    border-color: transparent;\n",
              "    border-bottom-color: var(--fill-color);\n",
              "    animation:\n",
              "      spin 1s steps(1) infinite;\n",
              "  }\n",
              "\n",
              "  @keyframes spin {\n",
              "    0% {\n",
              "      border-color: transparent;\n",
              "      border-bottom-color: var(--fill-color);\n",
              "      border-left-color: var(--fill-color);\n",
              "    }\n",
              "    20% {\n",
              "      border-color: transparent;\n",
              "      border-left-color: var(--fill-color);\n",
              "      border-top-color: var(--fill-color);\n",
              "    }\n",
              "    30% {\n",
              "      border-color: transparent;\n",
              "      border-left-color: var(--fill-color);\n",
              "      border-top-color: var(--fill-color);\n",
              "      border-right-color: var(--fill-color);\n",
              "    }\n",
              "    40% {\n",
              "      border-color: transparent;\n",
              "      border-right-color: var(--fill-color);\n",
              "      border-top-color: var(--fill-color);\n",
              "    }\n",
              "    60% {\n",
              "      border-color: transparent;\n",
              "      border-right-color: var(--fill-color);\n",
              "    }\n",
              "    80% {\n",
              "      border-color: transparent;\n",
              "      border-right-color: var(--fill-color);\n",
              "      border-bottom-color: var(--fill-color);\n",
              "    }\n",
              "    90% {\n",
              "      border-color: transparent;\n",
              "      border-bottom-color: var(--fill-color);\n",
              "    }\n",
              "  }\n",
              "</style>\n",
              "\n",
              "      <script>\n",
              "        async function quickchart(key) {\n",
              "          const quickchartButtonEl =\n",
              "            document.querySelector('#' + key + ' button');\n",
              "          quickchartButtonEl.disabled = true;  // To prevent multiple clicks.\n",
              "          quickchartButtonEl.classList.add('colab-df-spinner');\n",
              "          try {\n",
              "            const charts = await google.colab.kernel.invokeFunction(\n",
              "                'suggestCharts', [key], {});\n",
              "          } catch (error) {\n",
              "            console.error('Error during call to suggestCharts:', error);\n",
              "          }\n",
              "          quickchartButtonEl.classList.remove('colab-df-spinner');\n",
              "          quickchartButtonEl.classList.add('colab-df-quickchart-complete');\n",
              "        }\n",
              "        (() => {\n",
              "          let quickchartButtonEl =\n",
              "            document.querySelector('#df-a6b24218-bdda-4d90-beaa-ff65dd2a6c25 button');\n",
              "          quickchartButtonEl.style.display =\n",
              "            google.colab.kernel.accessAllowed ? 'block' : 'none';\n",
              "        })();\n",
              "      </script>\n",
              "    </div>\n",
              "\n",
              "    </div>\n",
              "  </div>\n"
            ],
            "application/vnd.google.colaboratory.intrinsic+json": {
              "type": "dataframe",
              "variable_name": "data_train"
            }
          },
          "metadata": {},
          "execution_count": 3
        }
      ]
    },
    {
      "cell_type": "code",
      "source": [
        "data_train.drop('id',axis=1,inplace=True)"
      ],
      "metadata": {
        "id": "Llnrsjhk3zvX"
      },
      "execution_count": null,
      "outputs": []
    },
    {
      "cell_type": "code",
      "source": [
        "data_train.info()"
      ],
      "metadata": {
        "colab": {
          "base_uri": "https://localhost:8080/"
        },
        "id": "h1fK4WM2QQut",
        "outputId": "bfda8a6f-6ce5-4cfd-ace1-f7a87148924e"
      },
      "execution_count": null,
      "outputs": [
        {
          "output_type": "stream",
          "name": "stdout",
          "text": [
            "<class 'pandas.core.frame.DataFrame'>\n",
            "RangeIndex: 175341 entries, 0 to 175340\n",
            "Data columns (total 44 columns):\n",
            " #   Column             Non-Null Count   Dtype  \n",
            "---  ------             --------------   -----  \n",
            " 0   dur                175341 non-null  float64\n",
            " 1   proto              175341 non-null  object \n",
            " 2   service            175341 non-null  object \n",
            " 3   state              175341 non-null  object \n",
            " 4   spkts              175341 non-null  int64  \n",
            " 5   dpkts              175341 non-null  int64  \n",
            " 6   sbytes             175341 non-null  int64  \n",
            " 7   dbytes             175341 non-null  int64  \n",
            " 8   rate               175341 non-null  float64\n",
            " 9   sttl               175341 non-null  int64  \n",
            " 10  dttl               175341 non-null  int64  \n",
            " 11  sload              175341 non-null  float64\n",
            " 12  dload              175341 non-null  float64\n",
            " 13  sloss              175341 non-null  int64  \n",
            " 14  dloss              175341 non-null  int64  \n",
            " 15  sinpkt             175341 non-null  float64\n",
            " 16  dinpkt             175341 non-null  float64\n",
            " 17  sjit               175341 non-null  float64\n",
            " 18  djit               175341 non-null  float64\n",
            " 19  swin               175341 non-null  int64  \n",
            " 20  stcpb              175341 non-null  int64  \n",
            " 21  dtcpb              175341 non-null  int64  \n",
            " 22  dwin               175341 non-null  int64  \n",
            " 23  tcprtt             175341 non-null  float64\n",
            " 24  synack             175341 non-null  float64\n",
            " 25  ackdat             175341 non-null  float64\n",
            " 26  smean              175341 non-null  int64  \n",
            " 27  dmean              175341 non-null  int64  \n",
            " 28  trans_depth        175341 non-null  int64  \n",
            " 29  response_body_len  175341 non-null  int64  \n",
            " 30  ct_srv_src         175341 non-null  int64  \n",
            " 31  ct_state_ttl       175341 non-null  int64  \n",
            " 32  ct_dst_ltm         175341 non-null  int64  \n",
            " 33  ct_src_dport_ltm   175341 non-null  int64  \n",
            " 34  ct_dst_sport_ltm   175341 non-null  int64  \n",
            " 35  ct_dst_src_ltm     175341 non-null  int64  \n",
            " 36  is_ftp_login       175341 non-null  int64  \n",
            " 37  ct_ftp_cmd         175341 non-null  int64  \n",
            " 38  ct_flw_http_mthd   175341 non-null  int64  \n",
            " 39  ct_src_ltm         175341 non-null  int64  \n",
            " 40  ct_srv_dst         175341 non-null  int64  \n",
            " 41  is_sm_ips_ports    175341 non-null  int64  \n",
            " 42  attack_cat         175341 non-null  object \n",
            " 43  label              175341 non-null  int64  \n",
            "dtypes: float64(11), int64(29), object(4)\n",
            "memory usage: 58.9+ MB\n"
          ]
        }
      ]
    },
    {
      "cell_type": "code",
      "source": [
        "data_train[data_train['service']=='-']"
      ],
      "metadata": {
        "colab": {
          "base_uri": "https://localhost:8080/",
          "height": 444
        },
        "id": "zvYi38gXWAHI",
        "outputId": "f549dfe2-c8ee-474b-f8c3-c3714268666a"
      },
      "execution_count": null,
      "outputs": [
        {
          "output_type": "execute_result",
          "data": {
            "text/plain": [
              "             dur proto service state  spkts  dpkts  sbytes  dbytes  \\\n",
              "0       0.121478   tcp       -   FIN      6      4     258     172   \n",
              "1       0.649902   tcp       -   FIN     14     38     734   42014   \n",
              "2       1.623129   tcp       -   FIN      8     16     364   13186   \n",
              "4       0.449454   tcp       -   FIN     10      6     534     268   \n",
              "5       0.380537   tcp       -   FIN     10      6     534     268   \n",
              "...          ...   ...     ...   ...    ...    ...     ...     ...   \n",
              "175125  0.653375   tcp       -   FIN     10      8     564     354   \n",
              "175179  0.695566   tcp       -   FIN     10      8     564     354   \n",
              "175191  0.962856   tcp       -   FIN     24     60    1256   59374   \n",
              "175277  3.719110   tcp       -   FIN     66    340    3086  426483   \n",
              "175337  0.505762   tcp       -   FIN     10      8     620     354   \n",
              "\n",
              "              rate  sttl  ...  ct_dst_sport_ltm  ct_dst_src_ltm  is_ftp_login  \\\n",
              "0        74.087490   252  ...                 1               1             0   \n",
              "1        78.473372    62  ...                 1               2             0   \n",
              "2        14.170161    62  ...                 1               3             0   \n",
              "4        33.373826   254  ...                 1              40             0   \n",
              "5        39.417980   254  ...                 1              40             0   \n",
              "...            ...   ...  ...               ...             ...           ...   \n",
              "175125   26.018748   254  ...                 1               1             0   \n",
              "175179   24.440528   254  ...                 1               1             0   \n",
              "175191   86.201883    62  ...                 1               1             0   \n",
              "175277  108.897021    62  ...                 1               1             0   \n",
              "175337   33.612649   254  ...                 1               2             0   \n",
              "\n",
              "        ct_ftp_cmd  ct_flw_http_mthd  ct_src_ltm  ct_srv_dst  is_sm_ips_ports  \\\n",
              "0                0                 0           1           1                0   \n",
              "1                0                 0           1           6                0   \n",
              "2                0                 0           2           6                0   \n",
              "4                0                 0           2          39                0   \n",
              "5                0                 0           2          39                0   \n",
              "...            ...               ...         ...         ...              ...   \n",
              "175125           0                 0          18           1                0   \n",
              "175179           0                 0           3           1                0   \n",
              "175191           0                 0           1           1                0   \n",
              "175277           0                 0           2           1                0   \n",
              "175337           0                 0           1           1                0   \n",
              "\n",
              "            attack_cat  label  \n",
              "0               Normal      0  \n",
              "1               Normal      0  \n",
              "2               Normal      0  \n",
              "4               Normal      0  \n",
              "5               Normal      0  \n",
              "...                ...    ...  \n",
              "175125  Reconnaissance      1  \n",
              "175179  Reconnaissance      1  \n",
              "175191        Exploits      1  \n",
              "175277        Exploits      1  \n",
              "175337       Shellcode      1  \n",
              "\n",
              "[94168 rows x 44 columns]"
            ],
            "text/html": [
              "\n",
              "  <div id=\"df-53079ce7-5ffa-4187-b562-20fc3a448f28\" class=\"colab-df-container\">\n",
              "    <div>\n",
              "<style scoped>\n",
              "    .dataframe tbody tr th:only-of-type {\n",
              "        vertical-align: middle;\n",
              "    }\n",
              "\n",
              "    .dataframe tbody tr th {\n",
              "        vertical-align: top;\n",
              "    }\n",
              "\n",
              "    .dataframe thead th {\n",
              "        text-align: right;\n",
              "    }\n",
              "</style>\n",
              "<table border=\"1\" class=\"dataframe\">\n",
              "  <thead>\n",
              "    <tr style=\"text-align: right;\">\n",
              "      <th></th>\n",
              "      <th>dur</th>\n",
              "      <th>proto</th>\n",
              "      <th>service</th>\n",
              "      <th>state</th>\n",
              "      <th>spkts</th>\n",
              "      <th>dpkts</th>\n",
              "      <th>sbytes</th>\n",
              "      <th>dbytes</th>\n",
              "      <th>rate</th>\n",
              "      <th>sttl</th>\n",
              "      <th>...</th>\n",
              "      <th>ct_dst_sport_ltm</th>\n",
              "      <th>ct_dst_src_ltm</th>\n",
              "      <th>is_ftp_login</th>\n",
              "      <th>ct_ftp_cmd</th>\n",
              "      <th>ct_flw_http_mthd</th>\n",
              "      <th>ct_src_ltm</th>\n",
              "      <th>ct_srv_dst</th>\n",
              "      <th>is_sm_ips_ports</th>\n",
              "      <th>attack_cat</th>\n",
              "      <th>label</th>\n",
              "    </tr>\n",
              "  </thead>\n",
              "  <tbody>\n",
              "    <tr>\n",
              "      <th>0</th>\n",
              "      <td>0.121478</td>\n",
              "      <td>tcp</td>\n",
              "      <td>-</td>\n",
              "      <td>FIN</td>\n",
              "      <td>6</td>\n",
              "      <td>4</td>\n",
              "      <td>258</td>\n",
              "      <td>172</td>\n",
              "      <td>74.087490</td>\n",
              "      <td>252</td>\n",
              "      <td>...</td>\n",
              "      <td>1</td>\n",
              "      <td>1</td>\n",
              "      <td>0</td>\n",
              "      <td>0</td>\n",
              "      <td>0</td>\n",
              "      <td>1</td>\n",
              "      <td>1</td>\n",
              "      <td>0</td>\n",
              "      <td>Normal</td>\n",
              "      <td>0</td>\n",
              "    </tr>\n",
              "    <tr>\n",
              "      <th>1</th>\n",
              "      <td>0.649902</td>\n",
              "      <td>tcp</td>\n",
              "      <td>-</td>\n",
              "      <td>FIN</td>\n",
              "      <td>14</td>\n",
              "      <td>38</td>\n",
              "      <td>734</td>\n",
              "      <td>42014</td>\n",
              "      <td>78.473372</td>\n",
              "      <td>62</td>\n",
              "      <td>...</td>\n",
              "      <td>1</td>\n",
              "      <td>2</td>\n",
              "      <td>0</td>\n",
              "      <td>0</td>\n",
              "      <td>0</td>\n",
              "      <td>1</td>\n",
              "      <td>6</td>\n",
              "      <td>0</td>\n",
              "      <td>Normal</td>\n",
              "      <td>0</td>\n",
              "    </tr>\n",
              "    <tr>\n",
              "      <th>2</th>\n",
              "      <td>1.623129</td>\n",
              "      <td>tcp</td>\n",
              "      <td>-</td>\n",
              "      <td>FIN</td>\n",
              "      <td>8</td>\n",
              "      <td>16</td>\n",
              "      <td>364</td>\n",
              "      <td>13186</td>\n",
              "      <td>14.170161</td>\n",
              "      <td>62</td>\n",
              "      <td>...</td>\n",
              "      <td>1</td>\n",
              "      <td>3</td>\n",
              "      <td>0</td>\n",
              "      <td>0</td>\n",
              "      <td>0</td>\n",
              "      <td>2</td>\n",
              "      <td>6</td>\n",
              "      <td>0</td>\n",
              "      <td>Normal</td>\n",
              "      <td>0</td>\n",
              "    </tr>\n",
              "    <tr>\n",
              "      <th>4</th>\n",
              "      <td>0.449454</td>\n",
              "      <td>tcp</td>\n",
              "      <td>-</td>\n",
              "      <td>FIN</td>\n",
              "      <td>10</td>\n",
              "      <td>6</td>\n",
              "      <td>534</td>\n",
              "      <td>268</td>\n",
              "      <td>33.373826</td>\n",
              "      <td>254</td>\n",
              "      <td>...</td>\n",
              "      <td>1</td>\n",
              "      <td>40</td>\n",
              "      <td>0</td>\n",
              "      <td>0</td>\n",
              "      <td>0</td>\n",
              "      <td>2</td>\n",
              "      <td>39</td>\n",
              "      <td>0</td>\n",
              "      <td>Normal</td>\n",
              "      <td>0</td>\n",
              "    </tr>\n",
              "    <tr>\n",
              "      <th>5</th>\n",
              "      <td>0.380537</td>\n",
              "      <td>tcp</td>\n",
              "      <td>-</td>\n",
              "      <td>FIN</td>\n",
              "      <td>10</td>\n",
              "      <td>6</td>\n",
              "      <td>534</td>\n",
              "      <td>268</td>\n",
              "      <td>39.417980</td>\n",
              "      <td>254</td>\n",
              "      <td>...</td>\n",
              "      <td>1</td>\n",
              "      <td>40</td>\n",
              "      <td>0</td>\n",
              "      <td>0</td>\n",
              "      <td>0</td>\n",
              "      <td>2</td>\n",
              "      <td>39</td>\n",
              "      <td>0</td>\n",
              "      <td>Normal</td>\n",
              "      <td>0</td>\n",
              "    </tr>\n",
              "    <tr>\n",
              "      <th>...</th>\n",
              "      <td>...</td>\n",
              "      <td>...</td>\n",
              "      <td>...</td>\n",
              "      <td>...</td>\n",
              "      <td>...</td>\n",
              "      <td>...</td>\n",
              "      <td>...</td>\n",
              "      <td>...</td>\n",
              "      <td>...</td>\n",
              "      <td>...</td>\n",
              "      <td>...</td>\n",
              "      <td>...</td>\n",
              "      <td>...</td>\n",
              "      <td>...</td>\n",
              "      <td>...</td>\n",
              "      <td>...</td>\n",
              "      <td>...</td>\n",
              "      <td>...</td>\n",
              "      <td>...</td>\n",
              "      <td>...</td>\n",
              "      <td>...</td>\n",
              "    </tr>\n",
              "    <tr>\n",
              "      <th>175125</th>\n",
              "      <td>0.653375</td>\n",
              "      <td>tcp</td>\n",
              "      <td>-</td>\n",
              "      <td>FIN</td>\n",
              "      <td>10</td>\n",
              "      <td>8</td>\n",
              "      <td>564</td>\n",
              "      <td>354</td>\n",
              "      <td>26.018748</td>\n",
              "      <td>254</td>\n",
              "      <td>...</td>\n",
              "      <td>1</td>\n",
              "      <td>1</td>\n",
              "      <td>0</td>\n",
              "      <td>0</td>\n",
              "      <td>0</td>\n",
              "      <td>18</td>\n",
              "      <td>1</td>\n",
              "      <td>0</td>\n",
              "      <td>Reconnaissance</td>\n",
              "      <td>1</td>\n",
              "    </tr>\n",
              "    <tr>\n",
              "      <th>175179</th>\n",
              "      <td>0.695566</td>\n",
              "      <td>tcp</td>\n",
              "      <td>-</td>\n",
              "      <td>FIN</td>\n",
              "      <td>10</td>\n",
              "      <td>8</td>\n",
              "      <td>564</td>\n",
              "      <td>354</td>\n",
              "      <td>24.440528</td>\n",
              "      <td>254</td>\n",
              "      <td>...</td>\n",
              "      <td>1</td>\n",
              "      <td>1</td>\n",
              "      <td>0</td>\n",
              "      <td>0</td>\n",
              "      <td>0</td>\n",
              "      <td>3</td>\n",
              "      <td>1</td>\n",
              "      <td>0</td>\n",
              "      <td>Reconnaissance</td>\n",
              "      <td>1</td>\n",
              "    </tr>\n",
              "    <tr>\n",
              "      <th>175191</th>\n",
              "      <td>0.962856</td>\n",
              "      <td>tcp</td>\n",
              "      <td>-</td>\n",
              "      <td>FIN</td>\n",
              "      <td>24</td>\n",
              "      <td>60</td>\n",
              "      <td>1256</td>\n",
              "      <td>59374</td>\n",
              "      <td>86.201883</td>\n",
              "      <td>62</td>\n",
              "      <td>...</td>\n",
              "      <td>1</td>\n",
              "      <td>1</td>\n",
              "      <td>0</td>\n",
              "      <td>0</td>\n",
              "      <td>0</td>\n",
              "      <td>1</td>\n",
              "      <td>1</td>\n",
              "      <td>0</td>\n",
              "      <td>Exploits</td>\n",
              "      <td>1</td>\n",
              "    </tr>\n",
              "    <tr>\n",
              "      <th>175277</th>\n",
              "      <td>3.719110</td>\n",
              "      <td>tcp</td>\n",
              "      <td>-</td>\n",
              "      <td>FIN</td>\n",
              "      <td>66</td>\n",
              "      <td>340</td>\n",
              "      <td>3086</td>\n",
              "      <td>426483</td>\n",
              "      <td>108.897021</td>\n",
              "      <td>62</td>\n",
              "      <td>...</td>\n",
              "      <td>1</td>\n",
              "      <td>1</td>\n",
              "      <td>0</td>\n",
              "      <td>0</td>\n",
              "      <td>0</td>\n",
              "      <td>2</td>\n",
              "      <td>1</td>\n",
              "      <td>0</td>\n",
              "      <td>Exploits</td>\n",
              "      <td>1</td>\n",
              "    </tr>\n",
              "    <tr>\n",
              "      <th>175337</th>\n",
              "      <td>0.505762</td>\n",
              "      <td>tcp</td>\n",
              "      <td>-</td>\n",
              "      <td>FIN</td>\n",
              "      <td>10</td>\n",
              "      <td>8</td>\n",
              "      <td>620</td>\n",
              "      <td>354</td>\n",
              "      <td>33.612649</td>\n",
              "      <td>254</td>\n",
              "      <td>...</td>\n",
              "      <td>1</td>\n",
              "      <td>2</td>\n",
              "      <td>0</td>\n",
              "      <td>0</td>\n",
              "      <td>0</td>\n",
              "      <td>1</td>\n",
              "      <td>1</td>\n",
              "      <td>0</td>\n",
              "      <td>Shellcode</td>\n",
              "      <td>1</td>\n",
              "    </tr>\n",
              "  </tbody>\n",
              "</table>\n",
              "<p>94168 rows × 44 columns</p>\n",
              "</div>\n",
              "    <div class=\"colab-df-buttons\">\n",
              "\n",
              "  <div class=\"colab-df-container\">\n",
              "    <button class=\"colab-df-convert\" onclick=\"convertToInteractive('df-53079ce7-5ffa-4187-b562-20fc3a448f28')\"\n",
              "            title=\"Convert this dataframe to an interactive table.\"\n",
              "            style=\"display:none;\">\n",
              "\n",
              "  <svg xmlns=\"http://www.w3.org/2000/svg\" height=\"24px\" viewBox=\"0 -960 960 960\">\n",
              "    <path d=\"M120-120v-720h720v720H120Zm60-500h600v-160H180v160Zm220 220h160v-160H400v160Zm0 220h160v-160H400v160ZM180-400h160v-160H180v160Zm440 0h160v-160H620v160ZM180-180h160v-160H180v160Zm440 0h160v-160H620v160Z\"/>\n",
              "  </svg>\n",
              "    </button>\n",
              "\n",
              "  <style>\n",
              "    .colab-df-container {\n",
              "      display:flex;\n",
              "      gap: 12px;\n",
              "    }\n",
              "\n",
              "    .colab-df-convert {\n",
              "      background-color: #E8F0FE;\n",
              "      border: none;\n",
              "      border-radius: 50%;\n",
              "      cursor: pointer;\n",
              "      display: none;\n",
              "      fill: #1967D2;\n",
              "      height: 32px;\n",
              "      padding: 0 0 0 0;\n",
              "      width: 32px;\n",
              "    }\n",
              "\n",
              "    .colab-df-convert:hover {\n",
              "      background-color: #E2EBFA;\n",
              "      box-shadow: 0px 1px 2px rgba(60, 64, 67, 0.3), 0px 1px 3px 1px rgba(60, 64, 67, 0.15);\n",
              "      fill: #174EA6;\n",
              "    }\n",
              "\n",
              "    .colab-df-buttons div {\n",
              "      margin-bottom: 4px;\n",
              "    }\n",
              "\n",
              "    [theme=dark] .colab-df-convert {\n",
              "      background-color: #3B4455;\n",
              "      fill: #D2E3FC;\n",
              "    }\n",
              "\n",
              "    [theme=dark] .colab-df-convert:hover {\n",
              "      background-color: #434B5C;\n",
              "      box-shadow: 0px 1px 3px 1px rgba(0, 0, 0, 0.15);\n",
              "      filter: drop-shadow(0px 1px 2px rgba(0, 0, 0, 0.3));\n",
              "      fill: #FFFFFF;\n",
              "    }\n",
              "  </style>\n",
              "\n",
              "    <script>\n",
              "      const buttonEl =\n",
              "        document.querySelector('#df-53079ce7-5ffa-4187-b562-20fc3a448f28 button.colab-df-convert');\n",
              "      buttonEl.style.display =\n",
              "        google.colab.kernel.accessAllowed ? 'block' : 'none';\n",
              "\n",
              "      async function convertToInteractive(key) {\n",
              "        const element = document.querySelector('#df-53079ce7-5ffa-4187-b562-20fc3a448f28');\n",
              "        const dataTable =\n",
              "          await google.colab.kernel.invokeFunction('convertToInteractive',\n",
              "                                                    [key], {});\n",
              "        if (!dataTable) return;\n",
              "\n",
              "        const docLinkHtml = 'Like what you see? Visit the ' +\n",
              "          '<a target=\"_blank\" href=https://colab.research.google.com/notebooks/data_table.ipynb>data table notebook</a>'\n",
              "          + ' to learn more about interactive tables.';\n",
              "        element.innerHTML = '';\n",
              "        dataTable['output_type'] = 'display_data';\n",
              "        await google.colab.output.renderOutput(dataTable, element);\n",
              "        const docLink = document.createElement('div');\n",
              "        docLink.innerHTML = docLinkHtml;\n",
              "        element.appendChild(docLink);\n",
              "      }\n",
              "    </script>\n",
              "  </div>\n",
              "\n",
              "\n",
              "    <div id=\"df-fb1246c2-2564-4157-a9d7-e964b2350a6e\">\n",
              "      <button class=\"colab-df-quickchart\" onclick=\"quickchart('df-fb1246c2-2564-4157-a9d7-e964b2350a6e')\"\n",
              "                title=\"Suggest charts\"\n",
              "                style=\"display:none;\">\n",
              "\n",
              "<svg xmlns=\"http://www.w3.org/2000/svg\" height=\"24px\"viewBox=\"0 0 24 24\"\n",
              "     width=\"24px\">\n",
              "    <g>\n",
              "        <path d=\"M19 3H5c-1.1 0-2 .9-2 2v14c0 1.1.9 2 2 2h14c1.1 0 2-.9 2-2V5c0-1.1-.9-2-2-2zM9 17H7v-7h2v7zm4 0h-2V7h2v10zm4 0h-2v-4h2v4z\"/>\n",
              "    </g>\n",
              "</svg>\n",
              "      </button>\n",
              "\n",
              "<style>\n",
              "  .colab-df-quickchart {\n",
              "      --bg-color: #E8F0FE;\n",
              "      --fill-color: #1967D2;\n",
              "      --hover-bg-color: #E2EBFA;\n",
              "      --hover-fill-color: #174EA6;\n",
              "      --disabled-fill-color: #AAA;\n",
              "      --disabled-bg-color: #DDD;\n",
              "  }\n",
              "\n",
              "  [theme=dark] .colab-df-quickchart {\n",
              "      --bg-color: #3B4455;\n",
              "      --fill-color: #D2E3FC;\n",
              "      --hover-bg-color: #434B5C;\n",
              "      --hover-fill-color: #FFFFFF;\n",
              "      --disabled-bg-color: #3B4455;\n",
              "      --disabled-fill-color: #666;\n",
              "  }\n",
              "\n",
              "  .colab-df-quickchart {\n",
              "    background-color: var(--bg-color);\n",
              "    border: none;\n",
              "    border-radius: 50%;\n",
              "    cursor: pointer;\n",
              "    display: none;\n",
              "    fill: var(--fill-color);\n",
              "    height: 32px;\n",
              "    padding: 0;\n",
              "    width: 32px;\n",
              "  }\n",
              "\n",
              "  .colab-df-quickchart:hover {\n",
              "    background-color: var(--hover-bg-color);\n",
              "    box-shadow: 0 1px 2px rgba(60, 64, 67, 0.3), 0 1px 3px 1px rgba(60, 64, 67, 0.15);\n",
              "    fill: var(--button-hover-fill-color);\n",
              "  }\n",
              "\n",
              "  .colab-df-quickchart-complete:disabled,\n",
              "  .colab-df-quickchart-complete:disabled:hover {\n",
              "    background-color: var(--disabled-bg-color);\n",
              "    fill: var(--disabled-fill-color);\n",
              "    box-shadow: none;\n",
              "  }\n",
              "\n",
              "  .colab-df-spinner {\n",
              "    border: 2px solid var(--fill-color);\n",
              "    border-color: transparent;\n",
              "    border-bottom-color: var(--fill-color);\n",
              "    animation:\n",
              "      spin 1s steps(1) infinite;\n",
              "  }\n",
              "\n",
              "  @keyframes spin {\n",
              "    0% {\n",
              "      border-color: transparent;\n",
              "      border-bottom-color: var(--fill-color);\n",
              "      border-left-color: var(--fill-color);\n",
              "    }\n",
              "    20% {\n",
              "      border-color: transparent;\n",
              "      border-left-color: var(--fill-color);\n",
              "      border-top-color: var(--fill-color);\n",
              "    }\n",
              "    30% {\n",
              "      border-color: transparent;\n",
              "      border-left-color: var(--fill-color);\n",
              "      border-top-color: var(--fill-color);\n",
              "      border-right-color: var(--fill-color);\n",
              "    }\n",
              "    40% {\n",
              "      border-color: transparent;\n",
              "      border-right-color: var(--fill-color);\n",
              "      border-top-color: var(--fill-color);\n",
              "    }\n",
              "    60% {\n",
              "      border-color: transparent;\n",
              "      border-right-color: var(--fill-color);\n",
              "    }\n",
              "    80% {\n",
              "      border-color: transparent;\n",
              "      border-right-color: var(--fill-color);\n",
              "      border-bottom-color: var(--fill-color);\n",
              "    }\n",
              "    90% {\n",
              "      border-color: transparent;\n",
              "      border-bottom-color: var(--fill-color);\n",
              "    }\n",
              "  }\n",
              "</style>\n",
              "\n",
              "      <script>\n",
              "        async function quickchart(key) {\n",
              "          const quickchartButtonEl =\n",
              "            document.querySelector('#' + key + ' button');\n",
              "          quickchartButtonEl.disabled = true;  // To prevent multiple clicks.\n",
              "          quickchartButtonEl.classList.add('colab-df-spinner');\n",
              "          try {\n",
              "            const charts = await google.colab.kernel.invokeFunction(\n",
              "                'suggestCharts', [key], {});\n",
              "          } catch (error) {\n",
              "            console.error('Error during call to suggestCharts:', error);\n",
              "          }\n",
              "          quickchartButtonEl.classList.remove('colab-df-spinner');\n",
              "          quickchartButtonEl.classList.add('colab-df-quickchart-complete');\n",
              "        }\n",
              "        (() => {\n",
              "          let quickchartButtonEl =\n",
              "            document.querySelector('#df-fb1246c2-2564-4157-a9d7-e964b2350a6e button');\n",
              "          quickchartButtonEl.style.display =\n",
              "            google.colab.kernel.accessAllowed ? 'block' : 'none';\n",
              "        })();\n",
              "      </script>\n",
              "    </div>\n",
              "\n",
              "    </div>\n",
              "  </div>\n"
            ],
            "application/vnd.google.colaboratory.intrinsic+json": {
              "type": "dataframe"
            }
          },
          "metadata": {},
          "execution_count": 6
        }
      ]
    },
    {
      "cell_type": "code",
      "source": [
        "data_train['service'].value_counts()"
      ],
      "metadata": {
        "colab": {
          "base_uri": "https://localhost:8080/",
          "height": 523
        },
        "id": "ekuHICMYqH0G",
        "outputId": "e9292c81-30d1-489c-8473-09f3aad880ab"
      },
      "execution_count": null,
      "outputs": [
        {
          "output_type": "execute_result",
          "data": {
            "text/plain": [
              "service\n",
              "-           94168\n",
              "dns         47294\n",
              "http        18724\n",
              "smtp         5058\n",
              "ftp-data     3995\n",
              "ftp          3428\n",
              "ssh          1302\n",
              "pop3         1105\n",
              "dhcp           94\n",
              "snmp           80\n",
              "ssl            56\n",
              "irc            25\n",
              "radius         12\n",
              "Name: count, dtype: int64"
            ],
            "text/html": [
              "<div>\n",
              "<style scoped>\n",
              "    .dataframe tbody tr th:only-of-type {\n",
              "        vertical-align: middle;\n",
              "    }\n",
              "\n",
              "    .dataframe tbody tr th {\n",
              "        vertical-align: top;\n",
              "    }\n",
              "\n",
              "    .dataframe thead th {\n",
              "        text-align: right;\n",
              "    }\n",
              "</style>\n",
              "<table border=\"1\" class=\"dataframe\">\n",
              "  <thead>\n",
              "    <tr style=\"text-align: right;\">\n",
              "      <th></th>\n",
              "      <th>count</th>\n",
              "    </tr>\n",
              "    <tr>\n",
              "      <th>service</th>\n",
              "      <th></th>\n",
              "    </tr>\n",
              "  </thead>\n",
              "  <tbody>\n",
              "    <tr>\n",
              "      <th>-</th>\n",
              "      <td>94168</td>\n",
              "    </tr>\n",
              "    <tr>\n",
              "      <th>dns</th>\n",
              "      <td>47294</td>\n",
              "    </tr>\n",
              "    <tr>\n",
              "      <th>http</th>\n",
              "      <td>18724</td>\n",
              "    </tr>\n",
              "    <tr>\n",
              "      <th>smtp</th>\n",
              "      <td>5058</td>\n",
              "    </tr>\n",
              "    <tr>\n",
              "      <th>ftp-data</th>\n",
              "      <td>3995</td>\n",
              "    </tr>\n",
              "    <tr>\n",
              "      <th>ftp</th>\n",
              "      <td>3428</td>\n",
              "    </tr>\n",
              "    <tr>\n",
              "      <th>ssh</th>\n",
              "      <td>1302</td>\n",
              "    </tr>\n",
              "    <tr>\n",
              "      <th>pop3</th>\n",
              "      <td>1105</td>\n",
              "    </tr>\n",
              "    <tr>\n",
              "      <th>dhcp</th>\n",
              "      <td>94</td>\n",
              "    </tr>\n",
              "    <tr>\n",
              "      <th>snmp</th>\n",
              "      <td>80</td>\n",
              "    </tr>\n",
              "    <tr>\n",
              "      <th>ssl</th>\n",
              "      <td>56</td>\n",
              "    </tr>\n",
              "    <tr>\n",
              "      <th>irc</th>\n",
              "      <td>25</td>\n",
              "    </tr>\n",
              "    <tr>\n",
              "      <th>radius</th>\n",
              "      <td>12</td>\n",
              "    </tr>\n",
              "  </tbody>\n",
              "</table>\n",
              "</div><br><label><b>dtype:</b> int64</label>"
            ]
          },
          "metadata": {},
          "execution_count": 7
        }
      ]
    },
    {
      "cell_type": "code",
      "source": [
        "data_train['service'] = data_train['service'].apply(lambda x:\"None\" if x==\"-\" else x)"
      ],
      "metadata": {
        "id": "Uvo08NOBfylU"
      },
      "execution_count": null,
      "outputs": []
    },
    {
      "cell_type": "code",
      "source": [
        "data_train['service'].value_counts()"
      ],
      "metadata": {
        "colab": {
          "base_uri": "https://localhost:8080/",
          "height": 523
        },
        "id": "MGTke2ZFq1yN",
        "outputId": "a1d095f8-f914-45ae-a27d-443dacf8838d"
      },
      "execution_count": null,
      "outputs": [
        {
          "output_type": "execute_result",
          "data": {
            "text/plain": [
              "service\n",
              "None        94168\n",
              "dns         47294\n",
              "http        18724\n",
              "smtp         5058\n",
              "ftp-data     3995\n",
              "ftp          3428\n",
              "ssh          1302\n",
              "pop3         1105\n",
              "dhcp           94\n",
              "snmp           80\n",
              "ssl            56\n",
              "irc            25\n",
              "radius         12\n",
              "Name: count, dtype: int64"
            ],
            "text/html": [
              "<div>\n",
              "<style scoped>\n",
              "    .dataframe tbody tr th:only-of-type {\n",
              "        vertical-align: middle;\n",
              "    }\n",
              "\n",
              "    .dataframe tbody tr th {\n",
              "        vertical-align: top;\n",
              "    }\n",
              "\n",
              "    .dataframe thead th {\n",
              "        text-align: right;\n",
              "    }\n",
              "</style>\n",
              "<table border=\"1\" class=\"dataframe\">\n",
              "  <thead>\n",
              "    <tr style=\"text-align: right;\">\n",
              "      <th></th>\n",
              "      <th>count</th>\n",
              "    </tr>\n",
              "    <tr>\n",
              "      <th>service</th>\n",
              "      <th></th>\n",
              "    </tr>\n",
              "  </thead>\n",
              "  <tbody>\n",
              "    <tr>\n",
              "      <th>None</th>\n",
              "      <td>94168</td>\n",
              "    </tr>\n",
              "    <tr>\n",
              "      <th>dns</th>\n",
              "      <td>47294</td>\n",
              "    </tr>\n",
              "    <tr>\n",
              "      <th>http</th>\n",
              "      <td>18724</td>\n",
              "    </tr>\n",
              "    <tr>\n",
              "      <th>smtp</th>\n",
              "      <td>5058</td>\n",
              "    </tr>\n",
              "    <tr>\n",
              "      <th>ftp-data</th>\n",
              "      <td>3995</td>\n",
              "    </tr>\n",
              "    <tr>\n",
              "      <th>ftp</th>\n",
              "      <td>3428</td>\n",
              "    </tr>\n",
              "    <tr>\n",
              "      <th>ssh</th>\n",
              "      <td>1302</td>\n",
              "    </tr>\n",
              "    <tr>\n",
              "      <th>pop3</th>\n",
              "      <td>1105</td>\n",
              "    </tr>\n",
              "    <tr>\n",
              "      <th>dhcp</th>\n",
              "      <td>94</td>\n",
              "    </tr>\n",
              "    <tr>\n",
              "      <th>snmp</th>\n",
              "      <td>80</td>\n",
              "    </tr>\n",
              "    <tr>\n",
              "      <th>ssl</th>\n",
              "      <td>56</td>\n",
              "    </tr>\n",
              "    <tr>\n",
              "      <th>irc</th>\n",
              "      <td>25</td>\n",
              "    </tr>\n",
              "    <tr>\n",
              "      <th>radius</th>\n",
              "      <td>12</td>\n",
              "    </tr>\n",
              "  </tbody>\n",
              "</table>\n",
              "</div><br><label><b>dtype:</b> int64</label>"
            ]
          },
          "metadata": {},
          "execution_count": 9
        }
      ]
    },
    {
      "cell_type": "code",
      "source": [
        "data_train.isnull().sum()"
      ],
      "metadata": {
        "colab": {
          "base_uri": "https://localhost:8080/",
          "height": 1000
        },
        "id": "TyiBB17YgOYR",
        "outputId": "5a4c2f44-5ec9-441f-e787-5c47341f0ab7"
      },
      "execution_count": null,
      "outputs": [
        {
          "output_type": "execute_result",
          "data": {
            "text/plain": [
              "dur                  0\n",
              "proto                0\n",
              "service              0\n",
              "state                0\n",
              "spkts                0\n",
              "dpkts                0\n",
              "sbytes               0\n",
              "dbytes               0\n",
              "rate                 0\n",
              "sttl                 0\n",
              "dttl                 0\n",
              "sload                0\n",
              "dload                0\n",
              "sloss                0\n",
              "dloss                0\n",
              "sinpkt               0\n",
              "dinpkt               0\n",
              "sjit                 0\n",
              "djit                 0\n",
              "swin                 0\n",
              "stcpb                0\n",
              "dtcpb                0\n",
              "dwin                 0\n",
              "tcprtt               0\n",
              "synack               0\n",
              "ackdat               0\n",
              "smean                0\n",
              "dmean                0\n",
              "trans_depth          0\n",
              "response_body_len    0\n",
              "ct_srv_src           0\n",
              "ct_state_ttl         0\n",
              "ct_dst_ltm           0\n",
              "ct_src_dport_ltm     0\n",
              "ct_dst_sport_ltm     0\n",
              "ct_dst_src_ltm       0\n",
              "is_ftp_login         0\n",
              "ct_ftp_cmd           0\n",
              "ct_flw_http_mthd     0\n",
              "ct_src_ltm           0\n",
              "ct_srv_dst           0\n",
              "is_sm_ips_ports      0\n",
              "attack_cat           0\n",
              "label                0\n",
              "dtype: int64"
            ],
            "text/html": [
              "<div>\n",
              "<style scoped>\n",
              "    .dataframe tbody tr th:only-of-type {\n",
              "        vertical-align: middle;\n",
              "    }\n",
              "\n",
              "    .dataframe tbody tr th {\n",
              "        vertical-align: top;\n",
              "    }\n",
              "\n",
              "    .dataframe thead th {\n",
              "        text-align: right;\n",
              "    }\n",
              "</style>\n",
              "<table border=\"1\" class=\"dataframe\">\n",
              "  <thead>\n",
              "    <tr style=\"text-align: right;\">\n",
              "      <th></th>\n",
              "      <th>0</th>\n",
              "    </tr>\n",
              "  </thead>\n",
              "  <tbody>\n",
              "    <tr>\n",
              "      <th>dur</th>\n",
              "      <td>0</td>\n",
              "    </tr>\n",
              "    <tr>\n",
              "      <th>proto</th>\n",
              "      <td>0</td>\n",
              "    </tr>\n",
              "    <tr>\n",
              "      <th>service</th>\n",
              "      <td>0</td>\n",
              "    </tr>\n",
              "    <tr>\n",
              "      <th>state</th>\n",
              "      <td>0</td>\n",
              "    </tr>\n",
              "    <tr>\n",
              "      <th>spkts</th>\n",
              "      <td>0</td>\n",
              "    </tr>\n",
              "    <tr>\n",
              "      <th>dpkts</th>\n",
              "      <td>0</td>\n",
              "    </tr>\n",
              "    <tr>\n",
              "      <th>sbytes</th>\n",
              "      <td>0</td>\n",
              "    </tr>\n",
              "    <tr>\n",
              "      <th>dbytes</th>\n",
              "      <td>0</td>\n",
              "    </tr>\n",
              "    <tr>\n",
              "      <th>rate</th>\n",
              "      <td>0</td>\n",
              "    </tr>\n",
              "    <tr>\n",
              "      <th>sttl</th>\n",
              "      <td>0</td>\n",
              "    </tr>\n",
              "    <tr>\n",
              "      <th>dttl</th>\n",
              "      <td>0</td>\n",
              "    </tr>\n",
              "    <tr>\n",
              "      <th>sload</th>\n",
              "      <td>0</td>\n",
              "    </tr>\n",
              "    <tr>\n",
              "      <th>dload</th>\n",
              "      <td>0</td>\n",
              "    </tr>\n",
              "    <tr>\n",
              "      <th>sloss</th>\n",
              "      <td>0</td>\n",
              "    </tr>\n",
              "    <tr>\n",
              "      <th>dloss</th>\n",
              "      <td>0</td>\n",
              "    </tr>\n",
              "    <tr>\n",
              "      <th>sinpkt</th>\n",
              "      <td>0</td>\n",
              "    </tr>\n",
              "    <tr>\n",
              "      <th>dinpkt</th>\n",
              "      <td>0</td>\n",
              "    </tr>\n",
              "    <tr>\n",
              "      <th>sjit</th>\n",
              "      <td>0</td>\n",
              "    </tr>\n",
              "    <tr>\n",
              "      <th>djit</th>\n",
              "      <td>0</td>\n",
              "    </tr>\n",
              "    <tr>\n",
              "      <th>swin</th>\n",
              "      <td>0</td>\n",
              "    </tr>\n",
              "    <tr>\n",
              "      <th>stcpb</th>\n",
              "      <td>0</td>\n",
              "    </tr>\n",
              "    <tr>\n",
              "      <th>dtcpb</th>\n",
              "      <td>0</td>\n",
              "    </tr>\n",
              "    <tr>\n",
              "      <th>dwin</th>\n",
              "      <td>0</td>\n",
              "    </tr>\n",
              "    <tr>\n",
              "      <th>tcprtt</th>\n",
              "      <td>0</td>\n",
              "    </tr>\n",
              "    <tr>\n",
              "      <th>synack</th>\n",
              "      <td>0</td>\n",
              "    </tr>\n",
              "    <tr>\n",
              "      <th>ackdat</th>\n",
              "      <td>0</td>\n",
              "    </tr>\n",
              "    <tr>\n",
              "      <th>smean</th>\n",
              "      <td>0</td>\n",
              "    </tr>\n",
              "    <tr>\n",
              "      <th>dmean</th>\n",
              "      <td>0</td>\n",
              "    </tr>\n",
              "    <tr>\n",
              "      <th>trans_depth</th>\n",
              "      <td>0</td>\n",
              "    </tr>\n",
              "    <tr>\n",
              "      <th>response_body_len</th>\n",
              "      <td>0</td>\n",
              "    </tr>\n",
              "    <tr>\n",
              "      <th>ct_srv_src</th>\n",
              "      <td>0</td>\n",
              "    </tr>\n",
              "    <tr>\n",
              "      <th>ct_state_ttl</th>\n",
              "      <td>0</td>\n",
              "    </tr>\n",
              "    <tr>\n",
              "      <th>ct_dst_ltm</th>\n",
              "      <td>0</td>\n",
              "    </tr>\n",
              "    <tr>\n",
              "      <th>ct_src_dport_ltm</th>\n",
              "      <td>0</td>\n",
              "    </tr>\n",
              "    <tr>\n",
              "      <th>ct_dst_sport_ltm</th>\n",
              "      <td>0</td>\n",
              "    </tr>\n",
              "    <tr>\n",
              "      <th>ct_dst_src_ltm</th>\n",
              "      <td>0</td>\n",
              "    </tr>\n",
              "    <tr>\n",
              "      <th>is_ftp_login</th>\n",
              "      <td>0</td>\n",
              "    </tr>\n",
              "    <tr>\n",
              "      <th>ct_ftp_cmd</th>\n",
              "      <td>0</td>\n",
              "    </tr>\n",
              "    <tr>\n",
              "      <th>ct_flw_http_mthd</th>\n",
              "      <td>0</td>\n",
              "    </tr>\n",
              "    <tr>\n",
              "      <th>ct_src_ltm</th>\n",
              "      <td>0</td>\n",
              "    </tr>\n",
              "    <tr>\n",
              "      <th>ct_srv_dst</th>\n",
              "      <td>0</td>\n",
              "    </tr>\n",
              "    <tr>\n",
              "      <th>is_sm_ips_ports</th>\n",
              "      <td>0</td>\n",
              "    </tr>\n",
              "    <tr>\n",
              "      <th>attack_cat</th>\n",
              "      <td>0</td>\n",
              "    </tr>\n",
              "    <tr>\n",
              "      <th>label</th>\n",
              "      <td>0</td>\n",
              "    </tr>\n",
              "  </tbody>\n",
              "</table>\n",
              "</div><br><label><b>dtype:</b> int64</label>"
            ]
          },
          "metadata": {},
          "execution_count": 10
        }
      ]
    },
    {
      "cell_type": "code",
      "source": [
        "data_train.isnull().sum().sum()"
      ],
      "metadata": {
        "colab": {
          "base_uri": "https://localhost:8080/"
        },
        "id": "Lmoxd2Vcrrkn",
        "outputId": "7f23316b-75d1-4f89-a55a-33235e49d265"
      },
      "execution_count": null,
      "outputs": [
        {
          "output_type": "execute_result",
          "data": {
            "text/plain": [
              "np.int64(0)"
            ]
          },
          "metadata": {},
          "execution_count": 11
        }
      ]
    },
    {
      "cell_type": "code",
      "source": [
        "data_train_0, data_train_1 = data_train['label'].value_counts()[0] / len(data_train.index), data_train['label'].value_counts()[1] / len(data_train.index)\n",
        "\n",
        "print(\"In Train: there are {} % of class 0 and {} % of class 1\".format(data_train_0, data_train_1))"
      ],
      "metadata": {
        "colab": {
          "base_uri": "https://localhost:8080/"
        },
        "id": "gsyHwAUfrueh",
        "outputId": "864406ec-f286-4be4-b718-dc63c4ef8e15"
      },
      "execution_count": null,
      "outputs": [
        {
          "output_type": "stream",
          "name": "stdout",
          "text": [
            "In Train: there are 0.3193776697977085 % of class 0 and 0.6806223302022916 % of class 1\n"
          ]
        }
      ]
    },
    {
      "cell_type": "code",
      "source": [
        "ax = sns.countplot(x='label', data=data_train)\n",
        "ax.set(xlabel=\"Class\", ylabel=\"Count\")\n",
        "plt.title(\"class distribution of train dataset\")"
      ],
      "metadata": {
        "colab": {
          "base_uri": "https://localhost:8080/",
          "height": 490
        },
        "id": "fGAxaOI9sEGb",
        "outputId": "053e7c94-63ab-4593-a971-c83ba3f4631d"
      },
      "execution_count": null,
      "outputs": [
        {
          "output_type": "execute_result",
          "data": {
            "text/plain": [
              "Text(0.5, 1.0, 'class distribution of train dataset')"
            ]
          },
          "metadata": {},
          "execution_count": 13
        },
        {
          "output_type": "display_data",
          "data": {
            "text/plain": [
              "<Figure size 640x480 with 1 Axes>"
            ],
            "image/png": "[encoded data removed]"
          },
          "metadata": {}
        }
      ]
    },
    {
      "cell_type": "code",
      "source": [
        "#define data\n",
        "data = data_train['label'].value_counts()\n",
        "labels = ['Attack', 'Normal']\n",
        "\n",
        "#define Seaborn color palette to use\n",
        "colors = sns.color_palette('bright')[0:2]\n",
        "\n",
        "#create pie chart\n",
        "plt.pie(data, labels = labels, colors = colors, autopct='%.0f%%')\n",
        "plt.show()"
      ],
      "metadata": {
        "colab": {
          "base_uri": "https://localhost:8080/",
          "height": 406
        },
        "id": "BUceoec6sXzF",
        "outputId": "9051bb6c-4d70-4f6c-8cdc-492ce01286c5"
      },
      "execution_count": null,
      "outputs": [
        {
          "output_type": "display_data",
          "data": {
            "text/plain": [
              "<Figure size 640x480 with 1 Axes>"
            ],
            "image/png": "[encoded data removed]"
          },
          "metadata": {}
        }
      ]
    },
    {
      "cell_type": "code",
      "source": [
        "data_train.shape"
      ],
      "metadata": {
        "colab": {
          "base_uri": "https://localhost:8080/"
        },
        "id": "otBLkv2Njdu5",
        "outputId": "cf23c54a-f772-4c88-e23d-83d5158a7369"
      },
      "execution_count": null,
      "outputs": [
        {
          "output_type": "execute_result",
          "data": {
            "text/plain": [
              "(175341, 44)"
            ]
          },
          "metadata": {},
          "execution_count": 15
        }
      ]
    },
    {
      "cell_type": "code",
      "source": [
        "data_train.dtypes.value_counts()"
      ],
      "metadata": {
        "colab": {
          "base_uri": "https://localhost:8080/",
          "height": 178
        },
        "id": "TsPBhw6_sip4",
        "outputId": "d24257dc-1b40-46a1-f032-a1577f9ad392"
      },
      "execution_count": null,
      "outputs": [
        {
          "output_type": "execute_result",
          "data": {
            "text/plain": [
              "int64      29\n",
              "float64    11\n",
              "object      4\n",
              "Name: count, dtype: int64"
            ],
            "text/html": [
              "<div>\n",
              "<style scoped>\n",
              "    .dataframe tbody tr th:only-of-type {\n",
              "        vertical-align: middle;\n",
              "    }\n",
              "\n",
              "    .dataframe tbody tr th {\n",
              "        vertical-align: top;\n",
              "    }\n",
              "\n",
              "    .dataframe thead th {\n",
              "        text-align: right;\n",
              "    }\n",
              "</style>\n",
              "<table border=\"1\" class=\"dataframe\">\n",
              "  <thead>\n",
              "    <tr style=\"text-align: right;\">\n",
              "      <th></th>\n",
              "      <th>count</th>\n",
              "    </tr>\n",
              "  </thead>\n",
              "  <tbody>\n",
              "    <tr>\n",
              "      <th>int64</th>\n",
              "      <td>29</td>\n",
              "    </tr>\n",
              "    <tr>\n",
              "      <th>float64</th>\n",
              "      <td>11</td>\n",
              "    </tr>\n",
              "    <tr>\n",
              "      <th>object</th>\n",
              "      <td>4</td>\n",
              "    </tr>\n",
              "  </tbody>\n",
              "</table>\n",
              "</div><br><label><b>dtype:</b> int64</label>"
            ]
          },
          "metadata": {},
          "execution_count": 16
        }
      ]
    },
    {
      "cell_type": "code",
      "source": [
        "data_train['attack_cat'].value_counts()"
      ],
      "metadata": {
        "colab": {
          "base_uri": "https://localhost:8080/",
          "height": 429
        },
        "id": "ykFBAp40k7_8",
        "outputId": "0213529e-002f-4008-b271-c3a9889c6f9e"
      },
      "execution_count": null,
      "outputs": [
        {
          "output_type": "execute_result",
          "data": {
            "text/plain": [
              "attack_cat\n",
              "Normal            56000\n",
              "Generic           40000\n",
              "Exploits          33393\n",
              "Fuzzers           18184\n",
              "DoS               12264\n",
              "Reconnaissance    10491\n",
              "Analysis           2000\n",
              "Backdoor           1746\n",
              "Shellcode          1133\n",
              "Worms               130\n",
              "Name: count, dtype: int64"
            ],
            "text/html": [
              "<div>\n",
              "<style scoped>\n",
              "    .dataframe tbody tr th:only-of-type {\n",
              "        vertical-align: middle;\n",
              "    }\n",
              "\n",
              "    .dataframe tbody tr th {\n",
              "        vertical-align: top;\n",
              "    }\n",
              "\n",
              "    .dataframe thead th {\n",
              "        text-align: right;\n",
              "    }\n",
              "</style>\n",
              "<table border=\"1\" class=\"dataframe\">\n",
              "  <thead>\n",
              "    <tr style=\"text-align: right;\">\n",
              "      <th></th>\n",
              "      <th>count</th>\n",
              "    </tr>\n",
              "    <tr>\n",
              "      <th>attack_cat</th>\n",
              "      <th></th>\n",
              "    </tr>\n",
              "  </thead>\n",
              "  <tbody>\n",
              "    <tr>\n",
              "      <th>Normal</th>\n",
              "      <td>56000</td>\n",
              "    </tr>\n",
              "    <tr>\n",
              "      <th>Generic</th>\n",
              "      <td>40000</td>\n",
              "    </tr>\n",
              "    <tr>\n",
              "      <th>Exploits</th>\n",
              "      <td>33393</td>\n",
              "    </tr>\n",
              "    <tr>\n",
              "      <th>Fuzzers</th>\n",
              "      <td>18184</td>\n",
              "    </tr>\n",
              "    <tr>\n",
              "      <th>DoS</th>\n",
              "      <td>12264</td>\n",
              "    </tr>\n",
              "    <tr>\n",
              "      <th>Reconnaissance</th>\n",
              "      <td>10491</td>\n",
              "    </tr>\n",
              "    <tr>\n",
              "      <th>Analysis</th>\n",
              "      <td>2000</td>\n",
              "    </tr>\n",
              "    <tr>\n",
              "      <th>Backdoor</th>\n",
              "      <td>1746</td>\n",
              "    </tr>\n",
              "    <tr>\n",
              "      <th>Shellcode</th>\n",
              "      <td>1133</td>\n",
              "    </tr>\n",
              "    <tr>\n",
              "      <th>Worms</th>\n",
              "      <td>130</td>\n",
              "    </tr>\n",
              "  </tbody>\n",
              "</table>\n",
              "</div><br><label><b>dtype:</b> int64</label>"
            ]
          },
          "metadata": {},
          "execution_count": 17
        }
      ]
    },
    {
      "cell_type": "code",
      "source": [
        "# Define data\n",
        "data = data_train['attack_cat'].value_counts()\n",
        "labels = data.index.tolist()\n",
        "\n",
        "# Define Seaborn color palette\n",
        "colors = sns.color_palette('bright')[0:len(labels)]\n",
        "\n",
        "# Create pie chart\n",
        "plt.figure(figsize=(8, 8))\n",
        "plt.pie(data, labels=labels, colors=colors, autopct='%.0f%%', startangle=140)\n",
        "plt.title('Distribution of Attack Categories')\n",
        "plt.axis('equal')  # Equal aspect ratio ensures that pie is drawn as a circle.\n",
        "plt.show()"
      ],
      "metadata": {
        "colab": {
          "base_uri": "https://localhost:8080/",
          "height": 675
        },
        "id": "ShCRYJaxzU2D",
        "outputId": "71014c78-d22a-4bdf-ed55-6c07c6b4047c"
      },
      "execution_count": null,
      "outputs": [
        {
          "output_type": "display_data",
          "data": {
            "text/plain": [
              "<Figure size 800x800 with 1 Axes>"
            ],
            "image/png": "[encoded data removed]"
          },
          "metadata": {}
        }
      ]
    },
    {
      "cell_type": "code",
      "source": [
        "data_train['state'].value_counts()"
      ],
      "metadata": {
        "colab": {
          "base_uri": "https://localhost:8080/",
          "height": 398
        },
        "id": "Ayy1RewbLiHu",
        "outputId": "fa164d02-1b17-4076-917b-88f5b10e1d9a"
      },
      "execution_count": null,
      "outputs": [
        {
          "output_type": "execute_result",
          "data": {
            "text/plain": [
              "state\n",
              "INT    82275\n",
              "FIN    77825\n",
              "CON    13152\n",
              "REQ     1991\n",
              "RST       83\n",
              "ECO       12\n",
              "PAR        1\n",
              "URN        1\n",
              "no         1\n",
              "Name: count, dtype: int64"
            ],
            "text/html": [
              "<div>\n",
              "<style scoped>\n",
              "    .dataframe tbody tr th:only-of-type {\n",
              "        vertical-align: middle;\n",
              "    }\n",
              "\n",
              "    .dataframe tbody tr th {\n",
              "        vertical-align: top;\n",
              "    }\n",
              "\n",
              "    .dataframe thead th {\n",
              "        text-align: right;\n",
              "    }\n",
              "</style>\n",
              "<table border=\"1\" class=\"dataframe\">\n",
              "  <thead>\n",
              "    <tr style=\"text-align: right;\">\n",
              "      <th></th>\n",
              "      <th>count</th>\n",
              "    </tr>\n",
              "    <tr>\n",
              "      <th>state</th>\n",
              "      <th></th>\n",
              "    </tr>\n",
              "  </thead>\n",
              "  <tbody>\n",
              "    <tr>\n",
              "      <th>INT</th>\n",
              "      <td>82275</td>\n",
              "    </tr>\n",
              "    <tr>\n",
              "      <th>FIN</th>\n",
              "      <td>77825</td>\n",
              "    </tr>\n",
              "    <tr>\n",
              "      <th>CON</th>\n",
              "      <td>13152</td>\n",
              "    </tr>\n",
              "    <tr>\n",
              "      <th>REQ</th>\n",
              "      <td>1991</td>\n",
              "    </tr>\n",
              "    <tr>\n",
              "      <th>RST</th>\n",
              "      <td>83</td>\n",
              "    </tr>\n",
              "    <tr>\n",
              "      <th>ECO</th>\n",
              "      <td>12</td>\n",
              "    </tr>\n",
              "    <tr>\n",
              "      <th>PAR</th>\n",
              "      <td>1</td>\n",
              "    </tr>\n",
              "    <tr>\n",
              "      <th>URN</th>\n",
              "      <td>1</td>\n",
              "    </tr>\n",
              "    <tr>\n",
              "      <th>no</th>\n",
              "      <td>1</td>\n",
              "    </tr>\n",
              "  </tbody>\n",
              "</table>\n",
              "</div><br><label><b>dtype:</b> int64</label>"
            ]
          },
          "metadata": {},
          "execution_count": 18
        }
      ]
    },
    {
      "cell_type": "code",
      "source": [
        "data_train['proto'].value_counts()"
      ],
      "metadata": {
        "colab": {
          "base_uri": "https://localhost:8080/",
          "height": 490
        },
        "id": "HZQgXA3-rNlj",
        "outputId": "50fc31d4-c57c-451c-c0a3-45ce4c37c527"
      },
      "execution_count": null,
      "outputs": [
        {
          "output_type": "execute_result",
          "data": {
            "text/plain": [
              "proto\n",
              "tcp       79946\n",
              "udp       63283\n",
              "unas      12084\n",
              "arp        2859\n",
              "ospf       2595\n",
              "          ...  \n",
              "argus        98\n",
              "netblt       98\n",
              "igmp         18\n",
              "icmp         15\n",
              "rtp           1\n",
              "Name: count, Length: 133, dtype: int64"
            ],
            "text/html": [
              "<div>\n",
              "<style scoped>\n",
              "    .dataframe tbody tr th:only-of-type {\n",
              "        vertical-align: middle;\n",
              "    }\n",
              "\n",
              "    .dataframe tbody tr th {\n",
              "        vertical-align: top;\n",
              "    }\n",
              "\n",
              "    .dataframe thead th {\n",
              "        text-align: right;\n",
              "    }\n",
              "</style>\n",
              "<table border=\"1\" class=\"dataframe\">\n",
              "  <thead>\n",
              "    <tr style=\"text-align: right;\">\n",
              "      <th></th>\n",
              "      <th>count</th>\n",
              "    </tr>\n",
              "    <tr>\n",
              "      <th>proto</th>\n",
              "      <th></th>\n",
              "    </tr>\n",
              "  </thead>\n",
              "  <tbody>\n",
              "    <tr>\n",
              "      <th>tcp</th>\n",
              "      <td>79946</td>\n",
              "    </tr>\n",
              "    <tr>\n",
              "      <th>udp</th>\n",
              "      <td>63283</td>\n",
              "    </tr>\n",
              "    <tr>\n",
              "      <th>unas</th>\n",
              "      <td>12084</td>\n",
              "    </tr>\n",
              "    <tr>\n",
              "      <th>arp</th>\n",
              "      <td>2859</td>\n",
              "    </tr>\n",
              "    <tr>\n",
              "      <th>ospf</th>\n",
              "      <td>2595</td>\n",
              "    </tr>\n",
              "    <tr>\n",
              "      <th>...</th>\n",
              "      <td>...</td>\n",
              "    </tr>\n",
              "    <tr>\n",
              "      <th>argus</th>\n",
              "      <td>98</td>\n",
              "    </tr>\n",
              "    <tr>\n",
              "      <th>netblt</th>\n",
              "      <td>98</td>\n",
              "    </tr>\n",
              "    <tr>\n",
              "      <th>igmp</th>\n",
              "      <td>18</td>\n",
              "    </tr>\n",
              "    <tr>\n",
              "      <th>icmp</th>\n",
              "      <td>15</td>\n",
              "    </tr>\n",
              "    <tr>\n",
              "      <th>rtp</th>\n",
              "      <td>1</td>\n",
              "    </tr>\n",
              "  </tbody>\n",
              "</table>\n",
              "<p>133 rows × 1 columns</p>\n",
              "</div><br><label><b>dtype:</b> int64</label>"
            ]
          },
          "metadata": {},
          "execution_count": 19
        }
      ]
    },
    {
      "cell_type": "code",
      "source": [
        "data_train['proto'].unique()"
      ],
      "metadata": {
        "colab": {
          "base_uri": "https://localhost:8080/"
        },
        "id": "AF6hG9RVKguw",
        "outputId": "e1e2128a-3eca-4d7c-b701-35c9124f8a08"
      },
      "execution_count": null,
      "outputs": [
        {
          "output_type": "execute_result",
          "data": {
            "text/plain": [
              "array(['tcp', 'udp', 'arp', 'ospf', 'icmp', 'igmp', 'rtp', 'ddp',\n",
              "       'ipv6-frag', 'cftp', 'wsn', 'pvp', 'wb-expak', 'mtp', 'pri-enc',\n",
              "       'sat-mon', 'cphb', 'sun-nd', 'iso-ip', 'xtp', 'il', 'unas',\n",
              "       'mfe-nsp', '3pc', 'ipv6-route', 'idrp', 'bna', 'swipe',\n",
              "       'kryptolan', 'cpnx', 'rsvp', 'wb-mon', 'vmtp', 'ib', 'dgp',\n",
              "       'eigrp', 'ax.25', 'gmtp', 'pnni', 'sep', 'pgm', 'idpr-cmtp',\n",
              "       'zero', 'rvd', 'mobile', 'narp', 'fc', 'pipe', 'ipcomp', 'ipv6-no',\n",
              "       'sat-expak', 'ipv6-opts', 'snp', 'ipcv', 'br-sat-mon', 'ttp',\n",
              "       'tcf', 'nsfnet-igp', 'sprite-rpc', 'aes-sp3-d', 'sccopmce', 'sctp',\n",
              "       'qnx', 'scps', 'etherip', 'aris', 'pim', 'compaq-peer', 'vrrp',\n",
              "       'iatp', 'stp', 'l2tp', 'srp', 'sm', 'isis', 'smp', 'fire', 'ptp',\n",
              "       'crtp', 'sps', 'merit-inp', 'idpr', 'skip', 'any', 'larp', 'ipip',\n",
              "       'micp', 'encap', 'ifmp', 'tp++', 'a/n', 'ipv6', 'i-nlsp',\n",
              "       'ipx-n-ip', 'sdrp', 'tlsp', 'gre', 'mhrp', 'ddx', 'ippc', 'visa',\n",
              "       'secure-vmtp', 'uti', 'vines', 'crudp', 'iplt', 'ggp', 'ip',\n",
              "       'ipnip', 'st2', 'argus', 'bbn-rcc', 'egp', 'emcon', 'igp', 'nvp',\n",
              "       'pup', 'xnet', 'chaos', 'mux', 'dcn', 'hmp', 'prm', 'trunk-1',\n",
              "       'xns-idp', 'leaf-1', 'leaf-2', 'rdp', 'irtp', 'iso-tp4', 'netblt',\n",
              "       'trunk-2', 'cbt'], dtype=object)"
            ]
          },
          "metadata": {},
          "execution_count": 20
        }
      ]
    },
    {
      "cell_type": "code",
      "source": [
        "data_train['ct_ftp_cmd'].unique()"
      ],
      "metadata": {
        "id": "exZ5nX2asF25",
        "outputId": "a5e4e362-2d0b-40ef-e1fb-7f60748104d3",
        "colab": {
          "base_uri": "https://localhost:8080/"
        }
      },
      "execution_count": null,
      "outputs": [
        {
          "output_type": "execute_result",
          "data": {
            "text/plain": [
              "array([0, 1, 2, 4])"
            ]
          },
          "metadata": {},
          "execution_count": 21
        }
      ]
    },
    {
      "cell_type": "code",
      "source": [
        "data_train['is_sm_ips_ports'].value_counts()"
      ],
      "metadata": {
        "colab": {
          "base_uri": "https://localhost:8080/",
          "height": 178
        },
        "id": "bsWANjEjsyTa",
        "outputId": "cd772e58-7bde-4fa5-da22-98bbfb1459a0"
      },
      "execution_count": null,
      "outputs": [
        {
          "output_type": "execute_result",
          "data": {
            "text/plain": [
              "is_sm_ips_ports\n",
              "0    172579\n",
              "1      2762\n",
              "Name: count, dtype: int64"
            ],
            "text/html": [
              "<div>\n",
              "<style scoped>\n",
              "    .dataframe tbody tr th:only-of-type {\n",
              "        vertical-align: middle;\n",
              "    }\n",
              "\n",
              "    .dataframe tbody tr th {\n",
              "        vertical-align: top;\n",
              "    }\n",
              "\n",
              "    .dataframe thead th {\n",
              "        text-align: right;\n",
              "    }\n",
              "</style>\n",
              "<table border=\"1\" class=\"dataframe\">\n",
              "  <thead>\n",
              "    <tr style=\"text-align: right;\">\n",
              "      <th></th>\n",
              "      <th>count</th>\n",
              "    </tr>\n",
              "    <tr>\n",
              "      <th>is_sm_ips_ports</th>\n",
              "      <th></th>\n",
              "    </tr>\n",
              "  </thead>\n",
              "  <tbody>\n",
              "    <tr>\n",
              "      <th>0</th>\n",
              "      <td>172579</td>\n",
              "    </tr>\n",
              "    <tr>\n",
              "      <th>1</th>\n",
              "      <td>2762</td>\n",
              "    </tr>\n",
              "  </tbody>\n",
              "</table>\n",
              "</div><br><label><b>dtype:</b> int64</label>"
            ]
          },
          "metadata": {},
          "execution_count": 22
        }
      ]
    },
    {
      "cell_type": "markdown",
      "source": [
        "The col \"is_ftp_login\" has few wrong values like 2, 4. It should only have 0 and 1, If the ftp session is accessed by user and password then 1 else 0. Need to fix this.\n",
        "Replacing all the values apart from 0 and 1 from these two columns to be 1s."
      ],
      "metadata": {
        "id": "PjvTarIxtzt2"
      }
    },
    {
      "cell_type": "code",
      "source": [
        "data_train['is_ftp_login'].value_counts()"
      ],
      "metadata": {
        "colab": {
          "base_uri": "https://localhost:8080/",
          "height": 241
        },
        "id": "lORjzrMMtF89",
        "outputId": "bd470202-8c5a-4dc9-9b87-c6178000cbe3"
      },
      "execution_count": null,
      "outputs": [
        {
          "output_type": "execute_result",
          "data": {
            "text/plain": [
              "is_ftp_login\n",
              "0    172774\n",
              "1      2545\n",
              "4        16\n",
              "2         6\n",
              "Name: count, dtype: int64"
            ],
            "text/html": [
              "<div>\n",
              "<style scoped>\n",
              "    .dataframe tbody tr th:only-of-type {\n",
              "        vertical-align: middle;\n",
              "    }\n",
              "\n",
              "    .dataframe tbody tr th {\n",
              "        vertical-align: top;\n",
              "    }\n",
              "\n",
              "    .dataframe thead th {\n",
              "        text-align: right;\n",
              "    }\n",
              "</style>\n",
              "<table border=\"1\" class=\"dataframe\">\n",
              "  <thead>\n",
              "    <tr style=\"text-align: right;\">\n",
              "      <th></th>\n",
              "      <th>count</th>\n",
              "    </tr>\n",
              "    <tr>\n",
              "      <th>is_ftp_login</th>\n",
              "      <th></th>\n",
              "    </tr>\n",
              "  </thead>\n",
              "  <tbody>\n",
              "    <tr>\n",
              "      <th>0</th>\n",
              "      <td>172774</td>\n",
              "    </tr>\n",
              "    <tr>\n",
              "      <th>1</th>\n",
              "      <td>2545</td>\n",
              "    </tr>\n",
              "    <tr>\n",
              "      <th>4</th>\n",
              "      <td>16</td>\n",
              "    </tr>\n",
              "    <tr>\n",
              "      <th>2</th>\n",
              "      <td>6</td>\n",
              "    </tr>\n",
              "  </tbody>\n",
              "</table>\n",
              "</div><br><label><b>dtype:</b> int64</label>"
            ]
          },
          "metadata": {},
          "execution_count": 23
        }
      ]
    },
    {
      "cell_type": "code",
      "source": [
        "data_train['is_ftp_login'] = np.where(data_train['is_ftp_login']>1, 1, data_train['is_ftp_login'])"
      ],
      "metadata": {
        "id": "yuKO_UdVtMmf"
      },
      "execution_count": null,
      "outputs": []
    },
    {
      "cell_type": "code",
      "source": [
        "data_train['is_ftp_login'].value_counts()"
      ],
      "metadata": {
        "colab": {
          "base_uri": "https://localhost:8080/",
          "height": 178
        },
        "id": "XfuFbzwntSGk",
        "outputId": "ae8fdc92-badf-4d13-c8bc-49f63f0e6ac4"
      },
      "execution_count": null,
      "outputs": [
        {
          "output_type": "execute_result",
          "data": {
            "text/plain": [
              "is_ftp_login\n",
              "0    172774\n",
              "1      2567\n",
              "Name: count, dtype: int64"
            ],
            "text/html": [
              "<div>\n",
              "<style scoped>\n",
              "    .dataframe tbody tr th:only-of-type {\n",
              "        vertical-align: middle;\n",
              "    }\n",
              "\n",
              "    .dataframe tbody tr th {\n",
              "        vertical-align: top;\n",
              "    }\n",
              "\n",
              "    .dataframe thead th {\n",
              "        text-align: right;\n",
              "    }\n",
              "</style>\n",
              "<table border=\"1\" class=\"dataframe\">\n",
              "  <thead>\n",
              "    <tr style=\"text-align: right;\">\n",
              "      <th></th>\n",
              "      <th>count</th>\n",
              "    </tr>\n",
              "    <tr>\n",
              "      <th>is_ftp_login</th>\n",
              "      <th></th>\n",
              "    </tr>\n",
              "  </thead>\n",
              "  <tbody>\n",
              "    <tr>\n",
              "      <th>0</th>\n",
              "      <td>172774</td>\n",
              "    </tr>\n",
              "    <tr>\n",
              "      <th>1</th>\n",
              "      <td>2567</td>\n",
              "    </tr>\n",
              "  </tbody>\n",
              "</table>\n",
              "</div><br><label><b>dtype:</b> int64</label>"
            ]
          },
          "metadata": {},
          "execution_count": 25
        }
      ]
    },
    {
      "cell_type": "code",
      "source": [
        "data_train.info()"
      ],
      "metadata": {
        "colab": {
          "base_uri": "https://localhost:8080/"
        },
        "id": "sEhDXHfpVo6f",
        "outputId": "d5709cb1-3345-4096-8c24-0a7471e04fb6"
      },
      "execution_count": null,
      "outputs": [
        {
          "output_type": "stream",
          "name": "stdout",
          "text": [
            "<class 'pandas.core.frame.DataFrame'>\n",
            "RangeIndex: 175341 entries, 0 to 175340\n",
            "Data columns (total 44 columns):\n",
            " #   Column             Non-Null Count   Dtype  \n",
            "---  ------             --------------   -----  \n",
            " 0   dur                175341 non-null  float64\n",
            " 1   proto              175341 non-null  object \n",
            " 2   service            175341 non-null  object \n",
            " 3   state              175341 non-null  object \n",
            " 4   spkts              175341 non-null  int64  \n",
            " 5   dpkts              175341 non-null  int64  \n",
            " 6   sbytes             175341 non-null  int64  \n",
            " 7   dbytes             175341 non-null  int64  \n",
            " 8   rate               175341 non-null  float64\n",
            " 9   sttl               175341 non-null  int64  \n",
            " 10  dttl               175341 non-null  int64  \n",
            " 11  sload              175341 non-null  float64\n",
            " 12  dload              175341 non-null  float64\n",
            " 13  sloss              175341 non-null  int64  \n",
            " 14  dloss              175341 non-null  int64  \n",
            " 15  sinpkt             175341 non-null  float64\n",
            " 16  dinpkt             175341 non-null  float64\n",
            " 17  sjit               175341 non-null  float64\n",
            " 18  djit               175341 non-null  float64\n",
            " 19  swin               175341 non-null  int64  \n",
            " 20  stcpb              175341 non-null  int64  \n",
            " 21  dtcpb              175341 non-null  int64  \n",
            " 22  dwin               175341 non-null  int64  \n",
            " 23  tcprtt             175341 non-null  float64\n",
            " 24  synack             175341 non-null  float64\n",
            " 25  ackdat             175341 non-null  float64\n",
            " 26  smean              175341 non-null  int64  \n",
            " 27  dmean              175341 non-null  int64  \n",
            " 28  trans_depth        175341 non-null  int64  \n",
            " 29  response_body_len  175341 non-null  int64  \n",
            " 30  ct_srv_src         175341 non-null  int64  \n",
            " 31  ct_state_ttl       175341 non-null  int64  \n",
            " 32  ct_dst_ltm         175341 non-null  int64  \n",
            " 33  ct_src_dport_ltm   175341 non-null  int64  \n",
            " 34  ct_dst_sport_ltm   175341 non-null  int64  \n",
            " 35  ct_dst_src_ltm     175341 non-null  int64  \n",
            " 36  is_ftp_login       175341 non-null  int64  \n",
            " 37  ct_ftp_cmd         175341 non-null  int64  \n",
            " 38  ct_flw_http_mthd   175341 non-null  int64  \n",
            " 39  ct_src_ltm         175341 non-null  int64  \n",
            " 40  ct_srv_dst         175341 non-null  int64  \n",
            " 41  is_sm_ips_ports    175341 non-null  int64  \n",
            " 42  attack_cat         175341 non-null  object \n",
            " 43  label              175341 non-null  int64  \n",
            "dtypes: float64(11), int64(29), object(4)\n",
            "memory usage: 58.9+ MB\n"
          ]
        }
      ]
    },
    {
      "cell_type": "code",
      "source": [
        "data_train['label'].value_counts()"
      ],
      "metadata": {
        "colab": {
          "base_uri": "https://localhost:8080/",
          "height": 178
        },
        "id": "JhMghZRTn_A5",
        "outputId": "699d81f5-bf5a-435f-a26f-9e3e9a0004f6"
      },
      "execution_count": null,
      "outputs": [
        {
          "output_type": "execute_result",
          "data": {
            "text/plain": [
              "label\n",
              "1    119341\n",
              "0     56000\n",
              "Name: count, dtype: int64"
            ],
            "text/html": [
              "<div>\n",
              "<style scoped>\n",
              "    .dataframe tbody tr th:only-of-type {\n",
              "        vertical-align: middle;\n",
              "    }\n",
              "\n",
              "    .dataframe tbody tr th {\n",
              "        vertical-align: top;\n",
              "    }\n",
              "\n",
              "    .dataframe thead th {\n",
              "        text-align: right;\n",
              "    }\n",
              "</style>\n",
              "<table border=\"1\" class=\"dataframe\">\n",
              "  <thead>\n",
              "    <tr style=\"text-align: right;\">\n",
              "      <th></th>\n",
              "      <th>count</th>\n",
              "    </tr>\n",
              "    <tr>\n",
              "      <th>label</th>\n",
              "      <th></th>\n",
              "    </tr>\n",
              "  </thead>\n",
              "  <tbody>\n",
              "    <tr>\n",
              "      <th>1</th>\n",
              "      <td>119341</td>\n",
              "    </tr>\n",
              "    <tr>\n",
              "      <th>0</th>\n",
              "      <td>56000</td>\n",
              "    </tr>\n",
              "  </tbody>\n",
              "</table>\n",
              "</div><br><label><b>dtype:</b> int64</label>"
            ]
          },
          "metadata": {},
          "execution_count": 27
        }
      ]
    },
    {
      "cell_type": "code",
      "source": [
        "X_train=data_train.drop(columns=['attack_cat','label'],axis=1)\n",
        "\n",
        "y1_train=data_train['attack_cat'].copy()\n",
        "y2_train=data_train['label'].copy()"
      ],
      "metadata": {
        "id": "VdXSpFaVXn-_"
      },
      "execution_count": null,
      "outputs": []
    },
    {
      "cell_type": "code",
      "source": [
        "# Load test data\n",
        "data_test = pd.read_csv('UNSW_NB15_testing-set.csv')\n",
        "X_test = data_test.drop(axis=1, columns=['attack_cat','label']) # X_test is a dataframe\n",
        "\n",
        "y1_test = data_test['attack_cat'].values # y is an array\n",
        "y2_test = data_test['label'].values"
      ],
      "metadata": {
        "id": "hOnDlHVin18L"
      },
      "execution_count": null,
      "outputs": []
    },
    {
      "cell_type": "code",
      "source": [
        "# determine categorical and numerical columns\n",
        "numerical_cols = X_train.select_dtypes(include=['int64', 'float64']).columns\n",
        "categorical_cols = X_train.select_dtypes(include=['object', 'bool']).columns"
      ],
      "metadata": {
        "id": "2LV6JTf3PCWw"
      },
      "execution_count": null,
      "outputs": []
    },
    {
      "cell_type": "code",
      "source": [
        "numerical_cols"
      ],
      "metadata": {
        "colab": {
          "base_uri": "https://localhost:8080/"
        },
        "id": "SAchFFzQPTG-",
        "outputId": "333ef7ca-63c8-4abe-a4b9-9817b2d79dcb"
      },
      "execution_count": null,
      "outputs": [
        {
          "output_type": "execute_result",
          "data": {
            "text/plain": [
              "Index(['dur', 'spkts', 'dpkts', 'sbytes', 'dbytes', 'rate', 'sttl', 'dttl',\n",
              "       'sload', 'dload', 'sloss', 'dloss', 'sinpkt', 'dinpkt', 'sjit', 'djit',\n",
              "       'swin', 'stcpb', 'dtcpb', 'dwin', 'tcprtt', 'synack', 'ackdat', 'smean',\n",
              "       'dmean', 'trans_depth', 'response_body_len', 'ct_srv_src',\n",
              "       'ct_state_ttl', 'ct_dst_ltm', 'ct_src_dport_ltm', 'ct_dst_sport_ltm',\n",
              "       'ct_dst_src_ltm', 'is_ftp_login', 'ct_ftp_cmd', 'ct_flw_http_mthd',\n",
              "       'ct_src_ltm', 'ct_srv_dst', 'is_sm_ips_ports'],\n",
              "      dtype='object')"
            ]
          },
          "metadata": {},
          "execution_count": 31
        }
      ]
    },
    {
      "cell_type": "code",
      "source": [
        "categorical_cols"
      ],
      "metadata": {
        "colab": {
          "base_uri": "https://localhost:8080/"
        },
        "id": "wMzKKYZnPXrY",
        "outputId": "354cff95-977b-4da1-e237-3930205c0469"
      },
      "execution_count": null,
      "outputs": [
        {
          "output_type": "execute_result",
          "data": {
            "text/plain": [
              "Index(['proto', 'service', 'state'], dtype='object')"
            ]
          },
          "metadata": {},
          "execution_count": 32
        }
      ]
    },
    {
      "cell_type": "code",
      "source": [
        "from sklearn.pipeline import Pipeline\n",
        "from sklearn.preprocessing import StandardScaler\n",
        "from sklearn.impute import SimpleImputer\n",
        "from sklearn.preprocessing import OneHotEncoder\n",
        "from sklearn.compose import ColumnTransformer\n",
        "from sklearn.preprocessing import LabelEncoder"
      ],
      "metadata": {
        "id": "3RIdmB82PbtM"
      },
      "execution_count": null,
      "outputs": []
    },
    {
      "cell_type": "code",
      "source": [
        "num_pipeline = Pipeline([\n",
        "    (\"standardize\", StandardScaler()),\n",
        "])\n",
        "\n",
        "cat_pipeline = Pipeline([\n",
        "    (\"oneHot\", OneHotEncoder(drop='first', handle_unknown='ignore')),\n",
        "])\n",
        "\n",
        "preprocessing = ColumnTransformer([\n",
        "    (\"num\", num_pipeline, numerical_cols),\n",
        "    (\"cat\", cat_pipeline, categorical_cols),\n",
        "])"
      ],
      "metadata": {
        "id": "_cQpRLn-PrdU"
      },
      "execution_count": null,
      "outputs": []
    },
    {
      "cell_type": "code",
      "source": [
        "X_train_prepared=preprocessing.fit_transform(X_train)"
      ],
      "metadata": {
        "id": "xkHAGZYGQT_2"
      },
      "execution_count": null,
      "outputs": []
    },
    {
      "cell_type": "code",
      "source": [
        "import joblib\n",
        "joblib.dump(preprocessing, \"preprocessing_pipeline.joblib\")"
      ],
      "metadata": {
        "colab": {
          "base_uri": "https://localhost:8080/"
        },
        "id": "13KfHlS-dZFO",
        "outputId": "7ff28894-e23a-4bb7-e38b-821a7e979f18"
      },
      "execution_count": null,
      "outputs": [
        {
          "output_type": "execute_result",
          "data": {
            "text/plain": [
              "['preprocessing_pipeline.joblib']"
            ]
          },
          "metadata": {},
          "execution_count": 36
        }
      ]
    },
    {
      "cell_type": "code",
      "source": [
        "X_test_prepared=preprocessing.transform(X_test)"
      ],
      "metadata": {
        "colab": {
          "base_uri": "https://localhost:8080/"
        },
        "id": "cUkjy92yQ3wY",
        "outputId": "f7d44cb2-0e11-419d-b363-c287b4c23d60"
      },
      "execution_count": null,
      "outputs": [
        {
          "output_type": "stream",
          "name": "stderr",
          "text": [
            "/usr/local/lib/python3.11/dist-packages/sklearn/preprocessing/_encoders.py:246: UserWarning: Found unknown categories in columns [1, 2] during transform. These unknown categories will be encoded as all zeros\n",
            "  warnings.warn(\n"
          ]
        }
      ]
    },
    {
      "cell_type": "code",
      "source": [
        "X_train_prepared.shape"
      ],
      "metadata": {
        "colab": {
          "base_uri": "https://localhost:8080/"
        },
        "id": "ZoKC15B1UD-e",
        "outputId": "308a9517-60e7-4959-f0bb-c00e4ab9912d"
      },
      "execution_count": null,
      "outputs": [
        {
          "output_type": "execute_result",
          "data": {
            "text/plain": [
              "(175341, 191)"
            ]
          },
          "metadata": {},
          "execution_count": 38
        }
      ]
    },
    {
      "cell_type": "code",
      "source": [
        "numerical_feature_names = np.array(numerical_cols)\n",
        "categorical_feature_names = preprocessing.named_transformers_['cat'].get_feature_names_out(categorical_cols)\n",
        "all_feature_names = np.concatenate([numerical_feature_names, categorical_feature_names])\n"
      ],
      "metadata": {
        "id": "lvegldt97H6K"
      },
      "execution_count": null,
      "outputs": []
    },
    {
      "cell_type": "code",
      "source": [
        "all_feature_names"
      ],
      "metadata": {
        "colab": {
          "base_uri": "https://localhost:8080/"
        },
        "id": "JVSNQoFs8KE2",
        "outputId": "9f0ea760-f2b9-452c-dd26-e01ab068256a"
      },
      "execution_count": null,
      "outputs": [
        {
          "output_type": "execute_result",
          "data": {
            "text/plain": [
              "array(['dur', 'spkts', 'dpkts', 'sbytes', 'dbytes', 'rate', 'sttl',\n",
              "       'dttl', 'sload', 'dload', 'sloss', 'dloss', 'sinpkt', 'dinpkt',\n",
              "       'sjit', 'djit', 'swin', 'stcpb', 'dtcpb', 'dwin', 'tcprtt',\n",
              "       'synack', 'ackdat', 'smean', 'dmean', 'trans_depth',\n",
              "       'response_body_len', 'ct_srv_src', 'ct_state_ttl', 'ct_dst_ltm',\n",
              "       'ct_src_dport_ltm', 'ct_dst_sport_ltm', 'ct_dst_src_ltm',\n",
              "       'is_ftp_login', 'ct_ftp_cmd', 'ct_flw_http_mthd', 'ct_src_ltm',\n",
              "       'ct_srv_dst', 'is_sm_ips_ports', 'proto_a/n', 'proto_aes-sp3-d',\n",
              "       'proto_any', 'proto_argus', 'proto_aris', 'proto_arp',\n",
              "       'proto_ax.25', 'proto_bbn-rcc', 'proto_bna', 'proto_br-sat-mon',\n",
              "       'proto_cbt', 'proto_cftp', 'proto_chaos', 'proto_compaq-peer',\n",
              "       'proto_cphb', 'proto_cpnx', 'proto_crtp', 'proto_crudp',\n",
              "       'proto_dcn', 'proto_ddp', 'proto_ddx', 'proto_dgp', 'proto_egp',\n",
              "       'proto_eigrp', 'proto_emcon', 'proto_encap', 'proto_etherip',\n",
              "       'proto_fc', 'proto_fire', 'proto_ggp', 'proto_gmtp', 'proto_gre',\n",
              "       'proto_hmp', 'proto_i-nlsp', 'proto_iatp', 'proto_ib',\n",
              "       'proto_icmp', 'proto_idpr', 'proto_idpr-cmtp', 'proto_idrp',\n",
              "       'proto_ifmp', 'proto_igmp', 'proto_igp', 'proto_il', 'proto_ip',\n",
              "       'proto_ipcomp', 'proto_ipcv', 'proto_ipip', 'proto_iplt',\n",
              "       'proto_ipnip', 'proto_ippc', 'proto_ipv6', 'proto_ipv6-frag',\n",
              "       'proto_ipv6-no', 'proto_ipv6-opts', 'proto_ipv6-route',\n",
              "       'proto_ipx-n-ip', 'proto_irtp', 'proto_isis', 'proto_iso-ip',\n",
              "       'proto_iso-tp4', 'proto_kryptolan', 'proto_l2tp', 'proto_larp',\n",
              "       'proto_leaf-1', 'proto_leaf-2', 'proto_merit-inp', 'proto_mfe-nsp',\n",
              "       'proto_mhrp', 'proto_micp', 'proto_mobile', 'proto_mtp',\n",
              "       'proto_mux', 'proto_narp', 'proto_netblt', 'proto_nsfnet-igp',\n",
              "       'proto_nvp', 'proto_ospf', 'proto_pgm', 'proto_pim', 'proto_pipe',\n",
              "       'proto_pnni', 'proto_pri-enc', 'proto_prm', 'proto_ptp',\n",
              "       'proto_pup', 'proto_pvp', 'proto_qnx', 'proto_rdp', 'proto_rsvp',\n",
              "       'proto_rtp', 'proto_rvd', 'proto_sat-expak', 'proto_sat-mon',\n",
              "       'proto_sccopmce', 'proto_scps', 'proto_sctp', 'proto_sdrp',\n",
              "       'proto_secure-vmtp', 'proto_sep', 'proto_skip', 'proto_sm',\n",
              "       'proto_smp', 'proto_snp', 'proto_sprite-rpc', 'proto_sps',\n",
              "       'proto_srp', 'proto_st2', 'proto_stp', 'proto_sun-nd',\n",
              "       'proto_swipe', 'proto_tcf', 'proto_tcp', 'proto_tlsp',\n",
              "       'proto_tp++', 'proto_trunk-1', 'proto_trunk-2', 'proto_ttp',\n",
              "       'proto_udp', 'proto_unas', 'proto_uti', 'proto_vines',\n",
              "       'proto_visa', 'proto_vmtp', 'proto_vrrp', 'proto_wb-expak',\n",
              "       'proto_wb-mon', 'proto_wsn', 'proto_xnet', 'proto_xns-idp',\n",
              "       'proto_xtp', 'proto_zero', 'service_dhcp', 'service_dns',\n",
              "       'service_ftp', 'service_ftp-data', 'service_http', 'service_irc',\n",
              "       'service_pop3', 'service_radius', 'service_smtp', 'service_snmp',\n",
              "       'service_ssh', 'service_ssl', 'state_ECO', 'state_FIN',\n",
              "       'state_INT', 'state_PAR', 'state_REQ', 'state_RST', 'state_URN',\n",
              "       'state_no'], dtype=object)"
            ]
          },
          "metadata": {},
          "execution_count": 40
        }
      ]
    },
    {
      "cell_type": "code",
      "source": [
        "X_test_prepared.shape"
      ],
      "metadata": {
        "colab": {
          "base_uri": "https://localhost:8080/"
        },
        "id": "WaXb90yeULqc",
        "outputId": "406c5cfa-2786-4592-afb1-c4f98c44d121"
      },
      "execution_count": null,
      "outputs": [
        {
          "output_type": "execute_result",
          "data": {
            "text/plain": [
              "(82332, 191)"
            ]
          },
          "metadata": {},
          "execution_count": 41
        }
      ]
    },
    {
      "cell_type": "code",
      "source": [
        "# Note that the distinct values/labels in `y2` target are 1 and 2.\n",
        "pd.unique(y1_train)"
      ],
      "metadata": {
        "colab": {
          "base_uri": "https://localhost:8080/"
        },
        "id": "UEp0mqShUbzA",
        "outputId": "784bfc8b-1d16-4563-d1d7-c17358183bd9"
      },
      "execution_count": null,
      "outputs": [
        {
          "output_type": "execute_result",
          "data": {
            "text/plain": [
              "array(['Normal', 'Backdoor', 'Analysis', 'Fuzzers', 'Shellcode',\n",
              "       'Reconnaissance', 'Exploits', 'DoS', 'Worms', 'Generic'],\n",
              "      dtype=object)"
            ]
          },
          "metadata": {},
          "execution_count": 42
        }
      ]
    },
    {
      "cell_type": "code",
      "source": [
        "pd.unique(y2_train)"
      ],
      "metadata": {
        "colab": {
          "base_uri": "https://localhost:8080/"
        },
        "id": "TAI2NShxWzLh",
        "outputId": "078c2098-3188-460d-cf73-4d8dfb308808"
      },
      "execution_count": null,
      "outputs": [
        {
          "output_type": "execute_result",
          "data": {
            "text/plain": [
              "array([0, 1])"
            ]
          },
          "metadata": {},
          "execution_count": 43
        }
      ]
    },
    {
      "cell_type": "code",
      "source": [
        "target_trans = LabelEncoder()\n",
        "y2_train_prepared = target_trans.fit_transform(y2_train)\n",
        "y2_test_prepared = target_trans.transform(y2_test)\n"
      ],
      "metadata": {
        "id": "kG5vpWazW2-u"
      },
      "execution_count": null,
      "outputs": []
    },
    {
      "cell_type": "code",
      "source": [
        "y2_train_prepared.shape"
      ],
      "metadata": {
        "colab": {
          "base_uri": "https://localhost:8080/"
        },
        "id": "pmfRsQqvs2_G",
        "outputId": "73d19eef-6c05-4a5f-bf5e-35355e9018e9"
      },
      "execution_count": null,
      "outputs": [
        {
          "output_type": "execute_result",
          "data": {
            "text/plain": [
              "(175341,)"
            ]
          },
          "metadata": {},
          "execution_count": 45
        }
      ]
    },
    {
      "cell_type": "code",
      "source": [
        "y2_test_prepared.shape"
      ],
      "metadata": {
        "colab": {
          "base_uri": "https://localhost:8080/"
        },
        "id": "Q7MyE8E_bYW5",
        "outputId": "5074cbe2-a803-4e53-f579-87998849e0a0"
      },
      "execution_count": null,
      "outputs": [
        {
          "output_type": "execute_result",
          "data": {
            "text/plain": [
              "(82332,)"
            ]
          },
          "metadata": {},
          "execution_count": 46
        }
      ]
    },
    {
      "cell_type": "code",
      "source": [
        "from sklearn.tree import DecisionTreeClassifier"
      ],
      "metadata": {
        "id": "e3aUMJPCXzt0"
      },
      "execution_count": null,
      "outputs": []
    },
    {
      "cell_type": "code",
      "source": [
        "feature_names = np.concatenate([numerical_feature_names, categorical_feature_names])\n",
        "feature_names"
      ],
      "metadata": {
        "colab": {
          "base_uri": "https://localhost:8080/"
        },
        "id": "OJtKjNu3c1Wz",
        "outputId": "a6b6f6fe-3c82-4ff6-bc27-900791a7a323"
      },
      "execution_count": null,
      "outputs": [
        {
          "output_type": "execute_result",
          "data": {
            "text/plain": [
              "array(['dur', 'spkts', 'dpkts', 'sbytes', 'dbytes', 'rate', 'sttl',\n",
              "       'dttl', 'sload', 'dload', 'sloss', 'dloss', 'sinpkt', 'dinpkt',\n",
              "       'sjit', 'djit', 'swin', 'stcpb', 'dtcpb', 'dwin', 'tcprtt',\n",
              "       'synack', 'ackdat', 'smean', 'dmean', 'trans_depth',\n",
              "       'response_body_len', 'ct_srv_src', 'ct_state_ttl', 'ct_dst_ltm',\n",
              "       'ct_src_dport_ltm', 'ct_dst_sport_ltm', 'ct_dst_src_ltm',\n",
              "       'is_ftp_login', 'ct_ftp_cmd', 'ct_flw_http_mthd', 'ct_src_ltm',\n",
              "       'ct_srv_dst', 'is_sm_ips_ports', 'proto_a/n', 'proto_aes-sp3-d',\n",
              "       'proto_any', 'proto_argus', 'proto_aris', 'proto_arp',\n",
              "       'proto_ax.25', 'proto_bbn-rcc', 'proto_bna', 'proto_br-sat-mon',\n",
              "       'proto_cbt', 'proto_cftp', 'proto_chaos', 'proto_compaq-peer',\n",
              "       'proto_cphb', 'proto_cpnx', 'proto_crtp', 'proto_crudp',\n",
              "       'proto_dcn', 'proto_ddp', 'proto_ddx', 'proto_dgp', 'proto_egp',\n",
              "       'proto_eigrp', 'proto_emcon', 'proto_encap', 'proto_etherip',\n",
              "       'proto_fc', 'proto_fire', 'proto_ggp', 'proto_gmtp', 'proto_gre',\n",
              "       'proto_hmp', 'proto_i-nlsp', 'proto_iatp', 'proto_ib',\n",
              "       'proto_icmp', 'proto_idpr', 'proto_idpr-cmtp', 'proto_idrp',\n",
              "       'proto_ifmp', 'proto_igmp', 'proto_igp', 'proto_il', 'proto_ip',\n",
              "       'proto_ipcomp', 'proto_ipcv', 'proto_ipip', 'proto_iplt',\n",
              "       'proto_ipnip', 'proto_ippc', 'proto_ipv6', 'proto_ipv6-frag',\n",
              "       'proto_ipv6-no', 'proto_ipv6-opts', 'proto_ipv6-route',\n",
              "       'proto_ipx-n-ip', 'proto_irtp', 'proto_isis', 'proto_iso-ip',\n",
              "       'proto_iso-tp4', 'proto_kryptolan', 'proto_l2tp', 'proto_larp',\n",
              "       'proto_leaf-1', 'proto_leaf-2', 'proto_merit-inp', 'proto_mfe-nsp',\n",
              "       'proto_mhrp', 'proto_micp', 'proto_mobile', 'proto_mtp',\n",
              "       'proto_mux', 'proto_narp', 'proto_netblt', 'proto_nsfnet-igp',\n",
              "       'proto_nvp', 'proto_ospf', 'proto_pgm', 'proto_pim', 'proto_pipe',\n",
              "       'proto_pnni', 'proto_pri-enc', 'proto_prm', 'proto_ptp',\n",
              "       'proto_pup', 'proto_pvp', 'proto_qnx', 'proto_rdp', 'proto_rsvp',\n",
              "       'proto_rtp', 'proto_rvd', 'proto_sat-expak', 'proto_sat-mon',\n",
              "       'proto_sccopmce', 'proto_scps', 'proto_sctp', 'proto_sdrp',\n",
              "       'proto_secure-vmtp', 'proto_sep', 'proto_skip', 'proto_sm',\n",
              "       'proto_smp', 'proto_snp', 'proto_sprite-rpc', 'proto_sps',\n",
              "       'proto_srp', 'proto_st2', 'proto_stp', 'proto_sun-nd',\n",
              "       'proto_swipe', 'proto_tcf', 'proto_tcp', 'proto_tlsp',\n",
              "       'proto_tp++', 'proto_trunk-1', 'proto_trunk-2', 'proto_ttp',\n",
              "       'proto_udp', 'proto_unas', 'proto_uti', 'proto_vines',\n",
              "       'proto_visa', 'proto_vmtp', 'proto_vrrp', 'proto_wb-expak',\n",
              "       'proto_wb-mon', 'proto_wsn', 'proto_xnet', 'proto_xns-idp',\n",
              "       'proto_xtp', 'proto_zero', 'service_dhcp', 'service_dns',\n",
              "       'service_ftp', 'service_ftp-data', 'service_http', 'service_irc',\n",
              "       'service_pop3', 'service_radius', 'service_smtp', 'service_snmp',\n",
              "       'service_ssh', 'service_ssl', 'state_ECO', 'state_FIN',\n",
              "       'state_INT', 'state_PAR', 'state_REQ', 'state_RST', 'state_URN',\n",
              "       'state_no'], dtype=object)"
            ]
          },
          "metadata": {},
          "execution_count": 48
        }
      ]
    },
    {
      "cell_type": "code",
      "source": [
        "DTclf2 = DecisionTreeClassifier(criterion=\"entropy\", max_depth=12, min_samples_split=10, min_samples_leaf=5,\n",
        "                                max_features=0.8, ccp_alpha=0.001,\n",
        "                                class_weight=\"balanced\", random_state=42)\n",
        "DTclf2.fit(X_train_prepared, y2_train_prepared)"
      ],
      "metadata": {
        "colab": {
          "base_uri": "https://localhost:8080/",
          "height": 132
        },
        "id": "CMlTqVcvfdPt",
        "outputId": "aaf62970-f27d-41be-d80d-07ba07ed7b98"
      },
      "execution_count": null,
      "outputs": [
        {
          "output_type": "execute_result",
          "data": {
            "text/plain": [
              "DecisionTreeClassifier(ccp_alpha=0.001, class_weight='balanced',\n",
              "                       criterion='entropy', max_depth=12, max_features=0.8,\n",
              "                       min_samples_leaf=5, min_samples_split=10,\n",
              "                       random_state=42)"
            ],
            "text/html": [
              "<style>#sk-container-id-1 {\n",
              "  /* Definition of color scheme common for light and dark mode */\n",
              "  --sklearn-color-text: #000;\n",
              "  --sklearn-color-text-muted: #666;\n",
              "  --sklearn-color-line: gray;\n",
              "  /* Definition of color scheme for unfitted estimators */\n",
              "  --sklearn-color-unfitted-level-0: #fff5e6;\n",
              "  --sklearn-color-unfitted-level-1: #f6e4d2;\n",
              "  --sklearn-color-unfitted-level-2: #ffe0b3;\n",
              "  --sklearn-color-unfitted-level-3: chocolate;\n",
              "  /* Definition of color scheme for fitted estimators */\n",
              "  --sklearn-color-fitted-level-0: #f0f8ff;\n",
              "  --sklearn-color-fitted-level-1: #d4ebff;\n",
              "  --sklearn-color-fitted-level-2: #b3dbfd;\n",
              "  --sklearn-color-fitted-level-3: cornflowerblue;\n",
              "\n",
              "  /* Specific color for light theme */\n",
              "  --sklearn-color-text-on-default-background: var(--sg-text-color, var(--theme-code-foreground, var(--jp-content-font-color1, black)));\n",
              "  --sklearn-color-background: var(--sg-background-color, var(--theme-background, var(--jp-layout-color0, white)));\n",
              "  --sklearn-color-border-box: var(--sg-text-color, var(--theme-code-foreground, var(--jp-content-font-color1, black)));\n",
              "  --sklearn-color-icon: #696969;\n",
              "\n",
              "  @media (prefers-color-scheme: dark) {\n",
              "    /* Redefinition of color scheme for dark theme */\n",
              "    --sklearn-color-text-on-default-background: var(--sg-text-color, var(--theme-code-foreground, var(--jp-content-font-color1, white)));\n",
              "    --sklearn-color-background: var(--sg-background-color, var(--theme-background, var(--jp-layout-color0, #111)));\n",
              "    --sklearn-color-border-box: var(--sg-text-color, var(--theme-code-foreground, var(--jp-content-font-color1, white)));\n",
              "    --sklearn-color-icon: #878787;\n",
              "  }\n",
              "}\n",
              "\n",
              "#sk-container-id-1 {\n",
              "  color: var(--sklearn-color-text);\n",
              "}\n",
              "\n",
              "#sk-container-id-1 pre {\n",
              "  padding: 0;\n",
              "}\n",
              "\n",
              "#sk-container-id-1 input.sk-hidden--visually {\n",
              "  border: 0;\n",
              "  clip: rect(1px 1px 1px 1px);\n",
              "  clip: rect(1px, 1px, 1px, 1px);\n",
              "  height: 1px;\n",
              "  margin: -1px;\n",
              "  overflow: hidden;\n",
              "  padding: 0;\n",
              "  position: absolute;\n",
              "  width: 1px;\n",
              "}\n",
              "\n",
              "#sk-container-id-1 div.sk-dashed-wrapped {\n",
              "  border: 1px dashed var(--sklearn-color-line);\n",
              "  margin: 0 0.4em 0.5em 0.4em;\n",
              "  box-sizing: border-box;\n",
              "  padding-bottom: 0.4em;\n",
              "  background-color: var(--sklearn-color-background);\n",
              "}\n",
              "\n",
              "#sk-container-id-1 div.sk-container {\n",
              "  /* jupyter's `normalize.less` sets `[hidden] { display: none; }`\n",
              "     but bootstrap.min.css set `[hidden] { display: none !important; }`\n",
              "     so we also need the `!important` here to be able to override the\n",
              "     default hidden behavior on the sphinx rendered scikit-learn.org.\n",
              "     See: https://github.com/scikit-learn/scikit-learn/issues/21755 */\n",
              "  display: inline-block !important;\n",
              "  position: relative;\n",
              "}\n",
              "\n",
              "#sk-container-id-1 div.sk-text-repr-fallback {\n",
              "  display: none;\n",
              "}\n",
              "\n",
              "div.sk-parallel-item,\n",
              "div.sk-serial,\n",
              "div.sk-item {\n",
              "  /* draw centered vertical line to link estimators */\n",
              "  background-image: linear-gradient(var(--sklearn-color-text-on-default-background), var(--sklearn-color-text-on-default-background));\n",
              "  background-size: 2px 100%;\n",
              "  background-repeat: no-repeat;\n",
              "  background-position: center center;\n",
              "}\n",
              "\n",
              "/* Parallel-specific style estimator block */\n",
              "\n",
              "#sk-container-id-1 div.sk-parallel-item::after {\n",
              "  content: \"\";\n",
              "  width: 100%;\n",
              "  border-bottom: 2px solid var(--sklearn-color-text-on-default-background);\n",
              "  flex-grow: 1;\n",
              "}\n",
              "\n",
              "#sk-container-id-1 div.sk-parallel {\n",
              "  display: flex;\n",
              "  align-items: stretch;\n",
              "  justify-content: center;\n",
              "  background-color: var(--sklearn-color-background);\n",
              "  position: relative;\n",
              "}\n",
              "\n",
              "#sk-container-id-1 div.sk-parallel-item {\n",
              "  display: flex;\n",
              "  flex-direction: column;\n",
              "}\n",
              "\n",
              "#sk-container-id-1 div.sk-parallel-item:first-child::after {\n",
              "  align-self: flex-end;\n",
              "  width: 50%;\n",
              "}\n",
              "\n",
              "#sk-container-id-1 div.sk-parallel-item:last-child::after {\n",
              "  align-self: flex-start;\n",
              "  width: 50%;\n",
              "}\n",
              "\n",
              "#sk-container-id-1 div.sk-parallel-item:only-child::after {\n",
              "  width: 0;\n",
              "}\n",
              "\n",
              "/* Serial-specific style estimator block */\n",
              "\n",
              "#sk-container-id-1 div.sk-serial {\n",
              "  display: flex;\n",
              "  flex-direction: column;\n",
              "  align-items: center;\n",
              "  background-color: var(--sklearn-color-background);\n",
              "  padding-right: 1em;\n",
              "  padding-left: 1em;\n",
              "}\n",
              "\n",
              "\n",
              "/* Toggleable style: style used for estimator/Pipeline/ColumnTransformer box that is\n",
              "clickable and can be expanded/collapsed.\n",
              "- Pipeline and ColumnTransformer use this feature and define the default style\n",
              "- Estimators will overwrite some part of the style using the `sk-estimator` class\n",
              "*/\n",
              "\n",
              "/* Pipeline and ColumnTransformer style (default) */\n",
              "\n",
              "#sk-container-id-1 div.sk-toggleable {\n",
              "  /* Default theme specific background. It is overwritten whether we have a\n",
              "  specific estimator or a Pipeline/ColumnTransformer */\n",
              "  background-color: var(--sklearn-color-background);\n",
              "}\n",
              "\n",
              "/* Toggleable label */\n",
              "#sk-container-id-1 label.sk-toggleable__label {\n",
              "  cursor: pointer;\n",
              "  display: flex;\n",
              "  width: 100%;\n",
              "  margin-bottom: 0;\n",
              "  padding: 0.5em;\n",
              "  box-sizing: border-box;\n",
              "  text-align: center;\n",
              "  align-items: start;\n",
              "  justify-content: space-between;\n",
              "  gap: 0.5em;\n",
              "}\n",
              "\n",
              "#sk-container-id-1 label.sk-toggleable__label .caption {\n",
              "  font-size: 0.6rem;\n",
              "  font-weight: lighter;\n",
              "  color: var(--sklearn-color-text-muted);\n",
              "}\n",
              "\n",
              "#sk-container-id-1 label.sk-toggleable__label-arrow:before {\n",
              "  /* Arrow on the left of the label */\n",
              "  content: \"▸\";\n",
              "  float: left;\n",
              "  margin-right: 0.25em;\n",
              "  color: var(--sklearn-color-icon);\n",
              "}\n",
              "\n",
              "#sk-container-id-1 label.sk-toggleable__label-arrow:hover:before {\n",
              "  color: var(--sklearn-color-text);\n",
              "}\n",
              "\n",
              "/* Toggleable content - dropdown */\n",
              "\n",
              "#sk-container-id-1 div.sk-toggleable__content {\n",
              "  max-height: 0;\n",
              "  max-width: 0;\n",
              "  overflow: hidden;\n",
              "  text-align: left;\n",
              "  /* unfitted */\n",
              "  background-color: var(--sklearn-color-unfitted-level-0);\n",
              "}\n",
              "\n",
              "#sk-container-id-1 div.sk-toggleable__content.fitted {\n",
              "  /* fitted */\n",
              "  background-color: var(--sklearn-color-fitted-level-0);\n",
              "}\n",
              "\n",
              "#sk-container-id-1 div.sk-toggleable__content pre {\n",
              "  margin: 0.2em;\n",
              "  border-radius: 0.25em;\n",
              "  color: var(--sklearn-color-text);\n",
              "  /* unfitted */\n",
              "  background-color: var(--sklearn-color-unfitted-level-0);\n",
              "}\n",
              "\n",
              "#sk-container-id-1 div.sk-toggleable__content.fitted pre {\n",
              "  /* unfitted */\n",
              "  background-color: var(--sklearn-color-fitted-level-0);\n",
              "}\n",
              "\n",
              "#sk-container-id-1 input.sk-toggleable__control:checked~div.sk-toggleable__content {\n",
              "  /* Expand drop-down */\n",
              "  max-height: 200px;\n",
              "  max-width: 100%;\n",
              "  overflow: auto;\n",
              "}\n",
              "\n",
              "#sk-container-id-1 input.sk-toggleable__control:checked~label.sk-toggleable__label-arrow:before {\n",
              "  content: \"▾\";\n",
              "}\n",
              "\n",
              "/* Pipeline/ColumnTransformer-specific style */\n",
              "\n",
              "#sk-container-id-1 div.sk-label input.sk-toggleable__control:checked~label.sk-toggleable__label {\n",
              "  color: var(--sklearn-color-text);\n",
              "  background-color: var(--sklearn-color-unfitted-level-2);\n",
              "}\n",
              "\n",
              "#sk-container-id-1 div.sk-label.fitted input.sk-toggleable__control:checked~label.sk-toggleable__label {\n",
              "  background-color: var(--sklearn-color-fitted-level-2);\n",
              "}\n",
              "\n",
              "/* Estimator-specific style */\n",
              "\n",
              "/* Colorize estimator box */\n",
              "#sk-container-id-1 div.sk-estimator input.sk-toggleable__control:checked~label.sk-toggleable__label {\n",
              "  /* unfitted */\n",
              "  background-color: var(--sklearn-color-unfitted-level-2);\n",
              "}\n",
              "\n",
              "#sk-container-id-1 div.sk-estimator.fitted input.sk-toggleable__control:checked~label.sk-toggleable__label {\n",
              "  /* fitted */\n",
              "  background-color: var(--sklearn-color-fitted-level-2);\n",
              "}\n",
              "\n",
              "#sk-container-id-1 div.sk-label label.sk-toggleable__label,\n",
              "#sk-container-id-1 div.sk-label label {\n",
              "  /* The background is the default theme color */\n",
              "  color: var(--sklearn-color-text-on-default-background);\n",
              "}\n",
              "\n",
              "/* On hover, darken the color of the background */\n",
              "#sk-container-id-1 div.sk-label:hover label.sk-toggleable__label {\n",
              "  color: var(--sklearn-color-text);\n",
              "  background-color: var(--sklearn-color-unfitted-level-2);\n",
              "}\n",
              "\n",
              "/* Label box, darken color on hover, fitted */\n",
              "#sk-container-id-1 div.sk-label.fitted:hover label.sk-toggleable__label.fitted {\n",
              "  color: var(--sklearn-color-text);\n",
              "  background-color: var(--sklearn-color-fitted-level-2);\n",
              "}\n",
              "\n",
              "/* Estimator label */\n",
              "\n",
              "#sk-container-id-1 div.sk-label label {\n",
              "  font-family: monospace;\n",
              "  font-weight: bold;\n",
              "  display: inline-block;\n",
              "  line-height: 1.2em;\n",
              "}\n",
              "\n",
              "#sk-container-id-1 div.sk-label-container {\n",
              "  text-align: center;\n",
              "}\n",
              "\n",
              "/* Estimator-specific */\n",
              "#sk-container-id-1 div.sk-estimator {\n",
              "  font-family: monospace;\n",
              "  border: 1px dotted var(--sklearn-color-border-box);\n",
              "  border-radius: 0.25em;\n",
              "  box-sizing: border-box;\n",
              "  margin-bottom: 0.5em;\n",
              "  /* unfitted */\n",
              "  background-color: var(--sklearn-color-unfitted-level-0);\n",
              "}\n",
              "\n",
              "#sk-container-id-1 div.sk-estimator.fitted {\n",
              "  /* fitted */\n",
              "  background-color: var(--sklearn-color-fitted-level-0);\n",
              "}\n",
              "\n",
              "/* on hover */\n",
              "#sk-container-id-1 div.sk-estimator:hover {\n",
              "  /* unfitted */\n",
              "  background-color: var(--sklearn-color-unfitted-level-2);\n",
              "}\n",
              "\n",
              "#sk-container-id-1 div.sk-estimator.fitted:hover {\n",
              "  /* fitted */\n",
              "  background-color: var(--sklearn-color-fitted-level-2);\n",
              "}\n",
              "\n",
              "/* Specification for estimator info (e.g. \"i\" and \"?\") */\n",
              "\n",
              "/* Common style for \"i\" and \"?\" */\n",
              "\n",
              ".sk-estimator-doc-link,\n",
              "a:link.sk-estimator-doc-link,\n",
              "a:visited.sk-estimator-doc-link {\n",
              "  float: right;\n",
              "  font-size: smaller;\n",
              "  line-height: 1em;\n",
              "  font-family: monospace;\n",
              "  background-color: var(--sklearn-color-background);\n",
              "  border-radius: 1em;\n",
              "  height: 1em;\n",
              "  width: 1em;\n",
              "  text-decoration: none !important;\n",
              "  margin-left: 0.5em;\n",
              "  text-align: center;\n",
              "  /* unfitted */\n",
              "  border: var(--sklearn-color-unfitted-level-1) 1pt solid;\n",
              "  color: var(--sklearn-color-unfitted-level-1);\n",
              "}\n",
              "\n",
              ".sk-estimator-doc-link.fitted,\n",
              "a:link.sk-estimator-doc-link.fitted,\n",
              "a:visited.sk-estimator-doc-link.fitted {\n",
              "  /* fitted */\n",
              "  border: var(--sklearn-color-fitted-level-1) 1pt solid;\n",
              "  color: var(--sklearn-color-fitted-level-1);\n",
              "}\n",
              "\n",
              "/* On hover */\n",
              "div.sk-estimator:hover .sk-estimator-doc-link:hover,\n",
              ".sk-estimator-doc-link:hover,\n",
              "div.sk-label-container:hover .sk-estimator-doc-link:hover,\n",
              ".sk-estimator-doc-link:hover {\n",
              "  /* unfitted */\n",
              "  background-color: var(--sklearn-color-unfitted-level-3);\n",
              "  color: var(--sklearn-color-background);\n",
              "  text-decoration: none;\n",
              "}\n",
              "\n",
              "div.sk-estimator.fitted:hover .sk-estimator-doc-link.fitted:hover,\n",
              ".sk-estimator-doc-link.fitted:hover,\n",
              "div.sk-label-container:hover .sk-estimator-doc-link.fitted:hover,\n",
              ".sk-estimator-doc-link.fitted:hover {\n",
              "  /* fitted */\n",
              "  background-color: var(--sklearn-color-fitted-level-3);\n",
              "  color: var(--sklearn-color-background);\n",
              "  text-decoration: none;\n",
              "}\n",
              "\n",
              "/* Span, style for the box shown on hovering the info icon */\n",
              ".sk-estimator-doc-link span {\n",
              "  display: none;\n",
              "  z-index: 9999;\n",
              "  position: relative;\n",
              "  font-weight: normal;\n",
              "  right: .2ex;\n",
              "  padding: .5ex;\n",
              "  margin: .5ex;\n",
              "  width: min-content;\n",
              "  min-width: 20ex;\n",
              "  max-width: 50ex;\n",
              "  color: var(--sklearn-color-text);\n",
              "  box-shadow: 2pt 2pt 4pt #999;\n",
              "  /* unfitted */\n",
              "  background: var(--sklearn-color-unfitted-level-0);\n",
              "  border: .5pt solid var(--sklearn-color-unfitted-level-3);\n",
              "}\n",
              "\n",
              ".sk-estimator-doc-link.fitted span {\n",
              "  /* fitted */\n",
              "  background: var(--sklearn-color-fitted-level-0);\n",
              "  border: var(--sklearn-color-fitted-level-3);\n",
              "}\n",
              "\n",
              ".sk-estimator-doc-link:hover span {\n",
              "  display: block;\n",
              "}\n",
              "\n",
              "/* \"?\"-specific style due to the `<a>` HTML tag */\n",
              "\n",
              "#sk-container-id-1 a.estimator_doc_link {\n",
              "  float: right;\n",
              "  font-size: 1rem;\n",
              "  line-height: 1em;\n",
              "  font-family: monospace;\n",
              "  background-color: var(--sklearn-color-background);\n",
              "  border-radius: 1rem;\n",
              "  height: 1rem;\n",
              "  width: 1rem;\n",
              "  text-decoration: none;\n",
              "  /* unfitted */\n",
              "  color: var(--sklearn-color-unfitted-level-1);\n",
              "  border: var(--sklearn-color-unfitted-level-1) 1pt solid;\n",
              "}\n",
              "\n",
              "#sk-container-id-1 a.estimator_doc_link.fitted {\n",
              "  /* fitted */\n",
              "  border: var(--sklearn-color-fitted-level-1) 1pt solid;\n",
              "  color: var(--sklearn-color-fitted-level-1);\n",
              "}\n",
              "\n",
              "/* On hover */\n",
              "#sk-container-id-1 a.estimator_doc_link:hover {\n",
              "  /* unfitted */\n",
              "  background-color: var(--sklearn-color-unfitted-level-3);\n",
              "  color: var(--sklearn-color-background);\n",
              "  text-decoration: none;\n",
              "}\n",
              "\n",
              "#sk-container-id-1 a.estimator_doc_link.fitted:hover {\n",
              "  /* fitted */\n",
              "  background-color: var(--sklearn-color-fitted-level-3);\n",
              "}\n",
              "</style><div id=\"sk-container-id-1\" class=\"sk-top-container\"><div class=\"sk-text-repr-fallback\"><pre>DecisionTreeClassifier(ccp_alpha=0.001, class_weight=&#x27;balanced&#x27;,\n",
              "                       criterion=&#x27;entropy&#x27;, max_depth=12, max_features=0.8,\n",
              "                       min_samples_leaf=5, min_samples_split=10,\n",
              "                       random_state=42)</pre><b>In a Jupyter environment, please rerun this cell to show the HTML representation or trust the notebook. <br />On GitHub, the HTML representation is unable to render, please try loading this page with nbviewer.org.</b></div><div class=\"sk-container\" hidden><div class=\"sk-item\"><div class=\"sk-estimator fitted sk-toggleable\"><input class=\"sk-toggleable__control sk-hidden--visually\" id=\"sk-estimator-id-1\" type=\"checkbox\" checked><label for=\"sk-estimator-id-1\" class=\"sk-toggleable__label fitted sk-toggleable__label-arrow\"><div><div>DecisionTreeClassifier</div></div><div><a class=\"sk-estimator-doc-link fitted\" rel=\"noreferrer\" target=\"_blank\" href=\"https://scikit-learn.org/1.6/modules/generated/sklearn.tree.DecisionTreeClassifier.html\">?<span>Documentation for DecisionTreeClassifier</span></a><span class=\"sk-estimator-doc-link fitted\">i<span>Fitted</span></span></div></label><div class=\"sk-toggleable__content fitted\"><pre>DecisionTreeClassifier(ccp_alpha=0.001, class_weight=&#x27;balanced&#x27;,\n",
              "                       criterion=&#x27;entropy&#x27;, max_depth=12, max_features=0.8,\n",
              "                       min_samples_leaf=5, min_samples_split=10,\n",
              "                       random_state=42)</pre></div> </div></div></div></div>"
            ]
          },
          "metadata": {},
          "execution_count": 49
        }
      ]
    },
    {
      "cell_type": "code",
      "source": [
        "import joblib\n",
        "\n",
        "# Save the model to a file\n",
        "joblib.dump(DTclf2, 'decision_tree_model.joblib')"
      ],
      "metadata": {
        "colab": {
          "base_uri": "https://localhost:8080/"
        },
        "id": "ZCCl9canS6SW",
        "outputId": "57575ebf-2199-4141-aeed-01ce0322b3e1"
      },
      "execution_count": null,
      "outputs": [
        {
          "output_type": "execute_result",
          "data": {
            "text/plain": [
              "['decision_tree_model.joblib']"
            ]
          },
          "metadata": {},
          "execution_count": 50
        }
      ]
    },
    {
      "cell_type": "code",
      "source": [
        "importances = DTclf2.feature_importances_\n",
        "indices = np.argsort(importances)\n",
        "features = np.concatenate([numerical_feature_names, categorical_feature_names])\n",
        "plt.title('Feature Importances of Decision Tree Classifier')\n",
        "count = 10 # top # importance\n",
        "plt.barh(range(count), importances[indices][len(indices)-count:], color='g', align='center')\n",
        "plt.yticks(range(count), [features[i] for i in indices[len(indices)-count:]])\n",
        "plt.xlabel('Relative Importance')\n",
        "plt.show()"
      ],
      "metadata": {
        "colab": {
          "base_uri": "https://localhost:8080/",
          "height": 472
        },
        "id": "9jS-ulaVMPB9",
        "outputId": "bbd09cc8-f99d-4845-f134-8ab7b9022025"
      },
      "execution_count": null,
      "outputs": [
        {
          "output_type": "display_data",
          "data": {
            "text/plain": [
              "<Figure size 640x480 with 1 Axes>"
            ],
            "image/png": "[encoded data removed]"
          },
          "metadata": {}
        }
      ]
    },
    {
      "cell_type": "code",
      "source": [
        "DTclf2.feature_importances_"
      ],
      "metadata": {
        "colab": {
          "base_uri": "https://localhost:8080/"
        },
        "id": "6OMnKpSAMY80",
        "outputId": "4b317098-d14c-49ed-d2c7-89c2047dfc2d"
      },
      "execution_count": null,
      "outputs": [
        {
          "output_type": "execute_result",
          "data": {
            "text/plain": [
              "array([0.        , 0.00650084, 0.00393538, 0.08101047, 0.00703459,\n",
              "       0.        , 0.68349459, 0.        , 0.        , 0.        ,\n",
              "       0.0046044 , 0.        , 0.01114341, 0.        , 0.        ,\n",
              "       0.        , 0.00503692, 0.        , 0.        , 0.        ,\n",
              "       0.00204255, 0.00186018, 0.        , 0.07913831, 0.01153579,\n",
              "       0.        , 0.        , 0.        , 0.        , 0.        ,\n",
              "       0.        , 0.00214772, 0.06785791, 0.        , 0.        ,\n",
              "       0.        , 0.        , 0.02883506, 0.        , 0.        ,\n",
              "       0.        , 0.        , 0.        , 0.        , 0.00382188,\n",
              "       0.        , 0.        , 0.        , 0.        , 0.        ,\n",
              "       0.        , 0.        , 0.        , 0.        , 0.        ,\n",
              "       0.        , 0.        , 0.        , 0.        , 0.        ,\n",
              "       0.        , 0.        , 0.        , 0.        , 0.        ,\n",
              "       0.        , 0.        , 0.        , 0.        , 0.        ,\n",
              "       0.        , 0.        , 0.        , 0.        , 0.        ,\n",
              "       0.        , 0.        , 0.        , 0.        , 0.        ,\n",
              "       0.        , 0.        , 0.        , 0.        , 0.        ,\n",
              "       0.        , 0.        , 0.        , 0.        , 0.        ,\n",
              "       0.        , 0.        , 0.        , 0.        , 0.        ,\n",
              "       0.        , 0.        , 0.        , 0.        , 0.        ,\n",
              "       0.        , 0.        , 0.        , 0.        , 0.        ,\n",
              "       0.        , 0.        , 0.        , 0.        , 0.        ,\n",
              "       0.        , 0.        , 0.        , 0.        , 0.        ,\n",
              "       0.        , 0.        , 0.        , 0.        , 0.        ,\n",
              "       0.        , 0.        , 0.        , 0.        , 0.        ,\n",
              "       0.        , 0.        , 0.        , 0.        , 0.        ,\n",
              "       0.        , 0.        , 0.        , 0.        , 0.        ,\n",
              "       0.        , 0.        , 0.        , 0.        , 0.        ,\n",
              "       0.        , 0.        , 0.        , 0.        , 0.        ,\n",
              "       0.        , 0.        , 0.        , 0.        , 0.        ,\n",
              "       0.        , 0.        , 0.        , 0.        , 0.        ,\n",
              "       0.        , 0.        , 0.        , 0.        , 0.        ,\n",
              "       0.        , 0.        , 0.        , 0.        , 0.        ,\n",
              "       0.        , 0.        , 0.        , 0.        , 0.        ,\n",
              "       0.        , 0.        , 0.        , 0.        , 0.        ,\n",
              "       0.        , 0.        , 0.        , 0.        , 0.        ,\n",
              "       0.        , 0.        , 0.        , 0.        , 0.        ,\n",
              "       0.        , 0.        , 0.        , 0.        , 0.        ,\n",
              "       0.        ])"
            ]
          },
          "metadata": {},
          "execution_count": 52
        }
      ]
    },
    {
      "cell_type": "code",
      "source": [
        "from sklearn.tree import export_graphviz\n",
        "\n",
        "export_graphviz(\n",
        "        DTclf2,\n",
        "        out_file=str(\"DTclf2.dot\"),\n",
        "        feature_names=np.concatenate([numerical_feature_names, categorical_feature_names]),\n",
        "        class_names=['0','1'],\n",
        "        rounded=True,\n",
        "        filled=True\n",
        "    )\n",
        "from graphviz import Source\n",
        "\n",
        "Source.from_file(\"DTclf2.dot\")"
      ],
      "metadata": {
        "colab": {
          "base_uri": "https://localhost:8080/",
          "height": 1000
        },
        "id": "22Ia8Xy5gQcm",
        "outputId": "1efa6796-798d-47c0-d6aa-4e8c6b553cb6"
      },
      "execution_count": null,
      "outputs": [
        {
          "output_type": "execute_result",
          "data": {
            "image/svg+xml": "<?xml version=\"1.0\" encoding=\"UTF-8\" standalone=\"no\"?>\n<!DOCTYPE svg PUBLIC \"-//W3C//DTD SVG 1.1//EN\"\n \"http://www.w3.org/Graphics/SVG/1.1/DTD/svg11.dtd\">\n<!-- Generated by graphviz version 2.43.0 (0)\n -->\n<!-- Title: Tree Pages: 1 -->\n<svg width=\"2042pt\" height=\"1147pt\"\n viewBox=\"0.00 0.00 2042.00 1147.00\" xmlns=\"http://www.w3.org/2000/svg\" xmlns:xlink=\"http://www.w3.org/1999/xlink\">\n<g id=\"graph0\" class=\"graph\" transform=\"scale(1 1) rotate(0) translate(4 1143)\">\n<title>Tree</title>\n<polygon fill=\"white\" stroke=\"transparent\" points=\"-4,4 -4,-1143 2038,-1143 2038,4 -4,4\"/>\n<!-- 0 -->\n<g id=\"node1\" class=\"node\">\n<title>0</title>\n<path fill=\"#ffffff\" stroke=\"black\" d=\"M615,-1139C615,-1139 462,-1139 462,-1139 456,-1139 450,-1133 450,-1127 450,-1127 450,-1068 450,-1068 450,-1062 456,-1056 462,-1056 462,-1056 615,-1056 615,-1056 621,-1056 627,-1062 627,-1068 627,-1068 627,-1127 627,-1127 627,-1133 621,-1139 615,-1139\"/>\n<text text-anchor=\"middle\" x=\"538.5\" y=\"-1123.8\" font-family=\"Helvetica,sans-Serif\" font-size=\"14.00\">sttl &lt;= &#45;1.152</text>\n<text text-anchor=\"middle\" x=\"538.5\" y=\"-1108.8\" font-family=\"Helvetica,sans-Serif\" font-size=\"14.00\">entropy = 1.0</text>\n<text text-anchor=\"middle\" x=\"538.5\" y=\"-1093.8\" font-family=\"Helvetica,sans-Serif\" font-size=\"14.00\">samples = 175341</text>\n<text text-anchor=\"middle\" x=\"538.5\" y=\"-1078.8\" font-family=\"Helvetica,sans-Serif\" font-size=\"14.00\">value = [87670.5, 87670.5]</text>\n<text text-anchor=\"middle\" x=\"538.5\" y=\"-1063.8\" font-family=\"Helvetica,sans-Serif\" font-size=\"14.00\">class = 0</text>\n</g>\n<!-- 1 -->\n<g id=\"node2\" class=\"node\">\n<title>1</title>\n<path fill=\"#e5813a\" stroke=\"black\" d=\"M512,-1020C512,-1020 351,-1020 351,-1020 345,-1020 339,-1014 339,-1008 339,-1008 339,-949 339,-949 339,-943 345,-937 351,-937 351,-937 512,-937 512,-937 518,-937 524,-943 524,-949 524,-949 524,-1008 524,-1008 524,-1014 518,-1020 512,-1020\"/>\n<text text-anchor=\"middle\" x=\"431.5\" y=\"-1004.8\" font-family=\"Helvetica,sans-Serif\" font-size=\"14.00\">sinpkt &lt;= &#45;0.136</text>\n<text text-anchor=\"middle\" x=\"431.5\" y=\"-989.8\" font-family=\"Helvetica,sans-Serif\" font-size=\"14.00\">entropy = 0.032</text>\n<text text-anchor=\"middle\" x=\"431.5\" y=\"-974.8\" font-family=\"Helvetica,sans-Serif\" font-size=\"14.00\">samples = 42689</text>\n<text text-anchor=\"middle\" x=\"431.5\" y=\"-959.8\" font-family=\"Helvetica,sans-Serif\" font-size=\"14.00\">value = [66357.175, 222.59]</text>\n<text text-anchor=\"middle\" x=\"431.5\" y=\"-944.8\" font-family=\"Helvetica,sans-Serif\" font-size=\"14.00\">class = 0</text>\n</g>\n<!-- 0&#45;&gt;1 -->\n<g id=\"edge1\" class=\"edge\">\n<title>0&#45;&gt;1</title>\n<path fill=\"none\" stroke=\"black\" d=\"M501.38,-1055.91C492.99,-1046.74 484.02,-1036.93 475.39,-1027.49\"/>\n<polygon fill=\"black\" stroke=\"black\" points=\"477.89,-1025.04 468.56,-1020.02 472.72,-1029.76 477.89,-1025.04\"/>\n<text text-anchor=\"middle\" x=\"467.44\" y=\"-1041.3\" font-family=\"Helvetica,sans-Serif\" font-size=\"14.00\">True</text>\n</g>\n<!-- 6 -->\n<g id=\"node7\" class=\"node\">\n<title>6</title>\n<path fill=\"#69b5eb\" stroke=\"black\" d=\"M731.5,-1020C731.5,-1020 555.5,-1020 555.5,-1020 549.5,-1020 543.5,-1014 543.5,-1008 543.5,-1008 543.5,-949 543.5,-949 543.5,-943 549.5,-937 555.5,-937 555.5,-937 731.5,-937 731.5,-937 737.5,-937 743.5,-943 743.5,-949 743.5,-949 743.5,-1008 743.5,-1008 743.5,-1014 737.5,-1020 731.5,-1020\"/>\n<text text-anchor=\"middle\" x=\"643.5\" y=\"-1004.8\" font-family=\"Helvetica,sans-Serif\" font-size=\"14.00\">sbytes &lt;= &#45;0.049</text>\n<text text-anchor=\"middle\" x=\"643.5\" y=\"-989.8\" font-family=\"Helvetica,sans-Serif\" font-size=\"14.00\">entropy = 0.714</text>\n<text text-anchor=\"middle\" x=\"643.5\" y=\"-974.8\" font-family=\"Helvetica,sans-Serif\" font-size=\"14.00\">samples = 132652</text>\n<text text-anchor=\"middle\" x=\"643.5\" y=\"-959.8\" font-family=\"Helvetica,sans-Serif\" font-size=\"14.00\">value = [21313.325, 87447.91]</text>\n<text text-anchor=\"middle\" x=\"643.5\" y=\"-944.8\" font-family=\"Helvetica,sans-Serif\" font-size=\"14.00\">class = 1</text>\n</g>\n<!-- 0&#45;&gt;6 -->\n<g id=\"edge6\" class=\"edge\">\n<title>0&#45;&gt;6</title>\n<path fill=\"none\" stroke=\"black\" d=\"M574.93,-1055.91C583.15,-1046.74 591.96,-1036.93 600.43,-1027.49\"/>\n<polygon fill=\"black\" stroke=\"black\" points=\"603.06,-1029.8 607.14,-1020.02 597.85,-1025.13 603.06,-1029.8\"/>\n<text text-anchor=\"middle\" x=\"608.48\" y=\"-1041.28\" font-family=\"Helvetica,sans-Serif\" font-size=\"14.00\">False</text>\n</g>\n<!-- 2 -->\n<g id=\"node3\" class=\"node\">\n<title>2</title>\n<path fill=\"#f3c7a7\" stroke=\"black\" d=\"M319.5,-901C319.5,-901 173.5,-901 173.5,-901 167.5,-901 161.5,-895 161.5,-889 161.5,-889 161.5,-830 161.5,-830 161.5,-824 167.5,-818 173.5,-818 173.5,-818 319.5,-818 319.5,-818 325.5,-818 331.5,-824 331.5,-830 331.5,-830 331.5,-889 331.5,-889 331.5,-895 325.5,-901 319.5,-901\"/>\n<text text-anchor=\"middle\" x=\"246.5\" y=\"-885.8\" font-family=\"Helvetica,sans-Serif\" font-size=\"14.00\">proto_arp &lt;= 0.5</text>\n<text text-anchor=\"middle\" x=\"246.5\" y=\"-870.8\" font-family=\"Helvetica,sans-Serif\" font-size=\"14.00\">entropy = 0.94</text>\n<text text-anchor=\"middle\" x=\"246.5\" y=\"-855.8\" font-family=\"Helvetica,sans-Serif\" font-size=\"14.00\">samples = 559</text>\n<text text-anchor=\"middle\" x=\"246.5\" y=\"-840.8\" font-family=\"Helvetica,sans-Serif\" font-size=\"14.00\">value = [400.779, 222.59]</text>\n<text text-anchor=\"middle\" x=\"246.5\" y=\"-825.8\" font-family=\"Helvetica,sans-Serif\" font-size=\"14.00\">class = 0</text>\n</g>\n<!-- 1&#45;&gt;2 -->\n<g id=\"edge2\" class=\"edge\">\n<title>1&#45;&gt;2</title>\n<path fill=\"none\" stroke=\"black\" d=\"M367.32,-936.91C351.82,-927.11 335.15,-916.56 319.29,-906.53\"/>\n<polygon fill=\"black\" stroke=\"black\" points=\"320.89,-903.41 310.57,-901.02 317.15,-909.32 320.89,-903.41\"/>\n</g>\n<!-- 5 -->\n<g id=\"node6\" class=\"node\">\n<title>5</title>\n<path fill=\"#e58139\" stroke=\"black\" d=\"M500.5,-893.5C500.5,-893.5 362.5,-893.5 362.5,-893.5 356.5,-893.5 350.5,-887.5 350.5,-881.5 350.5,-881.5 350.5,-837.5 350.5,-837.5 350.5,-831.5 356.5,-825.5 362.5,-825.5 362.5,-825.5 500.5,-825.5 500.5,-825.5 506.5,-825.5 512.5,-831.5 512.5,-837.5 512.5,-837.5 512.5,-881.5 512.5,-881.5 512.5,-887.5 506.5,-893.5 500.5,-893.5\"/>\n<text text-anchor=\"middle\" x=\"431.5\" y=\"-878.3\" font-family=\"Helvetica,sans-Serif\" font-size=\"14.00\">entropy = &#45;0.0</text>\n<text text-anchor=\"middle\" x=\"431.5\" y=\"-863.3\" font-family=\"Helvetica,sans-Serif\" font-size=\"14.00\">samples = 42130</text>\n<text text-anchor=\"middle\" x=\"431.5\" y=\"-848.3\" font-family=\"Helvetica,sans-Serif\" font-size=\"14.00\">value = [65956.396, 0.0]</text>\n<text text-anchor=\"middle\" x=\"431.5\" y=\"-833.3\" font-family=\"Helvetica,sans-Serif\" font-size=\"14.00\">class = 0</text>\n</g>\n<!-- 1&#45;&gt;5 -->\n<g id=\"edge5\" class=\"edge\">\n<title>1&#45;&gt;5</title>\n<path fill=\"none\" stroke=\"black\" d=\"M431.5,-936.91C431.5,-926.2 431.5,-914.62 431.5,-903.78\"/>\n<polygon fill=\"black\" stroke=\"black\" points=\"435,-903.67 431.5,-893.67 428,-903.67 435,-903.67\"/>\n</g>\n<!-- 3 -->\n<g id=\"node4\" class=\"node\">\n<title>3</title>\n<path fill=\"#40a0e6\" stroke=\"black\" d=\"M143,-774.5C143,-774.5 12,-774.5 12,-774.5 6,-774.5 0,-768.5 0,-762.5 0,-762.5 0,-718.5 0,-718.5 0,-712.5 6,-706.5 12,-706.5 12,-706.5 143,-706.5 143,-706.5 149,-706.5 155,-712.5 155,-718.5 155,-718.5 155,-762.5 155,-762.5 155,-768.5 149,-774.5 143,-774.5\"/>\n<text text-anchor=\"middle\" x=\"77.5\" y=\"-759.3\" font-family=\"Helvetica,sans-Serif\" font-size=\"14.00\">entropy = 0.214</text>\n<text text-anchor=\"middle\" x=\"77.5\" y=\"-744.3\" font-family=\"Helvetica,sans-Serif\" font-size=\"14.00\">samples = 308</text>\n<text text-anchor=\"middle\" x=\"77.5\" y=\"-729.3\" font-family=\"Helvetica,sans-Serif\" font-size=\"14.00\">value = [7.828, 222.59]</text>\n<text text-anchor=\"middle\" x=\"77.5\" y=\"-714.3\" font-family=\"Helvetica,sans-Serif\" font-size=\"14.00\">class = 1</text>\n</g>\n<!-- 2&#45;&gt;3 -->\n<g id=\"edge3\" class=\"edge\">\n<title>2&#45;&gt;3</title>\n<path fill=\"none\" stroke=\"black\" d=\"M187.87,-817.91C170.33,-805.77 151.16,-792.49 133.78,-780.46\"/>\n<polygon fill=\"black\" stroke=\"black\" points=\"135.62,-777.48 125.41,-774.67 131.64,-783.24 135.62,-777.48\"/>\n</g>\n<!-- 4 -->\n<g id=\"node5\" class=\"node\">\n<title>4</title>\n<path fill=\"#e58139\" stroke=\"black\" d=\"M308,-774.5C308,-774.5 185,-774.5 185,-774.5 179,-774.5 173,-768.5 173,-762.5 173,-762.5 173,-718.5 173,-718.5 173,-712.5 179,-706.5 185,-706.5 185,-706.5 308,-706.5 308,-706.5 314,-706.5 320,-712.5 320,-718.5 320,-718.5 320,-762.5 320,-762.5 320,-768.5 314,-774.5 308,-774.5\"/>\n<text text-anchor=\"middle\" x=\"246.5\" y=\"-759.3\" font-family=\"Helvetica,sans-Serif\" font-size=\"14.00\">entropy = 0.0</text>\n<text text-anchor=\"middle\" x=\"246.5\" y=\"-744.3\" font-family=\"Helvetica,sans-Serif\" font-size=\"14.00\">samples = 251</text>\n<text text-anchor=\"middle\" x=\"246.5\" y=\"-729.3\" font-family=\"Helvetica,sans-Serif\" font-size=\"14.00\">value = [392.952, 0.0]</text>\n<text text-anchor=\"middle\" x=\"246.5\" y=\"-714.3\" font-family=\"Helvetica,sans-Serif\" font-size=\"14.00\">class = 0</text>\n</g>\n<!-- 2&#45;&gt;4 -->\n<g id=\"edge4\" class=\"edge\">\n<title>2&#45;&gt;4</title>\n<path fill=\"none\" stroke=\"black\" d=\"M246.5,-817.91C246.5,-807.2 246.5,-795.62 246.5,-784.78\"/>\n<polygon fill=\"black\" stroke=\"black\" points=\"250,-784.67 246.5,-774.67 243,-784.67 250,-784.67\"/>\n</g>\n<!-- 7 -->\n<g id=\"node8\" class=\"node\">\n<title>7</title>\n<path fill=\"#44a2e6\" stroke=\"black\" d=\"M731.5,-901C731.5,-901 555.5,-901 555.5,-901 549.5,-901 543.5,-895 543.5,-889 543.5,-889 543.5,-830 543.5,-830 543.5,-824 549.5,-818 555.5,-818 555.5,-818 731.5,-818 731.5,-818 737.5,-818 743.5,-824 743.5,-830 743.5,-830 743.5,-889 743.5,-889 743.5,-895 737.5,-901 731.5,-901\"/>\n<text text-anchor=\"middle\" x=\"643.5\" y=\"-885.8\" font-family=\"Helvetica,sans-Serif\" font-size=\"14.00\">smean &lt;= &#45;0.402</text>\n<text text-anchor=\"middle\" x=\"643.5\" y=\"-870.8\" font-family=\"Helvetica,sans-Serif\" font-size=\"14.00\">entropy = 0.297</text>\n<text text-anchor=\"middle\" x=\"643.5\" y=\"-855.8\" font-family=\"Helvetica,sans-Serif\" font-size=\"14.00\">samples = 72529</text>\n<text text-anchor=\"middle\" x=\"643.5\" y=\"-840.8\" font-family=\"Helvetica,sans-Serif\" font-size=\"14.00\">value = [2875.906, 51931.884]</text>\n<text text-anchor=\"middle\" x=\"643.5\" y=\"-825.8\" font-family=\"Helvetica,sans-Serif\" font-size=\"14.00\">class = 1</text>\n</g>\n<!-- 6&#45;&gt;7 -->\n<g id=\"edge7\" class=\"edge\">\n<title>6&#45;&gt;7</title>\n<path fill=\"none\" stroke=\"black\" d=\"M643.5,-936.91C643.5,-928.65 643.5,-919.86 643.5,-911.3\"/>\n<polygon fill=\"black\" stroke=\"black\" points=\"647,-911.02 643.5,-901.02 640,-911.02 647,-911.02\"/>\n</g>\n<!-- 16 -->\n<g id=\"node17\" class=\"node\">\n<title>16</title>\n<path fill=\"#a0d0f2\" stroke=\"black\" d=\"M1201,-901C1201,-901 1018,-901 1018,-901 1012,-901 1006,-895 1006,-889 1006,-889 1006,-830 1006,-830 1006,-824 1012,-818 1018,-818 1018,-818 1201,-818 1201,-818 1207,-818 1213,-824 1213,-830 1213,-830 1213,-889 1213,-889 1213,-895 1207,-901 1201,-901\"/>\n<text text-anchor=\"middle\" x=\"1109.5\" y=\"-885.8\" font-family=\"Helvetica,sans-Serif\" font-size=\"14.00\">ct_dst_src_ltm &lt;= &#45;0.66</text>\n<text text-anchor=\"middle\" x=\"1109.5\" y=\"-870.8\" font-family=\"Helvetica,sans-Serif\" font-size=\"14.00\">entropy = 0.926</text>\n<text text-anchor=\"middle\" x=\"1109.5\" y=\"-855.8\" font-family=\"Helvetica,sans-Serif\" font-size=\"14.00\">samples = 60123</text>\n<text text-anchor=\"middle\" x=\"1109.5\" y=\"-840.8\" font-family=\"Helvetica,sans-Serif\" font-size=\"14.00\">value = [18437.419, 35516.025]</text>\n<text text-anchor=\"middle\" x=\"1109.5\" y=\"-825.8\" font-family=\"Helvetica,sans-Serif\" font-size=\"14.00\">class = 1</text>\n</g>\n<!-- 6&#45;&gt;16 -->\n<g id=\"edge16\" class=\"edge\">\n<title>6&#45;&gt;16</title>\n<path fill=\"none\" stroke=\"black\" d=\"M743.75,-952.33C817.89,-933.72 918.93,-908.35 996.03,-888.99\"/>\n<polygon fill=\"black\" stroke=\"black\" points=\"996.94,-892.37 1005.79,-886.54 995.24,-885.58 996.94,-892.37\"/>\n</g>\n<!-- 8 -->\n<g id=\"node9\" class=\"node\">\n<title>8</title>\n<path fill=\"#f6d2b8\" stroke=\"black\" d=\"M518.5,-782C518.5,-782 350.5,-782 350.5,-782 344.5,-782 338.5,-776 338.5,-770 338.5,-770 338.5,-711 338.5,-711 338.5,-705 344.5,-699 350.5,-699 350.5,-699 518.5,-699 518.5,-699 524.5,-699 530.5,-705 530.5,-711 530.5,-711 530.5,-770 530.5,-770 530.5,-776 524.5,-782 518.5,-782\"/>\n<text text-anchor=\"middle\" x=\"434.5\" y=\"-766.8\" font-family=\"Helvetica,sans-Serif\" font-size=\"14.00\">swin &lt;= &#45;0.86</text>\n<text text-anchor=\"middle\" x=\"434.5\" y=\"-751.8\" font-family=\"Helvetica,sans-Serif\" font-size=\"14.00\">entropy = 0.965</text>\n<text text-anchor=\"middle\" x=\"434.5\" y=\"-736.8\" font-family=\"Helvetica,sans-Serif\" font-size=\"14.00\">samples = 4169</text>\n<text text-anchor=\"middle\" x=\"434.5\" y=\"-721.8\" font-family=\"Helvetica,sans-Serif\" font-size=\"14.00\">value = [2761.621, 1766.765]</text>\n<text text-anchor=\"middle\" x=\"434.5\" y=\"-706.8\" font-family=\"Helvetica,sans-Serif\" font-size=\"14.00\">class = 0</text>\n</g>\n<!-- 7&#45;&gt;8 -->\n<g id=\"edge8\" class=\"edge\">\n<title>7&#45;&gt;8</title>\n<path fill=\"none\" stroke=\"black\" d=\"M570.99,-817.91C553.16,-807.92 533.95,-797.17 515.73,-786.98\"/>\n<polygon fill=\"black\" stroke=\"black\" points=\"517.32,-783.85 506.88,-782.02 513.9,-789.96 517.32,-783.85\"/>\n</g>\n<!-- 13 -->\n<g id=\"node14\" class=\"node\">\n<title>13</title>\n<path fill=\"#399de5\" stroke=\"black\" d=\"M728.5,-782C728.5,-782 560.5,-782 560.5,-782 554.5,-782 548.5,-776 548.5,-770 548.5,-770 548.5,-711 548.5,-711 548.5,-705 554.5,-699 560.5,-699 560.5,-699 728.5,-699 728.5,-699 734.5,-699 740.5,-705 740.5,-711 740.5,-711 740.5,-770 740.5,-770 740.5,-776 734.5,-782 728.5,-782\"/>\n<text text-anchor=\"middle\" x=\"644.5\" y=\"-766.8\" font-family=\"Helvetica,sans-Serif\" font-size=\"14.00\">ct_dst_sport_ltm &lt;= &#45;0.468</text>\n<text text-anchor=\"middle\" x=\"644.5\" y=\"-751.8\" font-family=\"Helvetica,sans-Serif\" font-size=\"14.00\">entropy = 0.023</text>\n<text text-anchor=\"middle\" x=\"644.5\" y=\"-736.8\" font-family=\"Helvetica,sans-Serif\" font-size=\"14.00\">samples = 68360</text>\n<text text-anchor=\"middle\" x=\"644.5\" y=\"-721.8\" font-family=\"Helvetica,sans-Serif\" font-size=\"14.00\">value = [114.285, 50165.119]</text>\n<text text-anchor=\"middle\" x=\"644.5\" y=\"-706.8\" font-family=\"Helvetica,sans-Serif\" font-size=\"14.00\">class = 1</text>\n</g>\n<!-- 7&#45;&gt;13 -->\n<g id=\"edge13\" class=\"edge\">\n<title>7&#45;&gt;13</title>\n<path fill=\"none\" stroke=\"black\" d=\"M643.85,-817.91C643.92,-809.65 643.99,-800.86 644.07,-792.3\"/>\n<polygon fill=\"black\" stroke=\"black\" points=\"647.57,-792.05 644.15,-782.02 640.57,-791.99 647.57,-792.05\"/>\n</g>\n<!-- 9 -->\n<g id=\"node10\" class=\"node\">\n<title>9</title>\n<path fill=\"#fefcfa\" stroke=\"black\" d=\"M319.5,-663C319.5,-663 151.5,-663 151.5,-663 145.5,-663 139.5,-657 139.5,-651 139.5,-651 139.5,-592 139.5,-592 139.5,-586 145.5,-580 151.5,-580 151.5,-580 319.5,-580 319.5,-580 325.5,-580 331.5,-586 331.5,-592 331.5,-592 331.5,-651 331.5,-651 331.5,-657 325.5,-663 319.5,-663\"/>\n<text text-anchor=\"middle\" x=\"235.5\" y=\"-647.8\" font-family=\"Helvetica,sans-Serif\" font-size=\"14.00\">ct_srv_dst &lt;= &#45;0.335</text>\n<text text-anchor=\"middle\" x=\"235.5\" y=\"-632.8\" font-family=\"Helvetica,sans-Serif\" font-size=\"14.00\">entropy = 1.0</text>\n<text text-anchor=\"middle\" x=\"235.5\" y=\"-617.8\" font-family=\"Helvetica,sans-Serif\" font-size=\"14.00\">samples = 3535</text>\n<text text-anchor=\"middle\" x=\"235.5\" y=\"-602.8\" font-family=\"Helvetica,sans-Serif\" font-size=\"14.00\">value = [1800.376, 1752.073]</text>\n<text text-anchor=\"middle\" x=\"235.5\" y=\"-587.8\" font-family=\"Helvetica,sans-Serif\" font-size=\"14.00\">class = 0</text>\n</g>\n<!-- 8&#45;&gt;9 -->\n<g id=\"edge9\" class=\"edge\">\n<title>8&#45;&gt;9</title>\n<path fill=\"none\" stroke=\"black\" d=\"M365.46,-698.91C348.63,-689.02 330.52,-678.37 313.32,-668.25\"/>\n<polygon fill=\"black\" stroke=\"black\" points=\"314.81,-665.07 304.42,-663.02 311.27,-671.11 314.81,-665.07\"/>\n</g>\n<!-- 12 -->\n<g id=\"node13\" class=\"node\">\n<title>12</title>\n<path fill=\"#e5833c\" stroke=\"black\" d=\"M507.5,-655.5C507.5,-655.5 361.5,-655.5 361.5,-655.5 355.5,-655.5 349.5,-649.5 349.5,-643.5 349.5,-643.5 349.5,-599.5 349.5,-599.5 349.5,-593.5 355.5,-587.5 361.5,-587.5 361.5,-587.5 507.5,-587.5 507.5,-587.5 513.5,-587.5 519.5,-593.5 519.5,-599.5 519.5,-599.5 519.5,-643.5 519.5,-643.5 519.5,-649.5 513.5,-655.5 507.5,-655.5\"/>\n<text text-anchor=\"middle\" x=\"434.5\" y=\"-640.3\" font-family=\"Helvetica,sans-Serif\" font-size=\"14.00\">entropy = 0.113</text>\n<text text-anchor=\"middle\" x=\"434.5\" y=\"-625.3\" font-family=\"Helvetica,sans-Serif\" font-size=\"14.00\">samples = 634</text>\n<text text-anchor=\"middle\" x=\"434.5\" y=\"-610.3\" font-family=\"Helvetica,sans-Serif\" font-size=\"14.00\">value = [961.244, 14.692]</text>\n<text text-anchor=\"middle\" x=\"434.5\" y=\"-595.3\" font-family=\"Helvetica,sans-Serif\" font-size=\"14.00\">class = 0</text>\n</g>\n<!-- 8&#45;&gt;12 -->\n<g id=\"edge12\" class=\"edge\">\n<title>8&#45;&gt;12</title>\n<path fill=\"none\" stroke=\"black\" d=\"M434.5,-698.91C434.5,-688.2 434.5,-676.62 434.5,-665.78\"/>\n<polygon fill=\"black\" stroke=\"black\" points=\"438,-665.67 434.5,-655.67 431,-665.67 438,-665.67\"/>\n</g>\n<!-- 10 -->\n<g id=\"node11\" class=\"node\">\n<title>10</title>\n<path fill=\"#a5d3f3\" stroke=\"black\" d=\"M213,-536.5C213,-536.5 60,-536.5 60,-536.5 54,-536.5 48,-530.5 48,-524.5 48,-524.5 48,-480.5 48,-480.5 48,-474.5 54,-468.5 60,-468.5 60,-468.5 213,-468.5 213,-468.5 219,-468.5 225,-474.5 225,-480.5 225,-480.5 225,-524.5 225,-524.5 225,-530.5 219,-536.5 213,-536.5\"/>\n<text text-anchor=\"middle\" x=\"136.5\" y=\"-521.3\" font-family=\"Helvetica,sans-Serif\" font-size=\"14.00\">entropy = 0.937</text>\n<text text-anchor=\"middle\" x=\"136.5\" y=\"-506.3\" font-family=\"Helvetica,sans-Serif\" font-size=\"14.00\">samples = 2112</text>\n<text text-anchor=\"middle\" x=\"136.5\" y=\"-491.3\" font-family=\"Helvetica,sans-Serif\" font-size=\"14.00\">value = [674.75, 1234.899]</text>\n<text text-anchor=\"middle\" x=\"136.5\" y=\"-476.3\" font-family=\"Helvetica,sans-Serif\" font-size=\"14.00\">class = 1</text>\n</g>\n<!-- 9&#45;&gt;10 -->\n<g id=\"edge10\" class=\"edge\">\n<title>9&#45;&gt;10</title>\n<path fill=\"none\" stroke=\"black\" d=\"M201.15,-579.91C191.44,-568.43 180.87,-555.94 171.14,-544.44\"/>\n<polygon fill=\"black\" stroke=\"black\" points=\"173.7,-542.04 164.56,-536.67 168.35,-546.56 173.7,-542.04\"/>\n</g>\n<!-- 11 -->\n<g id=\"node12\" class=\"node\">\n<title>11</title>\n<path fill=\"#f1bb94\" stroke=\"black\" d=\"M416,-536.5C416,-536.5 255,-536.5 255,-536.5 249,-536.5 243,-530.5 243,-524.5 243,-524.5 243,-480.5 243,-480.5 243,-474.5 249,-468.5 255,-468.5 255,-468.5 416,-468.5 416,-468.5 422,-468.5 428,-474.5 428,-480.5 428,-480.5 428,-524.5 428,-524.5 428,-530.5 422,-536.5 416,-536.5\"/>\n<text text-anchor=\"middle\" x=\"335.5\" y=\"-521.3\" font-family=\"Helvetica,sans-Serif\" font-size=\"14.00\">entropy = 0.899</text>\n<text text-anchor=\"middle\" x=\"335.5\" y=\"-506.3\" font-family=\"Helvetica,sans-Serif\" font-size=\"14.00\">samples = 1423</text>\n<text text-anchor=\"middle\" x=\"335.5\" y=\"-491.3\" font-family=\"Helvetica,sans-Serif\" font-size=\"14.00\">value = [1125.627, 517.174]</text>\n<text text-anchor=\"middle\" x=\"335.5\" y=\"-476.3\" font-family=\"Helvetica,sans-Serif\" font-size=\"14.00\">class = 0</text>\n</g>\n<!-- 9&#45;&gt;11 -->\n<g id=\"edge11\" class=\"edge\">\n<title>9&#45;&gt;11</title>\n<path fill=\"none\" stroke=\"black\" d=\"M270.19,-579.91C280,-568.43 290.68,-555.94 300.51,-544.44\"/>\n<polygon fill=\"black\" stroke=\"black\" points=\"303.32,-546.54 307.15,-536.67 297.99,-541.99 303.32,-546.54\"/>\n</g>\n<!-- 14 -->\n<g id=\"node15\" class=\"node\">\n<title>14</title>\n<path fill=\"#3c9ee5\" stroke=\"black\" d=\"M711,-655.5C711,-655.5 550,-655.5 550,-655.5 544,-655.5 538,-649.5 538,-643.5 538,-643.5 538,-599.5 538,-599.5 538,-593.5 544,-587.5 550,-587.5 550,-587.5 711,-587.5 711,-587.5 717,-587.5 723,-593.5 723,-599.5 723,-599.5 723,-643.5 723,-643.5 723,-649.5 717,-655.5 711,-655.5\"/>\n<text text-anchor=\"middle\" x=\"630.5\" y=\"-640.3\" font-family=\"Helvetica,sans-Serif\" font-size=\"14.00\">entropy = 0.107</text>\n<text text-anchor=\"middle\" x=\"630.5\" y=\"-625.3\" font-family=\"Helvetica,sans-Serif\" font-size=\"14.00\">samples = 10966</text>\n<text text-anchor=\"middle\" x=\"630.5\" y=\"-610.3\" font-family=\"Helvetica,sans-Serif\" font-size=\"14.00\">value = [114.285, 8002.235]</text>\n<text text-anchor=\"middle\" x=\"630.5\" y=\"-595.3\" font-family=\"Helvetica,sans-Serif\" font-size=\"14.00\">class = 1</text>\n</g>\n<!-- 13&#45;&gt;14 -->\n<g id=\"edge14\" class=\"edge\">\n<title>13&#45;&gt;14</title>\n<path fill=\"none\" stroke=\"black\" d=\"M639.64,-698.91C638.36,-688.2 636.98,-676.62 635.68,-665.78\"/>\n<polygon fill=\"black\" stroke=\"black\" points=\"639.13,-665.18 634.47,-655.67 632.18,-666.01 639.13,-665.18\"/>\n</g>\n<!-- 15 -->\n<g id=\"node16\" class=\"node\">\n<title>15</title>\n<path fill=\"#399de5\" stroke=\"black\" d=\"M891.5,-655.5C891.5,-655.5 753.5,-655.5 753.5,-655.5 747.5,-655.5 741.5,-649.5 741.5,-643.5 741.5,-643.5 741.5,-599.5 741.5,-599.5 741.5,-593.5 747.5,-587.5 753.5,-587.5 753.5,-587.5 891.5,-587.5 891.5,-587.5 897.5,-587.5 903.5,-593.5 903.5,-599.5 903.5,-599.5 903.5,-643.5 903.5,-643.5 903.5,-649.5 897.5,-655.5 891.5,-655.5\"/>\n<text text-anchor=\"middle\" x=\"822.5\" y=\"-640.3\" font-family=\"Helvetica,sans-Serif\" font-size=\"14.00\">entropy = &#45;0.0</text>\n<text text-anchor=\"middle\" x=\"822.5\" y=\"-625.3\" font-family=\"Helvetica,sans-Serif\" font-size=\"14.00\">samples = 57394</text>\n<text text-anchor=\"middle\" x=\"822.5\" y=\"-610.3\" font-family=\"Helvetica,sans-Serif\" font-size=\"14.00\">value = [0.0, 42162.883]</text>\n<text text-anchor=\"middle\" x=\"822.5\" y=\"-595.3\" font-family=\"Helvetica,sans-Serif\" font-size=\"14.00\">class = 1</text>\n</g>\n<!-- 13&#45;&gt;15 -->\n<g id=\"edge15\" class=\"edge\">\n<title>13&#45;&gt;15</title>\n<path fill=\"none\" stroke=\"black\" d=\"M706.26,-698.91C724.72,-686.77 744.92,-673.49 763.22,-661.46\"/>\n<polygon fill=\"black\" stroke=\"black\" points=\"765.61,-664.08 772.04,-655.67 761.76,-658.23 765.61,-664.08\"/>\n</g>\n<!-- 17 -->\n<g id=\"node18\" class=\"node\">\n<title>17</title>\n<path fill=\"#49a5e7\" stroke=\"black\" d=\"M1197.5,-782C1197.5,-782 1021.5,-782 1021.5,-782 1015.5,-782 1009.5,-776 1009.5,-770 1009.5,-770 1009.5,-711 1009.5,-711 1009.5,-705 1015.5,-699 1021.5,-699 1021.5,-699 1197.5,-699 1197.5,-699 1203.5,-699 1209.5,-705 1209.5,-711 1209.5,-711 1209.5,-770 1209.5,-770 1209.5,-776 1203.5,-782 1197.5,-782\"/>\n<text text-anchor=\"middle\" x=\"1109.5\" y=\"-766.8\" font-family=\"Helvetica,sans-Serif\" font-size=\"14.00\">dbytes &lt;= &#45;0.094</text>\n<text text-anchor=\"middle\" x=\"1109.5\" y=\"-751.8\" font-family=\"Helvetica,sans-Serif\" font-size=\"14.00\">entropy = 0.385</text>\n<text text-anchor=\"middle\" x=\"1109.5\" y=\"-736.8\" font-family=\"Helvetica,sans-Serif\" font-size=\"14.00\">samples = 28584</text>\n<text text-anchor=\"middle\" x=\"1109.5\" y=\"-721.8\" font-family=\"Helvetica,sans-Serif\" font-size=\"14.00\">value = [1645.387, 20226.342]</text>\n<text text-anchor=\"middle\" x=\"1109.5\" y=\"-706.8\" font-family=\"Helvetica,sans-Serif\" font-size=\"14.00\">class = 1</text>\n</g>\n<!-- 16&#45;&gt;17 -->\n<g id=\"edge17\" class=\"edge\">\n<title>16&#45;&gt;17</title>\n<path fill=\"none\" stroke=\"black\" d=\"M1109.5,-817.91C1109.5,-809.65 1109.5,-800.86 1109.5,-792.3\"/>\n<polygon fill=\"black\" stroke=\"black\" points=\"1113,-792.02 1109.5,-782.02 1106,-792.02 1113,-792.02\"/>\n</g>\n<!-- 24 -->\n<g id=\"node25\" class=\"node\">\n<title>24</title>\n<path fill=\"#fdf4ed\" stroke=\"black\" d=\"M1512,-782C1512,-782 1329,-782 1329,-782 1323,-782 1317,-776 1317,-770 1317,-770 1317,-711 1317,-711 1317,-705 1323,-699 1329,-699 1329,-699 1512,-699 1512,-699 1518,-699 1524,-705 1524,-711 1524,-711 1524,-770 1524,-770 1524,-776 1518,-782 1512,-782\"/>\n<text text-anchor=\"middle\" x=\"1420.5\" y=\"-766.8\" font-family=\"Helvetica,sans-Serif\" font-size=\"14.00\">ct_srv_dst &lt;= &#45;0.707</text>\n<text text-anchor=\"middle\" x=\"1420.5\" y=\"-751.8\" font-family=\"Helvetica,sans-Serif\" font-size=\"14.00\">entropy = 0.998</text>\n<text text-anchor=\"middle\" x=\"1420.5\" y=\"-736.8\" font-family=\"Helvetica,sans-Serif\" font-size=\"14.00\">samples = 31539</text>\n<text text-anchor=\"middle\" x=\"1420.5\" y=\"-721.8\" font-family=\"Helvetica,sans-Serif\" font-size=\"14.00\">value = [16792.032, 15289.683]</text>\n<text text-anchor=\"middle\" x=\"1420.5\" y=\"-706.8\" font-family=\"Helvetica,sans-Serif\" font-size=\"14.00\">class = 0</text>\n</g>\n<!-- 16&#45;&gt;24 -->\n<g id=\"edge24\" class=\"edge\">\n<title>16&#45;&gt;24</title>\n<path fill=\"none\" stroke=\"black\" d=\"M1213.06,-819.54C1243.32,-808.15 1276.55,-795.65 1307.38,-784.06\"/>\n<polygon fill=\"black\" stroke=\"black\" points=\"1308.74,-787.29 1316.86,-780.49 1306.27,-780.73 1308.74,-787.29\"/>\n</g>\n<!-- 18 -->\n<g id=\"node19\" class=\"node\">\n<title>18</title>\n<path fill=\"#52a9e8\" stroke=\"black\" d=\"M1109.5,-663C1109.5,-663 933.5,-663 933.5,-663 927.5,-663 921.5,-657 921.5,-651 921.5,-651 921.5,-592 921.5,-592 921.5,-586 927.5,-580 933.5,-580 933.5,-580 1109.5,-580 1109.5,-580 1115.5,-580 1121.5,-586 1121.5,-592 1121.5,-592 1121.5,-651 1121.5,-651 1121.5,-657 1115.5,-663 1109.5,-663\"/>\n<text text-anchor=\"middle\" x=\"1021.5\" y=\"-647.8\" font-family=\"Helvetica,sans-Serif\" font-size=\"14.00\">dpkts &lt;= &#45;0.09</text>\n<text text-anchor=\"middle\" x=\"1021.5\" y=\"-632.8\" font-family=\"Helvetica,sans-Serif\" font-size=\"14.00\">entropy = 0.501</text>\n<text text-anchor=\"middle\" x=\"1021.5\" y=\"-617.8\" font-family=\"Helvetica,sans-Serif\" font-size=\"14.00\">samples = 18450</text>\n<text text-anchor=\"middle\" x=\"1021.5\" y=\"-602.8\" font-family=\"Helvetica,sans-Serif\" font-size=\"14.00\">value = [1589.028, 12808.131]</text>\n<text text-anchor=\"middle\" x=\"1021.5\" y=\"-587.8\" font-family=\"Helvetica,sans-Serif\" font-size=\"14.00\">class = 1</text>\n</g>\n<!-- 17&#45;&gt;18 -->\n<g id=\"edge18\" class=\"edge\">\n<title>17&#45;&gt;18</title>\n<path fill=\"none\" stroke=\"black\" d=\"M1078.97,-698.91C1072.21,-689.92 1064.98,-680.32 1058.02,-671.05\"/>\n<polygon fill=\"black\" stroke=\"black\" points=\"1060.79,-668.91 1051.98,-663.02 1055.19,-673.12 1060.79,-668.91\"/>\n</g>\n<!-- 23 -->\n<g id=\"node24\" class=\"node\">\n<title>23</title>\n<path fill=\"#3b9ee5\" stroke=\"black\" d=\"M1297.5,-655.5C1297.5,-655.5 1151.5,-655.5 1151.5,-655.5 1145.5,-655.5 1139.5,-649.5 1139.5,-643.5 1139.5,-643.5 1139.5,-599.5 1139.5,-599.5 1139.5,-593.5 1145.5,-587.5 1151.5,-587.5 1151.5,-587.5 1297.5,-587.5 1297.5,-587.5 1303.5,-587.5 1309.5,-593.5 1309.5,-599.5 1309.5,-599.5 1309.5,-643.5 1309.5,-643.5 1309.5,-649.5 1303.5,-655.5 1297.5,-655.5\"/>\n<text text-anchor=\"middle\" x=\"1224.5\" y=\"-640.3\" font-family=\"Helvetica,sans-Serif\" font-size=\"14.00\">entropy = 0.064</text>\n<text text-anchor=\"middle\" x=\"1224.5\" y=\"-625.3\" font-family=\"Helvetica,sans-Serif\" font-size=\"14.00\">samples = 10134</text>\n<text text-anchor=\"middle\" x=\"1224.5\" y=\"-610.3\" font-family=\"Helvetica,sans-Serif\" font-size=\"14.00\">value = [56.36, 7418.211]</text>\n<text text-anchor=\"middle\" x=\"1224.5\" y=\"-595.3\" font-family=\"Helvetica,sans-Serif\" font-size=\"14.00\">class = 1</text>\n</g>\n<!-- 17&#45;&gt;23 -->\n<g id=\"edge23\" class=\"edge\">\n<title>17&#45;&gt;23</title>\n<path fill=\"none\" stroke=\"black\" d=\"M1149.4,-698.91C1160.79,-687.32 1173.19,-674.7 1184.58,-663.11\"/>\n<polygon fill=\"black\" stroke=\"black\" points=\"1187.39,-665.25 1191.9,-655.67 1182.39,-660.35 1187.39,-665.25\"/>\n</g>\n<!-- 19 -->\n<g id=\"node20\" class=\"node\">\n<title>19</title>\n<path fill=\"#49a5e7\" stroke=\"black\" d=\"M901.5,-544C901.5,-544 733.5,-544 733.5,-544 727.5,-544 721.5,-538 721.5,-532 721.5,-532 721.5,-473 721.5,-473 721.5,-467 727.5,-461 733.5,-461 733.5,-461 901.5,-461 901.5,-461 907.5,-461 913.5,-467 913.5,-473 913.5,-473 913.5,-532 913.5,-532 913.5,-538 907.5,-544 901.5,-544\"/>\n<text text-anchor=\"middle\" x=\"817.5\" y=\"-528.8\" font-family=\"Helvetica,sans-Serif\" font-size=\"14.00\">tcprtt &lt;= 1.03</text>\n<text text-anchor=\"middle\" x=\"817.5\" y=\"-513.8\" font-family=\"Helvetica,sans-Serif\" font-size=\"14.00\">entropy = 0.376</text>\n<text text-anchor=\"middle\" x=\"817.5\" y=\"-498.8\" font-family=\"Helvetica,sans-Serif\" font-size=\"14.00\">samples = 15464</text>\n<text text-anchor=\"middle\" x=\"817.5\" y=\"-483.8\" font-family=\"Helvetica,sans-Serif\" font-size=\"14.00\">value = [859.484, 10956.884]</text>\n<text text-anchor=\"middle\" x=\"817.5\" y=\"-468.8\" font-family=\"Helvetica,sans-Serif\" font-size=\"14.00\">class = 1</text>\n</g>\n<!-- 18&#45;&gt;19 -->\n<g id=\"edge19\" class=\"edge\">\n<title>18&#45;&gt;19</title>\n<path fill=\"none\" stroke=\"black\" d=\"M950.72,-579.91C933.48,-570.02 914.91,-559.37 897.28,-549.25\"/>\n<polygon fill=\"black\" stroke=\"black\" points=\"898.57,-545.96 888.15,-544.02 895.08,-552.03 898.57,-545.96\"/>\n</g>\n<!-- 22 -->\n<g id=\"node23\" class=\"node\">\n<title>22</title>\n<path fill=\"#87c4ef\" stroke=\"black\" d=\"M1105,-536.5C1105,-536.5 944,-536.5 944,-536.5 938,-536.5 932,-530.5 932,-524.5 932,-524.5 932,-480.5 932,-480.5 932,-474.5 938,-468.5 944,-468.5 944,-468.5 1105,-468.5 1105,-468.5 1111,-468.5 1117,-474.5 1117,-480.5 1117,-480.5 1117,-524.5 1117,-524.5 1117,-530.5 1111,-536.5 1105,-536.5\"/>\n<text text-anchor=\"middle\" x=\"1024.5\" y=\"-521.3\" font-family=\"Helvetica,sans-Serif\" font-size=\"14.00\">entropy = 0.859</text>\n<text text-anchor=\"middle\" x=\"1024.5\" y=\"-506.3\" font-family=\"Helvetica,sans-Serif\" font-size=\"14.00\">samples = 2986</text>\n<text text-anchor=\"middle\" x=\"1024.5\" y=\"-491.3\" font-family=\"Helvetica,sans-Serif\" font-size=\"14.00\">value = [729.544, 1851.247]</text>\n<text text-anchor=\"middle\" x=\"1024.5\" y=\"-476.3\" font-family=\"Helvetica,sans-Serif\" font-size=\"14.00\">class = 1</text>\n</g>\n<!-- 18&#45;&gt;22 -->\n<g id=\"edge22\" class=\"edge\">\n<title>18&#45;&gt;22</title>\n<path fill=\"none\" stroke=\"black\" d=\"M1022.54,-579.91C1022.82,-569.2 1023.11,-557.62 1023.39,-546.78\"/>\n<polygon fill=\"black\" stroke=\"black\" points=\"1026.89,-546.75 1023.65,-536.67 1019.89,-546.57 1026.89,-546.75\"/>\n</g>\n<!-- 20 -->\n<g id=\"node21\" class=\"node\">\n<title>20</title>\n<path fill=\"#40a1e6\" stroke=\"black\" d=\"M798,-417.5C798,-417.5 637,-417.5 637,-417.5 631,-417.5 625,-411.5 625,-405.5 625,-405.5 625,-361.5 625,-361.5 625,-355.5 631,-349.5 637,-349.5 637,-349.5 798,-349.5 798,-349.5 804,-349.5 810,-355.5 810,-361.5 810,-361.5 810,-405.5 810,-405.5 810,-411.5 804,-417.5 798,-417.5\"/>\n<text text-anchor=\"middle\" x=\"717.5\" y=\"-402.3\" font-family=\"Helvetica,sans-Serif\" font-size=\"14.00\">entropy = 0.219</text>\n<text text-anchor=\"middle\" x=\"717.5\" y=\"-387.3\" font-family=\"Helvetica,sans-Serif\" font-size=\"14.00\">samples = 9841</text>\n<text text-anchor=\"middle\" x=\"717.5\" y=\"-372.3\" font-family=\"Helvetica,sans-Serif\" font-size=\"14.00\">value = [258.315, 7108.201]</text>\n<text text-anchor=\"middle\" x=\"717.5\" y=\"-357.3\" font-family=\"Helvetica,sans-Serif\" font-size=\"14.00\">class = 1</text>\n</g>\n<!-- 19&#45;&gt;20 -->\n<g id=\"edge20\" class=\"edge\">\n<title>19&#45;&gt;20</title>\n<path fill=\"none\" stroke=\"black\" d=\"M782.81,-460.91C773,-449.43 762.32,-436.94 752.49,-425.44\"/>\n<polygon fill=\"black\" stroke=\"black\" points=\"755.01,-422.99 745.85,-417.67 749.68,-427.54 755.01,-422.99\"/>\n</g>\n<!-- 21 -->\n<g id=\"node22\" class=\"node\">\n<title>21</title>\n<path fill=\"#58ace9\" stroke=\"black\" d=\"M1001,-417.5C1001,-417.5 840,-417.5 840,-417.5 834,-417.5 828,-411.5 828,-405.5 828,-405.5 828,-361.5 828,-361.5 828,-355.5 834,-349.5 840,-349.5 840,-349.5 1001,-349.5 1001,-349.5 1007,-349.5 1013,-355.5 1013,-361.5 1013,-361.5 1013,-405.5 1013,-405.5 1013,-411.5 1007,-417.5 1001,-417.5\"/>\n<text text-anchor=\"middle\" x=\"920.5\" y=\"-402.3\" font-family=\"Helvetica,sans-Serif\" font-size=\"14.00\">entropy = 0.571</text>\n<text text-anchor=\"middle\" x=\"920.5\" y=\"-387.3\" font-family=\"Helvetica,sans-Serif\" font-size=\"14.00\">samples = 5623</text>\n<text text-anchor=\"middle\" x=\"920.5\" y=\"-372.3\" font-family=\"Helvetica,sans-Serif\" font-size=\"14.00\">value = [601.169, 3848.684]</text>\n<text text-anchor=\"middle\" x=\"920.5\" y=\"-357.3\" font-family=\"Helvetica,sans-Serif\" font-size=\"14.00\">class = 1</text>\n</g>\n<!-- 19&#45;&gt;21 -->\n<g id=\"edge21\" class=\"edge\">\n<title>19&#45;&gt;21</title>\n<path fill=\"none\" stroke=\"black\" d=\"M853.24,-460.91C863.34,-449.43 874.34,-436.94 884.46,-425.44\"/>\n<polygon fill=\"black\" stroke=\"black\" points=\"887.32,-427.49 891.3,-417.67 882.07,-422.86 887.32,-427.49\"/>\n</g>\n<!-- 25 -->\n<g id=\"node26\" class=\"node\">\n<title>25</title>\n<path fill=\"#40a1e6\" stroke=\"black\" d=\"M1501,-655.5C1501,-655.5 1340,-655.5 1340,-655.5 1334,-655.5 1328,-649.5 1328,-643.5 1328,-643.5 1328,-599.5 1328,-599.5 1328,-593.5 1334,-587.5 1340,-587.5 1340,-587.5 1501,-587.5 1501,-587.5 1507,-587.5 1513,-593.5 1513,-599.5 1513,-599.5 1513,-643.5 1513,-643.5 1513,-649.5 1507,-655.5 1501,-655.5\"/>\n<text text-anchor=\"middle\" x=\"1420.5\" y=\"-640.3\" font-family=\"Helvetica,sans-Serif\" font-size=\"14.00\">entropy = 0.224</text>\n<text text-anchor=\"middle\" x=\"1420.5\" y=\"-625.3\" font-family=\"Helvetica,sans-Serif\" font-size=\"14.00\">samples = 4973</text>\n<text text-anchor=\"middle\" x=\"1420.5\" y=\"-610.3\" font-family=\"Helvetica,sans-Serif\" font-size=\"14.00\">value = [134.637, 3590.097]</text>\n<text text-anchor=\"middle\" x=\"1420.5\" y=\"-595.3\" font-family=\"Helvetica,sans-Serif\" font-size=\"14.00\">class = 1</text>\n</g>\n<!-- 24&#45;&gt;25 -->\n<g id=\"edge25\" class=\"edge\">\n<title>24&#45;&gt;25</title>\n<path fill=\"none\" stroke=\"black\" d=\"M1420.5,-698.91C1420.5,-688.2 1420.5,-676.62 1420.5,-665.78\"/>\n<polygon fill=\"black\" stroke=\"black\" points=\"1424,-665.67 1420.5,-655.67 1417,-665.67 1424,-665.67\"/>\n</g>\n<!-- 26 -->\n<g id=\"node27\" class=\"node\">\n<title>26</title>\n<path fill=\"#f7d9c4\" stroke=\"black\" d=\"M1726,-663C1726,-663 1543,-663 1543,-663 1537,-663 1531,-657 1531,-651 1531,-651 1531,-592 1531,-592 1531,-586 1537,-580 1543,-580 1543,-580 1726,-580 1726,-580 1732,-580 1738,-586 1738,-592 1738,-592 1738,-651 1738,-651 1738,-657 1732,-663 1726,-663\"/>\n<text text-anchor=\"middle\" x=\"1634.5\" y=\"-647.8\" font-family=\"Helvetica,sans-Serif\" font-size=\"14.00\">spkts &lt;= &#45;0.068</text>\n<text text-anchor=\"middle\" x=\"1634.5\" y=\"-632.8\" font-family=\"Helvetica,sans-Serif\" font-size=\"14.00\">entropy = 0.978</text>\n<text text-anchor=\"middle\" x=\"1634.5\" y=\"-617.8\" font-family=\"Helvetica,sans-Serif\" font-size=\"14.00\">samples = 26566</text>\n<text text-anchor=\"middle\" x=\"1634.5\" y=\"-602.8\" font-family=\"Helvetica,sans-Serif\" font-size=\"14.00\">value = [16657.395, 11699.587]</text>\n<text text-anchor=\"middle\" x=\"1634.5\" y=\"-587.8\" font-family=\"Helvetica,sans-Serif\" font-size=\"14.00\">class = 0</text>\n</g>\n<!-- 24&#45;&gt;26 -->\n<g id=\"edge26\" class=\"edge\">\n<title>24&#45;&gt;26</title>\n<path fill=\"none\" stroke=\"black\" d=\"M1494.75,-698.91C1513.09,-688.88 1532.85,-678.07 1551.58,-667.84\"/>\n<polygon fill=\"black\" stroke=\"black\" points=\"1553.29,-670.89 1560.39,-663.02 1549.93,-664.75 1553.29,-670.89\"/>\n</g>\n<!-- 27 -->\n<g id=\"node28\" class=\"node\">\n<title>27</title>\n<path fill=\"#f3c4a2\" stroke=\"black\" d=\"M1518.5,-544C1518.5,-544 1342.5,-544 1342.5,-544 1336.5,-544 1330.5,-538 1330.5,-532 1330.5,-532 1330.5,-473 1330.5,-473 1330.5,-467 1336.5,-461 1342.5,-461 1342.5,-461 1518.5,-461 1518.5,-461 1524.5,-461 1530.5,-467 1530.5,-473 1530.5,-473 1530.5,-532 1530.5,-532 1530.5,-538 1524.5,-544 1518.5,-544\"/>\n<text text-anchor=\"middle\" x=\"1430.5\" y=\"-528.8\" font-family=\"Helvetica,sans-Serif\" font-size=\"14.00\">sttl &lt;= &#45;0.2</text>\n<text text-anchor=\"middle\" x=\"1430.5\" y=\"-513.8\" font-family=\"Helvetica,sans-Serif\" font-size=\"14.00\">entropy = 0.931</text>\n<text text-anchor=\"middle\" x=\"1430.5\" y=\"-498.8\" font-family=\"Helvetica,sans-Serif\" font-size=\"14.00\">samples = 17989</text>\n<text text-anchor=\"middle\" x=\"1430.5\" y=\"-483.8\" font-family=\"Helvetica,sans-Serif\" font-size=\"14.00\">value = [13225.721, 7009.027]</text>\n<text text-anchor=\"middle\" x=\"1430.5\" y=\"-468.8\" font-family=\"Helvetica,sans-Serif\" font-size=\"14.00\">class = 0</text>\n</g>\n<!-- 26&#45;&gt;27 -->\n<g id=\"edge27\" class=\"edge\">\n<title>26&#45;&gt;27</title>\n<path fill=\"none\" stroke=\"black\" d=\"M1563.72,-579.91C1546.48,-570.02 1527.91,-559.37 1510.28,-549.25\"/>\n<polygon fill=\"black\" stroke=\"black\" points=\"1511.57,-545.96 1501.15,-544.02 1508.08,-552.03 1511.57,-545.96\"/>\n</g>\n<!-- 40 -->\n<g id=\"node41\" class=\"node\">\n<title>40</title>\n<path fill=\"#cae5f8\" stroke=\"black\" d=\"M1815,-544C1815,-544 1654,-544 1654,-544 1648,-544 1642,-538 1642,-532 1642,-532 1642,-473 1642,-473 1642,-467 1648,-461 1654,-461 1654,-461 1815,-461 1815,-461 1821,-461 1827,-467 1827,-473 1827,-473 1827,-532 1827,-532 1827,-538 1821,-544 1815,-544\"/>\n<text text-anchor=\"middle\" x=\"1734.5\" y=\"-528.8\" font-family=\"Helvetica,sans-Serif\" font-size=\"14.00\">dmean &lt;= &#45;0.225</text>\n<text text-anchor=\"middle\" x=\"1734.5\" y=\"-513.8\" font-family=\"Helvetica,sans-Serif\" font-size=\"14.00\">entropy = 0.983</text>\n<text text-anchor=\"middle\" x=\"1734.5\" y=\"-498.8\" font-family=\"Helvetica,sans-Serif\" font-size=\"14.00\">samples = 8577</text>\n<text text-anchor=\"middle\" x=\"1734.5\" y=\"-483.8\" font-family=\"Helvetica,sans-Serif\" font-size=\"14.00\">value = [3431.674, 4690.56]</text>\n<text text-anchor=\"middle\" x=\"1734.5\" y=\"-468.8\" font-family=\"Helvetica,sans-Serif\" font-size=\"14.00\">class = 1</text>\n</g>\n<!-- 26&#45;&gt;40 -->\n<g id=\"edge40\" class=\"edge\">\n<title>26&#45;&gt;40</title>\n<path fill=\"none\" stroke=\"black\" d=\"M1669.19,-579.91C1676.95,-570.83 1685.25,-561.12 1693.24,-551.77\"/>\n<polygon fill=\"black\" stroke=\"black\" points=\"1696.03,-553.9 1699.87,-544.02 1690.71,-549.35 1696.03,-553.9\"/>\n</g>\n<!-- 28 -->\n<g id=\"node29\" class=\"node\">\n<title>28</title>\n<path fill=\"#eb9d65\" stroke=\"black\" d=\"M1210,-425C1210,-425 1049,-425 1049,-425 1043,-425 1037,-419 1037,-413 1037,-413 1037,-354 1037,-354 1037,-348 1043,-342 1049,-342 1049,-342 1210,-342 1210,-342 1216,-342 1222,-348 1222,-354 1222,-354 1222,-413 1222,-413 1222,-419 1216,-425 1210,-425\"/>\n<text text-anchor=\"middle\" x=\"1129.5\" y=\"-409.8\" font-family=\"Helvetica,sans-Serif\" font-size=\"14.00\">dmean &lt;= &#45;0.312</text>\n<text text-anchor=\"middle\" x=\"1129.5\" y=\"-394.8\" font-family=\"Helvetica,sans-Serif\" font-size=\"14.00\">entropy = 0.685</text>\n<text text-anchor=\"middle\" x=\"1129.5\" y=\"-379.8\" font-family=\"Helvetica,sans-Serif\" font-size=\"14.00\">samples = 2974</text>\n<text text-anchor=\"middle\" x=\"1129.5\" y=\"-364.8\" font-family=\"Helvetica,sans-Serif\" font-size=\"14.00\">value = [3156.138, 703.768]</text>\n<text text-anchor=\"middle\" x=\"1129.5\" y=\"-349.8\" font-family=\"Helvetica,sans-Serif\" font-size=\"14.00\">class = 0</text>\n</g>\n<!-- 27&#45;&gt;28 -->\n<g id=\"edge28\" class=\"edge\">\n<title>27&#45;&gt;28</title>\n<path fill=\"none\" stroke=\"black\" d=\"M1330.27,-462.54C1298.52,-450.2 1263.39,-436.54 1231.51,-424.15\"/>\n<polygon fill=\"black\" stroke=\"black\" points=\"1232.76,-420.88 1222.18,-420.52 1230.23,-427.41 1232.76,-420.88\"/>\n</g>\n<!-- 33 -->\n<g id=\"node34\" class=\"node\">\n<title>33</title>\n<path fill=\"#f5d0b5\" stroke=\"black\" d=\"M1518.5,-425C1518.5,-425 1342.5,-425 1342.5,-425 1336.5,-425 1330.5,-419 1330.5,-413 1330.5,-413 1330.5,-354 1330.5,-354 1330.5,-348 1336.5,-342 1342.5,-342 1342.5,-342 1518.5,-342 1518.5,-342 1524.5,-342 1530.5,-348 1530.5,-354 1530.5,-354 1530.5,-413 1530.5,-413 1530.5,-419 1524.5,-425 1518.5,-425\"/>\n<text text-anchor=\"middle\" x=\"1430.5\" y=\"-409.8\" font-family=\"Helvetica,sans-Serif\" font-size=\"14.00\">smean &lt;= &#45;0.397</text>\n<text text-anchor=\"middle\" x=\"1430.5\" y=\"-394.8\" font-family=\"Helvetica,sans-Serif\" font-size=\"14.00\">entropy = 0.962</text>\n<text text-anchor=\"middle\" x=\"1430.5\" y=\"-379.8\" font-family=\"Helvetica,sans-Serif\" font-size=\"14.00\">samples = 15015</text>\n<text text-anchor=\"middle\" x=\"1430.5\" y=\"-364.8\" font-family=\"Helvetica,sans-Serif\" font-size=\"14.00\">value = [10069.583, 6305.259]</text>\n<text text-anchor=\"middle\" x=\"1430.5\" y=\"-349.8\" font-family=\"Helvetica,sans-Serif\" font-size=\"14.00\">class = 0</text>\n</g>\n<!-- 27&#45;&gt;33 -->\n<g id=\"edge33\" class=\"edge\">\n<title>27&#45;&gt;33</title>\n<path fill=\"none\" stroke=\"black\" d=\"M1430.5,-460.91C1430.5,-452.65 1430.5,-443.86 1430.5,-435.3\"/>\n<polygon fill=\"black\" stroke=\"black\" points=\"1434,-435.02 1430.5,-425.02 1427,-435.02 1434,-435.02\"/>\n</g>\n<!-- 29 -->\n<g id=\"node30\" class=\"node\">\n<title>29</title>\n<path fill=\"#e5823a\" stroke=\"black\" d=\"M1006.5,-298.5C1006.5,-298.5 860.5,-298.5 860.5,-298.5 854.5,-298.5 848.5,-292.5 848.5,-286.5 848.5,-286.5 848.5,-242.5 848.5,-242.5 848.5,-236.5 854.5,-230.5 860.5,-230.5 860.5,-230.5 1006.5,-230.5 1006.5,-230.5 1012.5,-230.5 1018.5,-236.5 1018.5,-242.5 1018.5,-242.5 1018.5,-286.5 1018.5,-286.5 1018.5,-292.5 1012.5,-298.5 1006.5,-298.5\"/>\n<text text-anchor=\"middle\" x=\"933.5\" y=\"-283.3\" font-family=\"Helvetica,sans-Serif\" font-size=\"14.00\">entropy = 0.038</text>\n<text text-anchor=\"middle\" x=\"933.5\" y=\"-268.3\" font-family=\"Helvetica,sans-Serif\" font-size=\"14.00\">samples = 1167</text>\n<text text-anchor=\"middle\" x=\"933.5\" y=\"-253.3\" font-family=\"Helvetica,sans-Serif\" font-size=\"14.00\">value = [1811.335, 7.346]</text>\n<text text-anchor=\"middle\" x=\"933.5\" y=\"-238.3\" font-family=\"Helvetica,sans-Serif\" font-size=\"14.00\">class = 0</text>\n</g>\n<!-- 28&#45;&gt;29 -->\n<g id=\"edge29\" class=\"edge\">\n<title>28&#45;&gt;29</title>\n<path fill=\"none\" stroke=\"black\" d=\"M1061.5,-341.91C1040.8,-329.55 1018.12,-316.01 997.67,-303.81\"/>\n<polygon fill=\"black\" stroke=\"black\" points=\"999.44,-300.79 989.06,-298.67 995.85,-306.8 999.44,-300.79\"/>\n</g>\n<!-- 30 -->\n<g id=\"node31\" class=\"node\">\n<title>30</title>\n<path fill=\"#f2c2a0\" stroke=\"black\" d=\"M1210,-306C1210,-306 1049,-306 1049,-306 1043,-306 1037,-300 1037,-294 1037,-294 1037,-235 1037,-235 1037,-229 1043,-223 1049,-223 1049,-223 1210,-223 1210,-223 1216,-223 1222,-229 1222,-235 1222,-235 1222,-294 1222,-294 1222,-300 1216,-306 1210,-306\"/>\n<text text-anchor=\"middle\" x=\"1129.5\" y=\"-290.8\" font-family=\"Helvetica,sans-Serif\" font-size=\"14.00\">dbytes &lt;= &#45;0.094</text>\n<text text-anchor=\"middle\" x=\"1129.5\" y=\"-275.8\" font-family=\"Helvetica,sans-Serif\" font-size=\"14.00\">entropy = 0.926</text>\n<text text-anchor=\"middle\" x=\"1129.5\" y=\"-260.8\" font-family=\"Helvetica,sans-Serif\" font-size=\"14.00\">samples = 1807</text>\n<text text-anchor=\"middle\" x=\"1129.5\" y=\"-245.8\" font-family=\"Helvetica,sans-Serif\" font-size=\"14.00\">value = [1344.803, 696.421]</text>\n<text text-anchor=\"middle\" x=\"1129.5\" y=\"-230.8\" font-family=\"Helvetica,sans-Serif\" font-size=\"14.00\">class = 0</text>\n</g>\n<!-- 28&#45;&gt;30 -->\n<g id=\"edge30\" class=\"edge\">\n<title>28&#45;&gt;30</title>\n<path fill=\"none\" stroke=\"black\" d=\"M1129.5,-341.91C1129.5,-333.65 1129.5,-324.86 1129.5,-316.3\"/>\n<polygon fill=\"black\" stroke=\"black\" points=\"1133,-316.02 1129.5,-306.02 1126,-316.02 1133,-316.02\"/>\n</g>\n<!-- 31 -->\n<g id=\"node32\" class=\"node\">\n<title>31</title>\n<path fill=\"#efb185\" stroke=\"black\" d=\"M1112,-179.5C1112,-179.5 951,-179.5 951,-179.5 945,-179.5 939,-173.5 939,-167.5 939,-167.5 939,-123.5 939,-123.5 939,-117.5 945,-111.5 951,-111.5 951,-111.5 1112,-111.5 1112,-111.5 1118,-111.5 1124,-117.5 1124,-123.5 1124,-123.5 1124,-167.5 1124,-167.5 1124,-173.5 1118,-179.5 1112,-179.5\"/>\n<text text-anchor=\"middle\" x=\"1031.5\" y=\"-164.3\" font-family=\"Helvetica,sans-Serif\" font-size=\"14.00\">entropy = 0.851</text>\n<text text-anchor=\"middle\" x=\"1031.5\" y=\"-149.3\" font-family=\"Helvetica,sans-Serif\" font-size=\"14.00\">samples = 1544</text>\n<text text-anchor=\"middle\" x=\"1031.5\" y=\"-134.3\" font-family=\"Helvetica,sans-Serif\" font-size=\"14.00\">value = [1332.278, 509.093]</text>\n<text text-anchor=\"middle\" x=\"1031.5\" y=\"-119.3\" font-family=\"Helvetica,sans-Serif\" font-size=\"14.00\">class = 0</text>\n</g>\n<!-- 30&#45;&gt;31 -->\n<g id=\"edge31\" class=\"edge\">\n<title>30&#45;&gt;31</title>\n<path fill=\"none\" stroke=\"black\" d=\"M1095.5,-222.91C1085.89,-211.43 1075.42,-198.94 1065.79,-187.44\"/>\n<polygon fill=\"black\" stroke=\"black\" points=\"1068.39,-185.09 1059.28,-179.67 1063.02,-189.58 1068.39,-185.09\"/>\n</g>\n<!-- 32 -->\n<g id=\"node33\" class=\"node\">\n<title>32</title>\n<path fill=\"#46a4e7\" stroke=\"black\" d=\"M1300.5,-179.5C1300.5,-179.5 1154.5,-179.5 1154.5,-179.5 1148.5,-179.5 1142.5,-173.5 1142.5,-167.5 1142.5,-167.5 1142.5,-123.5 1142.5,-123.5 1142.5,-117.5 1148.5,-111.5 1154.5,-111.5 1154.5,-111.5 1300.5,-111.5 1300.5,-111.5 1306.5,-111.5 1312.5,-117.5 1312.5,-123.5 1312.5,-123.5 1312.5,-167.5 1312.5,-167.5 1312.5,-173.5 1306.5,-179.5 1300.5,-179.5\"/>\n<text text-anchor=\"middle\" x=\"1227.5\" y=\"-164.3\" font-family=\"Helvetica,sans-Serif\" font-size=\"14.00\">entropy = 0.338</text>\n<text text-anchor=\"middle\" x=\"1227.5\" y=\"-149.3\" font-family=\"Helvetica,sans-Serif\" font-size=\"14.00\">samples = 263</text>\n<text text-anchor=\"middle\" x=\"1227.5\" y=\"-134.3\" font-family=\"Helvetica,sans-Serif\" font-size=\"14.00\">value = [12.524, 187.329]</text>\n<text text-anchor=\"middle\" x=\"1227.5\" y=\"-119.3\" font-family=\"Helvetica,sans-Serif\" font-size=\"14.00\">class = 1</text>\n</g>\n<!-- 30&#45;&gt;32 -->\n<g id=\"edge32\" class=\"edge\">\n<title>30&#45;&gt;32</title>\n<path fill=\"none\" stroke=\"black\" d=\"M1163.5,-222.91C1173.11,-211.43 1183.58,-198.94 1193.21,-187.44\"/>\n<polygon fill=\"black\" stroke=\"black\" points=\"1195.98,-189.58 1199.72,-179.67 1190.61,-185.09 1195.98,-189.58\"/>\n</g>\n<!-- 34 -->\n<g id=\"node35\" class=\"node\">\n<title>34</title>\n<path fill=\"#eeab7b\" stroke=\"black\" d=\"M1420.5,-298.5C1420.5,-298.5 1252.5,-298.5 1252.5,-298.5 1246.5,-298.5 1240.5,-292.5 1240.5,-286.5 1240.5,-286.5 1240.5,-242.5 1240.5,-242.5 1240.5,-236.5 1246.5,-230.5 1252.5,-230.5 1252.5,-230.5 1420.5,-230.5 1420.5,-230.5 1426.5,-230.5 1432.5,-236.5 1432.5,-242.5 1432.5,-242.5 1432.5,-286.5 1432.5,-286.5 1432.5,-292.5 1426.5,-298.5 1420.5,-298.5\"/>\n<text text-anchor=\"middle\" x=\"1336.5\" y=\"-283.3\" font-family=\"Helvetica,sans-Serif\" font-size=\"14.00\">entropy = 0.81</text>\n<text text-anchor=\"middle\" x=\"1336.5\" y=\"-268.3\" font-family=\"Helvetica,sans-Serif\" font-size=\"14.00\">samples = 3848</text>\n<text text-anchor=\"middle\" x=\"1336.5\" y=\"-253.3\" font-family=\"Helvetica,sans-Serif\" font-size=\"14.00\">value = [3528.738, 1170.987]</text>\n<text text-anchor=\"middle\" x=\"1336.5\" y=\"-238.3\" font-family=\"Helvetica,sans-Serif\" font-size=\"14.00\">class = 0</text>\n</g>\n<!-- 33&#45;&gt;34 -->\n<g id=\"edge34\" class=\"edge\">\n<title>33&#45;&gt;34</title>\n<path fill=\"none\" stroke=\"black\" d=\"M1397.89,-341.91C1388.76,-330.54 1378.82,-318.18 1369.66,-306.77\"/>\n<polygon fill=\"black\" stroke=\"black\" points=\"1372.14,-304.27 1363.15,-298.67 1366.68,-308.65 1372.14,-304.27\"/>\n</g>\n<!-- 35 -->\n<g id=\"node36\" class=\"node\">\n<title>35</title>\n<path fill=\"#f9e4d4\" stroke=\"black\" d=\"M1630.5,-306C1630.5,-306 1462.5,-306 1462.5,-306 1456.5,-306 1450.5,-300 1450.5,-294 1450.5,-294 1450.5,-235 1450.5,-235 1450.5,-229 1456.5,-223 1462.5,-223 1462.5,-223 1630.5,-223 1630.5,-223 1636.5,-223 1642.5,-229 1642.5,-235 1642.5,-235 1642.5,-294 1642.5,-294 1642.5,-300 1636.5,-306 1630.5,-306\"/>\n<text text-anchor=\"middle\" x=\"1546.5\" y=\"-290.8\" font-family=\"Helvetica,sans-Serif\" font-size=\"14.00\">ct_srv_dst &lt;= &#45;0.242</text>\n<text text-anchor=\"middle\" x=\"1546.5\" y=\"-275.8\" font-family=\"Helvetica,sans-Serif\" font-size=\"14.00\">entropy = 0.99</text>\n<text text-anchor=\"middle\" x=\"1546.5\" y=\"-260.8\" font-family=\"Helvetica,sans-Serif\" font-size=\"14.00\">samples = 11167</text>\n<text text-anchor=\"middle\" x=\"1546.5\" y=\"-245.8\" font-family=\"Helvetica,sans-Serif\" font-size=\"14.00\">value = [6540.846, 5134.272]</text>\n<text text-anchor=\"middle\" x=\"1546.5\" y=\"-230.8\" font-family=\"Helvetica,sans-Serif\" font-size=\"14.00\">class = 0</text>\n</g>\n<!-- 33&#45;&gt;35 -->\n<g id=\"edge35\" class=\"edge\">\n<title>33&#45;&gt;35</title>\n<path fill=\"none\" stroke=\"black\" d=\"M1470.75,-341.91C1479.92,-332.65 1489.76,-322.73 1499.2,-313.21\"/>\n<polygon fill=\"black\" stroke=\"black\" points=\"1501.77,-315.59 1506.33,-306.02 1496.8,-310.66 1501.77,-315.59\"/>\n</g>\n<!-- 36 -->\n<g id=\"node37\" class=\"node\">\n<title>36</title>\n<path fill=\"#f9fcfe\" stroke=\"black\" d=\"M1521.5,-187C1521.5,-187 1353.5,-187 1353.5,-187 1347.5,-187 1341.5,-181 1341.5,-175 1341.5,-175 1341.5,-116 1341.5,-116 1341.5,-110 1347.5,-104 1353.5,-104 1353.5,-104 1521.5,-104 1521.5,-104 1527.5,-104 1533.5,-110 1533.5,-116 1533.5,-116 1533.5,-175 1533.5,-175 1533.5,-181 1527.5,-187 1521.5,-187\"/>\n<text text-anchor=\"middle\" x=\"1437.5\" y=\"-171.8\" font-family=\"Helvetica,sans-Serif\" font-size=\"14.00\">synack &lt;= 0.626</text>\n<text text-anchor=\"middle\" x=\"1437.5\" y=\"-156.8\" font-family=\"Helvetica,sans-Serif\" font-size=\"14.00\">entropy = 1.0</text>\n<text text-anchor=\"middle\" x=\"1437.5\" y=\"-141.8\" font-family=\"Helvetica,sans-Serif\" font-size=\"14.00\">samples = 7585</text>\n<text text-anchor=\"middle\" x=\"1437.5\" y=\"-126.8\" font-family=\"Helvetica,sans-Serif\" font-size=\"14.00\">value = [3708.775, 3831.787]</text>\n<text text-anchor=\"middle\" x=\"1437.5\" y=\"-111.8\" font-family=\"Helvetica,sans-Serif\" font-size=\"14.00\">class = 1</text>\n</g>\n<!-- 35&#45;&gt;36 -->\n<g id=\"edge36\" class=\"edge\">\n<title>35&#45;&gt;36</title>\n<path fill=\"none\" stroke=\"black\" d=\"M1508.68,-222.91C1500.14,-213.74 1491,-203.93 1482.21,-194.49\"/>\n<polygon fill=\"black\" stroke=\"black\" points=\"1484.63,-191.95 1475.25,-187.02 1479.51,-196.72 1484.63,-191.95\"/>\n</g>\n<!-- 39 -->\n<g id=\"node40\" class=\"node\">\n<title>39</title>\n<path fill=\"#f1bb94\" stroke=\"black\" d=\"M1725,-179.5C1725,-179.5 1564,-179.5 1564,-179.5 1558,-179.5 1552,-173.5 1552,-167.5 1552,-167.5 1552,-123.5 1552,-123.5 1552,-117.5 1558,-111.5 1564,-111.5 1564,-111.5 1725,-111.5 1725,-111.5 1731,-111.5 1737,-117.5 1737,-123.5 1737,-123.5 1737,-167.5 1737,-167.5 1737,-173.5 1731,-179.5 1725,-179.5\"/>\n<text text-anchor=\"middle\" x=\"1644.5\" y=\"-164.3\" font-family=\"Helvetica,sans-Serif\" font-size=\"14.00\">entropy = 0.899</text>\n<text text-anchor=\"middle\" x=\"1644.5\" y=\"-149.3\" font-family=\"Helvetica,sans-Serif\" font-size=\"14.00\">samples = 3582</text>\n<text text-anchor=\"middle\" x=\"1644.5\" y=\"-134.3\" font-family=\"Helvetica,sans-Serif\" font-size=\"14.00\">value = [2832.07, 1302.484]</text>\n<text text-anchor=\"middle\" x=\"1644.5\" y=\"-119.3\" font-family=\"Helvetica,sans-Serif\" font-size=\"14.00\">class = 0</text>\n</g>\n<!-- 35&#45;&gt;39 -->\n<g id=\"edge39\" class=\"edge\">\n<title>35&#45;&gt;39</title>\n<path fill=\"none\" stroke=\"black\" d=\"M1580.5,-222.91C1590.11,-211.43 1600.58,-198.94 1610.21,-187.44\"/>\n<polygon fill=\"black\" stroke=\"black\" points=\"1612.98,-189.58 1616.72,-179.67 1607.61,-185.09 1612.98,-189.58\"/>\n</g>\n<!-- 37 -->\n<g id=\"node38\" class=\"node\">\n<title>37</title>\n<path fill=\"#9dcff2\" stroke=\"black\" d=\"M1412,-68C1412,-68 1259,-68 1259,-68 1253,-68 1247,-62 1247,-56 1247,-56 1247,-12 1247,-12 1247,-6 1253,0 1259,0 1259,0 1412,0 1412,0 1418,0 1424,-6 1424,-12 1424,-12 1424,-56 1424,-56 1424,-62 1418,-68 1412,-68\"/>\n<text text-anchor=\"middle\" x=\"1335.5\" y=\"-52.8\" font-family=\"Helvetica,sans-Serif\" font-size=\"14.00\">entropy = 0.921</text>\n<text text-anchor=\"middle\" x=\"1335.5\" y=\"-37.8\" font-family=\"Helvetica,sans-Serif\" font-size=\"14.00\">samples = 2766</text>\n<text text-anchor=\"middle\" x=\"1335.5\" y=\"-22.8\" font-family=\"Helvetica,sans-Serif\" font-size=\"14.00\">value = [831.304, 1641.88]</text>\n<text text-anchor=\"middle\" x=\"1335.5\" y=\"-7.8\" font-family=\"Helvetica,sans-Serif\" font-size=\"14.00\">class = 1</text>\n</g>\n<!-- 36&#45;&gt;37 -->\n<g id=\"edge37\" class=\"edge\">\n<title>36&#45;&gt;37</title>\n<path fill=\"none\" stroke=\"black\" d=\"M1399.52,-103.73C1391.02,-94.61 1382.01,-84.93 1373.51,-75.81\"/>\n<polygon fill=\"black\" stroke=\"black\" points=\"1375.9,-73.23 1366.52,-68.3 1370.77,-78 1375.9,-73.23\"/>\n</g>\n<!-- 38 -->\n<g id=\"node39\" class=\"node\">\n<title>38</title>\n<path fill=\"#f9e1d0\" stroke=\"black\" d=\"M1622.5,-68C1622.5,-68 1454.5,-68 1454.5,-68 1448.5,-68 1442.5,-62 1442.5,-56 1442.5,-56 1442.5,-12 1442.5,-12 1442.5,-6 1448.5,0 1454.5,0 1454.5,0 1622.5,0 1622.5,0 1628.5,0 1634.5,-6 1634.5,-12 1634.5,-12 1634.5,-56 1634.5,-56 1634.5,-62 1628.5,-68 1622.5,-68\"/>\n<text text-anchor=\"middle\" x=\"1538.5\" y=\"-52.8\" font-family=\"Helvetica,sans-Serif\" font-size=\"14.00\">entropy = 0.987</text>\n<text text-anchor=\"middle\" x=\"1538.5\" y=\"-37.8\" font-family=\"Helvetica,sans-Serif\" font-size=\"14.00\">samples = 4819</text>\n<text text-anchor=\"middle\" x=\"1538.5\" y=\"-22.8\" font-family=\"Helvetica,sans-Serif\" font-size=\"14.00\">value = [2877.471, 2189.908]</text>\n<text text-anchor=\"middle\" x=\"1538.5\" y=\"-7.8\" font-family=\"Helvetica,sans-Serif\" font-size=\"14.00\">class = 0</text>\n</g>\n<!-- 36&#45;&gt;38 -->\n<g id=\"edge38\" class=\"edge\">\n<title>36&#45;&gt;38</title>\n<path fill=\"none\" stroke=\"black\" d=\"M1475.11,-103.73C1483.52,-94.61 1492.45,-84.93 1500.86,-75.81\"/>\n<polygon fill=\"black\" stroke=\"black\" points=\"1503.58,-78.02 1507.79,-68.3 1498.43,-73.28 1503.58,-78.02\"/>\n</g>\n<!-- 41 -->\n<g id=\"node42\" class=\"node\">\n<title>41</title>\n<path fill=\"#f9e2d2\" stroke=\"black\" d=\"M1818.5,-425C1818.5,-425 1650.5,-425 1650.5,-425 1644.5,-425 1638.5,-419 1638.5,-413 1638.5,-413 1638.5,-354 1638.5,-354 1638.5,-348 1644.5,-342 1650.5,-342 1650.5,-342 1818.5,-342 1818.5,-342 1824.5,-342 1830.5,-348 1830.5,-354 1830.5,-354 1830.5,-413 1830.5,-413 1830.5,-419 1824.5,-425 1818.5,-425\"/>\n<text text-anchor=\"middle\" x=\"1734.5\" y=\"-409.8\" font-family=\"Helvetica,sans-Serif\" font-size=\"14.00\">sloss &lt;= &#45;0.06</text>\n<text text-anchor=\"middle\" x=\"1734.5\" y=\"-394.8\" font-family=\"Helvetica,sans-Serif\" font-size=\"14.00\">entropy = 0.988</text>\n<text text-anchor=\"middle\" x=\"1734.5\" y=\"-379.8\" font-family=\"Helvetica,sans-Serif\" font-size=\"14.00\">samples = 4995</text>\n<text text-anchor=\"middle\" x=\"1734.5\" y=\"-364.8\" font-family=\"Helvetica,sans-Serif\" font-size=\"14.00\">value = [2952.617, 2283.939]</text>\n<text text-anchor=\"middle\" x=\"1734.5\" y=\"-349.8\" font-family=\"Helvetica,sans-Serif\" font-size=\"14.00\">class = 0</text>\n</g>\n<!-- 40&#45;&gt;41 -->\n<g id=\"edge41\" class=\"edge\">\n<title>40&#45;&gt;41</title>\n<path fill=\"none\" stroke=\"black\" d=\"M1734.5,-460.91C1734.5,-452.65 1734.5,-443.86 1734.5,-435.3\"/>\n<polygon fill=\"black\" stroke=\"black\" points=\"1738,-435.02 1734.5,-425.02 1731,-435.02 1738,-435.02\"/>\n</g>\n<!-- 44 -->\n<g id=\"node45\" class=\"node\">\n<title>44</title>\n<path fill=\"#60b1ea\" stroke=\"black\" d=\"M2022,-417.5C2022,-417.5 1861,-417.5 1861,-417.5 1855,-417.5 1849,-411.5 1849,-405.5 1849,-405.5 1849,-361.5 1849,-361.5 1849,-355.5 1855,-349.5 1861,-349.5 1861,-349.5 2022,-349.5 2022,-349.5 2028,-349.5 2034,-355.5 2034,-361.5 2034,-361.5 2034,-405.5 2034,-405.5 2034,-411.5 2028,-417.5 2022,-417.5\"/>\n<text text-anchor=\"middle\" x=\"1941.5\" y=\"-402.3\" font-family=\"Helvetica,sans-Serif\" font-size=\"14.00\">entropy = 0.648</text>\n<text text-anchor=\"middle\" x=\"1941.5\" y=\"-387.3\" font-family=\"Helvetica,sans-Serif\" font-size=\"14.00\">samples = 3582</text>\n<text text-anchor=\"middle\" x=\"1941.5\" y=\"-372.3\" font-family=\"Helvetica,sans-Serif\" font-size=\"14.00\">value = [479.057, 2406.621]</text>\n<text text-anchor=\"middle\" x=\"1941.5\" y=\"-357.3\" font-family=\"Helvetica,sans-Serif\" font-size=\"14.00\">class = 1</text>\n</g>\n<!-- 40&#45;&gt;44 -->\n<g id=\"edge44\" class=\"edge\">\n<title>40&#45;&gt;44</title>\n<path fill=\"none\" stroke=\"black\" d=\"M1806.32,-460.91C1828.28,-448.49 1852.35,-434.89 1874.01,-422.64\"/>\n<polygon fill=\"black\" stroke=\"black\" points=\"1875.84,-425.63 1882.82,-417.67 1872.39,-419.54 1875.84,-425.63\"/>\n</g>\n<!-- 42 -->\n<g id=\"node43\" class=\"node\">\n<title>42</title>\n<path fill=\"#399de5\" stroke=\"black\" d=\"M1796,-298.5C1796,-298.5 1673,-298.5 1673,-298.5 1667,-298.5 1661,-292.5 1661,-286.5 1661,-286.5 1661,-242.5 1661,-242.5 1661,-236.5 1667,-230.5 1673,-230.5 1673,-230.5 1796,-230.5 1796,-230.5 1802,-230.5 1808,-236.5 1808,-242.5 1808,-242.5 1808,-286.5 1808,-286.5 1808,-292.5 1802,-298.5 1796,-298.5\"/>\n<text text-anchor=\"middle\" x=\"1734.5\" y=\"-283.3\" font-family=\"Helvetica,sans-Serif\" font-size=\"14.00\">entropy = 0.0</text>\n<text text-anchor=\"middle\" x=\"1734.5\" y=\"-268.3\" font-family=\"Helvetica,sans-Serif\" font-size=\"14.00\">samples = 679</text>\n<text text-anchor=\"middle\" x=\"1734.5\" y=\"-253.3\" font-family=\"Helvetica,sans-Serif\" font-size=\"14.00\">value = [0.0, 498.808]</text>\n<text text-anchor=\"middle\" x=\"1734.5\" y=\"-238.3\" font-family=\"Helvetica,sans-Serif\" font-size=\"14.00\">class = 1</text>\n</g>\n<!-- 41&#45;&gt;42 -->\n<g id=\"edge42\" class=\"edge\">\n<title>41&#45;&gt;42</title>\n<path fill=\"none\" stroke=\"black\" d=\"M1734.5,-341.91C1734.5,-331.2 1734.5,-319.62 1734.5,-308.78\"/>\n<polygon fill=\"black\" stroke=\"black\" points=\"1738,-308.67 1734.5,-298.67 1731,-308.67 1738,-308.67\"/>\n</g>\n<!-- 43 -->\n<g id=\"node44\" class=\"node\">\n<title>43</title>\n<path fill=\"#f5cdb1\" stroke=\"black\" d=\"M2006.5,-298.5C2006.5,-298.5 1838.5,-298.5 1838.5,-298.5 1832.5,-298.5 1826.5,-292.5 1826.5,-286.5 1826.5,-286.5 1826.5,-242.5 1826.5,-242.5 1826.5,-236.5 1832.5,-230.5 1838.5,-230.5 1838.5,-230.5 2006.5,-230.5 2006.5,-230.5 2012.5,-230.5 2018.5,-236.5 2018.5,-242.5 2018.5,-242.5 2018.5,-286.5 2018.5,-286.5 2018.5,-292.5 2012.5,-298.5 2006.5,-298.5\"/>\n<text text-anchor=\"middle\" x=\"1922.5\" y=\"-283.3\" font-family=\"Helvetica,sans-Serif\" font-size=\"14.00\">entropy = 0.956</text>\n<text text-anchor=\"middle\" x=\"1922.5\" y=\"-268.3\" font-family=\"Helvetica,sans-Serif\" font-size=\"14.00\">samples = 4316</text>\n<text text-anchor=\"middle\" x=\"1922.5\" y=\"-253.3\" font-family=\"Helvetica,sans-Serif\" font-size=\"14.00\">value = [2952.617, 1785.131]</text>\n<text text-anchor=\"middle\" x=\"1922.5\" y=\"-238.3\" font-family=\"Helvetica,sans-Serif\" font-size=\"14.00\">class = 0</text>\n</g>\n<!-- 41&#45;&gt;43 -->\n<g id=\"edge43\" class=\"edge\">\n<title>41&#45;&gt;43</title>\n<path fill=\"none\" stroke=\"black\" d=\"M1799.73,-341.91C1819.5,-329.6 1841.14,-316.13 1860.68,-303.97\"/>\n<polygon fill=\"black\" stroke=\"black\" points=\"1862.57,-306.92 1869.21,-298.67 1858.87,-300.98 1862.57,-306.92\"/>\n</g>\n</g>\n</svg>\n",
            "text/plain": [
              "<graphviz.sources.Source at 0x7fd532a5f190>"
            ]
          },
          "metadata": {},
          "execution_count": 53
        }
      ]
    },
    {
      "cell_type": "code",
      "source": [
        "y2_pred_train2=DTclf2.predict(X_train_prepared)"
      ],
      "metadata": {
        "id": "za4igOAthgX1"
      },
      "execution_count": null,
      "outputs": []
    },
    {
      "cell_type": "code",
      "source": [
        "from sklearn import metrics #Import scikit-learn metrics module for accuracy calculation\n",
        "# Model Accuracy, how often is the classifier correct?\n",
        "print(\"Accuracy:\",metrics.accuracy_score(y2_train_prepared, y2_pred_train2))\n",
        "\n",
        "report=metrics.classification_report(y2_train_prepared, y2_pred_train2)\n",
        "\n",
        "DTclf_name=['Decision Tree Classifer','RegLog']\n",
        "\n",
        "print('Reporting for %s:'%DTclf_name)\n",
        "\n",
        "print(report)"
      ],
      "metadata": {
        "colab": {
          "base_uri": "https://localhost:8080/"
        },
        "id": "Tof2VrSkhz7B",
        "outputId": "ca283069-541f-4bdd-8ff1-fe883c32bc58"
      },
      "execution_count": null,
      "outputs": [
        {
          "output_type": "stream",
          "name": "stdout",
          "text": [
            "Accuracy: 0.9275925197187195\n",
            "Reporting for ['Decision Tree Classifer', 'RegLog']:\n",
            "              precision    recall  f1-score   support\n",
            "\n",
            "           0       0.84      0.96      0.89     56000\n",
            "           1       0.98      0.91      0.95    119341\n",
            "\n",
            "    accuracy                           0.93    175341\n",
            "   macro avg       0.91      0.94      0.92    175341\n",
            "weighted avg       0.93      0.93      0.93    175341\n",
            "\n"
          ]
        }
      ]
    },
    {
      "cell_type": "code",
      "source": [
        "y2_pred_test2=DTclf2.predict(X_test_prepared)"
      ],
      "metadata": {
        "id": "gBfFFaA1iCGo"
      },
      "execution_count": null,
      "outputs": []
    },
    {
      "cell_type": "code",
      "source": [
        "from sklearn import metrics #Import scikit-learn metrics module for accuracy calculation\n",
        "# Model Accuracy, how often is the classifier correct?\n",
        "print(\"Accuracy:\",metrics.accuracy_score(y2_test_prepared, y2_pred_test2))\n",
        "\n",
        "report=metrics.classification_report(y2_test_prepared, y2_pred_test2)\n",
        "\n",
        "DTclf_name=['Decision Tree Classifer','RegLog']\n",
        "\n",
        "print('Reporting for %s:'%DTclf_name)\n",
        "\n",
        "print(report)"
      ],
      "metadata": {
        "colab": {
          "base_uri": "https://localhost:8080/"
        },
        "id": "lgJPQpB0iGUE",
        "outputId": "83117c45-913a-4ad9-c4d9-50313bfc7131"
      },
      "execution_count": null,
      "outputs": [
        {
          "output_type": "stream",
          "name": "stdout",
          "text": [
            "Accuracy: 0.9122698343293009\n",
            "Reporting for ['Decision Tree Classifer', 'RegLog']:\n",
            "              precision    recall  f1-score   support\n",
            "\n",
            "           0       0.93      0.87      0.90     37000\n",
            "           1       0.90      0.95      0.92     45332\n",
            "\n",
            "    accuracy                           0.91     82332\n",
            "   macro avg       0.91      0.91      0.91     82332\n",
            "weighted avg       0.91      0.91      0.91     82332\n",
            "\n"
          ]
        }
      ]
    },
    {
      "cell_type": "code",
      "source": [
        "# ===== cross-validation ========\n",
        "# define  Stratified 5-fold cross-validator, it provides train/validate indices to split data in train/validate sets.\n",
        "from sklearn.model_selection import cross_val_score, cross_validate, StratifiedKFold\n",
        "cv = StratifiedKFold(n_splits=5, shuffle=True, random_state=123)\n",
        "\n",
        "#DTclf = DecisionTreeClassifier()\n",
        "\n",
        "# define metrics for evaluating\n",
        "scoring = ['accuracy', 'precision_micro', 'recall_micro', 'f1_micro', 'roc_auc_ovr']\n",
        "\n",
        "# perform the 5-fold CV and get the metrics results\n",
        "cv_results = cross_validate(estimator=DTclf2,\n",
        "                            X=X_train_prepared,\n",
        "                            y=y2_train_prepared,\n",
        "                            scoring=scoring,\n",
        "                            cv=cv,\n",
        "                            return_train_score=False) # prevent to show the train scores on cv splits."
      ],
      "metadata": {
        "id": "gV18Fo6tl0nE"
      },
      "execution_count": null,
      "outputs": []
    },
    {
      "cell_type": "code",
      "source": [
        "cv_results"
      ],
      "metadata": {
        "colab": {
          "base_uri": "https://localhost:8080/"
        },
        "id": "jx_362YFh3su",
        "outputId": "795da897-93cf-42dc-a401-5163c807b6dc"
      },
      "execution_count": null,
      "outputs": [
        {
          "output_type": "execute_result",
          "data": {
            "text/plain": [
              "{'fit_time': array([4.4251399 , 3.62191296, 3.90445662, 4.30491233, 3.75767589]),\n",
              " 'score_time': array([0.05133986, 0.03390121, 0.03377342, 0.03349757, 0.03556776]),\n",
              " 'test_accuracy': array([0.93435798, 0.92973651, 0.92682788, 0.92198015, 0.93204631]),\n",
              " 'test_precision_micro': array([0.93435798, 0.92973651, 0.92682788, 0.92198015, 0.93204631]),\n",
              " 'test_recall_micro': array([0.93435798, 0.92973651, 0.92682788, 0.92198015, 0.93204631]),\n",
              " 'test_f1_micro': array([0.93435798, 0.92973651, 0.92682788, 0.92198015, 0.93204631]),\n",
              " 'test_roc_auc_ovr': array([0.98750788, 0.98628108, 0.98636663, 0.98604296, 0.98720016])}"
            ]
          },
          "metadata": {},
          "execution_count": 59
        }
      ]
    },
    {
      "cell_type": "code",
      "source": [
        "# ======== Evaluate the model using testing data =======\n",
        "from sklearn.metrics import roc_curve, auc, roc_auc_score, confusion_matrix, classification_report\n",
        "from sklearn.metrics import precision_recall_curve, precision_score, recall_score, f1_score, accuracy_score\n",
        "# fit the Logistic Regression model\n",
        "DTclf2.fit(X=X_train_prepared, y=y2_train_prepared)\n",
        "\n",
        "# predition on testing data\n",
        "y_pred_class = DTclf2.predict(X=X_test_prepared)\n",
        "y_pred_score = DTclf2.predict_proba(X=X_test_prepared)[:, 1]\n",
        "\n",
        "# AUC of ROC\n",
        "auc_ontest = roc_auc_score(y_true=y2_test_prepared, y_score=y_pred_score)\n",
        "# confusion matrix\n",
        "cm_ontest = confusion_matrix(y_true=y2_test_prepared, y_pred=y_pred_class)\n",
        "# precision score\n",
        "precision_ontest = precision_score(y_true=y2_test_prepared, y_pred=y_pred_class)\n",
        "# recall score\n",
        "recall_ontest = recall_score(y_true=y2_test_prepared, y_pred=y_pred_class)\n",
        "# classifition report\n",
        "cls_report_ontest = classification_report(y_true=y2_test_prepared, y_pred=y_pred_class)\n",
        "\n",
        "# print the above results\n",
        "print('The model scores {:1.5f} ROC AUC on the test set.'.format(auc_ontest))\n",
        "print('The precision score on the test set: {:1.5f}'.format(precision_ontest))\n",
        "print('The recall score on the test set: {:1.5f}'.format(recall_ontest))\n",
        "print('Confusion Matrix:\\n', cm_ontest)\n",
        "# Print classification report:\n",
        "print('Classification Report:\\n', cls_report_ontest)"
      ],
      "metadata": {
        "colab": {
          "base_uri": "https://localhost:8080/"
        },
        "id": "mraHYbOZh-Ju",
        "outputId": "57554b8a-0c80-45f8-b603-d056107e24f7"
      },
      "execution_count": null,
      "outputs": [
        {
          "output_type": "stream",
          "name": "stdout",
          "text": [
            "The model scores 0.97804 ROC AUC on the test set.\n",
            "The precision score on the test set: 0.89834\n",
            "The recall score on the test set: 0.94794\n",
            "Confusion Matrix:\n",
            " [[32137  4863]\n",
            " [ 2360 42972]]\n",
            "Classification Report:\n",
            "               precision    recall  f1-score   support\n",
            "\n",
            "           0       0.93      0.87      0.90     37000\n",
            "           1       0.90      0.95      0.92     45332\n",
            "\n",
            "    accuracy                           0.91     82332\n",
            "   macro avg       0.91      0.91      0.91     82332\n",
            "weighted avg       0.91      0.91      0.91     82332\n",
            "\n"
          ]
        }
      ]
    },
    {
      "cell_type": "code",
      "source": [
        "from sklearn.ensemble import RandomForestClassifier"
      ],
      "metadata": {
        "id": "LkT0Yp5pk6VP"
      },
      "execution_count": null,
      "outputs": []
    },
    {
      "cell_type": "code",
      "source": [
        "rnd_clf = RandomForestClassifier(n_estimators=100, max_depth=12,\n",
        "                                 min_samples_split=10, min_samples_leaf=5,\n",
        "                                 max_features=0.8, class_weight='balanced',\n",
        "                                 n_jobs=-1, random_state=42) #default is bootstrap=True means we are doing bagging and when we change it to flase we are doing pasting.\n",
        "rnd_clf.fit(X_train_prepared, y2_train_prepared)\n"
      ],
      "metadata": {
        "colab": {
          "base_uri": "https://localhost:8080/",
          "height": 115
        },
        "id": "thtdY-gTjd3y",
        "outputId": "8981d331-7594-4dc2-a904-117f697a4596"
      },
      "execution_count": null,
      "outputs": [
        {
          "output_type": "execute_result",
          "data": {
            "text/plain": [
              "RandomForestClassifier(class_weight='balanced', max_depth=12, max_features=0.8,\n",
              "                       min_samples_leaf=5, min_samples_split=10, n_jobs=-1,\n",
              "                       random_state=42)"
            ],
            "text/html": [
              "<style>#sk-container-id-2 {\n",
              "  /* Definition of color scheme common for light and dark mode */\n",
              "  --sklearn-color-text: #000;\n",
              "  --sklearn-color-text-muted: #666;\n",
              "  --sklearn-color-line: gray;\n",
              "  /* Definition of color scheme for unfitted estimators */\n",
              "  --sklearn-color-unfitted-level-0: #fff5e6;\n",
              "  --sklearn-color-unfitted-level-1: #f6e4d2;\n",
              "  --sklearn-color-unfitted-level-2: #ffe0b3;\n",
              "  --sklearn-color-unfitted-level-3: chocolate;\n",
              "  /* Definition of color scheme for fitted estimators */\n",
              "  --sklearn-color-fitted-level-0: #f0f8ff;\n",
              "  --sklearn-color-fitted-level-1: #d4ebff;\n",
              "  --sklearn-color-fitted-level-2: #b3dbfd;\n",
              "  --sklearn-color-fitted-level-3: cornflowerblue;\n",
              "\n",
              "  /* Specific color for light theme */\n",
              "  --sklearn-color-text-on-default-background: var(--sg-text-color, var(--theme-code-foreground, var(--jp-content-font-color1, black)));\n",
              "  --sklearn-color-background: var(--sg-background-color, var(--theme-background, var(--jp-layout-color0, white)));\n",
              "  --sklearn-color-border-box: var(--sg-text-color, var(--theme-code-foreground, var(--jp-content-font-color1, black)));\n",
              "  --sklearn-color-icon: #696969;\n",
              "\n",
              "  @media (prefers-color-scheme: dark) {\n",
              "    /* Redefinition of color scheme for dark theme */\n",
              "    --sklearn-color-text-on-default-background: var(--sg-text-color, var(--theme-code-foreground, var(--jp-content-font-color1, white)));\n",
              "    --sklearn-color-background: var(--sg-background-color, var(--theme-background, var(--jp-layout-color0, #111)));\n",
              "    --sklearn-color-border-box: var(--sg-text-color, var(--theme-code-foreground, var(--jp-content-font-color1, white)));\n",
              "    --sklearn-color-icon: #878787;\n",
              "  }\n",
              "}\n",
              "\n",
              "#sk-container-id-2 {\n",
              "  color: var(--sklearn-color-text);\n",
              "}\n",
              "\n",
              "#sk-container-id-2 pre {\n",
              "  padding: 0;\n",
              "}\n",
              "\n",
              "#sk-container-id-2 input.sk-hidden--visually {\n",
              "  border: 0;\n",
              "  clip: rect(1px 1px 1px 1px);\n",
              "  clip: rect(1px, 1px, 1px, 1px);\n",
              "  height: 1px;\n",
              "  margin: -1px;\n",
              "  overflow: hidden;\n",
              "  padding: 0;\n",
              "  position: absolute;\n",
              "  width: 1px;\n",
              "}\n",
              "\n",
              "#sk-container-id-2 div.sk-dashed-wrapped {\n",
              "  border: 1px dashed var(--sklearn-color-line);\n",
              "  margin: 0 0.4em 0.5em 0.4em;\n",
              "  box-sizing: border-box;\n",
              "  padding-bottom: 0.4em;\n",
              "  background-color: var(--sklearn-color-background);\n",
              "}\n",
              "\n",
              "#sk-container-id-2 div.sk-container {\n",
              "  /* jupyter's `normalize.less` sets `[hidden] { display: none; }`\n",
              "     but bootstrap.min.css set `[hidden] { display: none !important; }`\n",
              "     so we also need the `!important` here to be able to override the\n",
              "     default hidden behavior on the sphinx rendered scikit-learn.org.\n",
              "     See: https://github.com/scikit-learn/scikit-learn/issues/21755 */\n",
              "  display: inline-block !important;\n",
              "  position: relative;\n",
              "}\n",
              "\n",
              "#sk-container-id-2 div.sk-text-repr-fallback {\n",
              "  display: none;\n",
              "}\n",
              "\n",
              "div.sk-parallel-item,\n",
              "div.sk-serial,\n",
              "div.sk-item {\n",
              "  /* draw centered vertical line to link estimators */\n",
              "  background-image: linear-gradient(var(--sklearn-color-text-on-default-background), var(--sklearn-color-text-on-default-background));\n",
              "  background-size: 2px 100%;\n",
              "  background-repeat: no-repeat;\n",
              "  background-position: center center;\n",
              "}\n",
              "\n",
              "/* Parallel-specific style estimator block */\n",
              "\n",
              "#sk-container-id-2 div.sk-parallel-item::after {\n",
              "  content: \"\";\n",
              "  width: 100%;\n",
              "  border-bottom: 2px solid var(--sklearn-color-text-on-default-background);\n",
              "  flex-grow: 1;\n",
              "}\n",
              "\n",
              "#sk-container-id-2 div.sk-parallel {\n",
              "  display: flex;\n",
              "  align-items: stretch;\n",
              "  justify-content: center;\n",
              "  background-color: var(--sklearn-color-background);\n",
              "  position: relative;\n",
              "}\n",
              "\n",
              "#sk-container-id-2 div.sk-parallel-item {\n",
              "  display: flex;\n",
              "  flex-direction: column;\n",
              "}\n",
              "\n",
              "#sk-container-id-2 div.sk-parallel-item:first-child::after {\n",
              "  align-self: flex-end;\n",
              "  width: 50%;\n",
              "}\n",
              "\n",
              "#sk-container-id-2 div.sk-parallel-item:last-child::after {\n",
              "  align-self: flex-start;\n",
              "  width: 50%;\n",
              "}\n",
              "\n",
              "#sk-container-id-2 div.sk-parallel-item:only-child::after {\n",
              "  width: 0;\n",
              "}\n",
              "\n",
              "/* Serial-specific style estimator block */\n",
              "\n",
              "#sk-container-id-2 div.sk-serial {\n",
              "  display: flex;\n",
              "  flex-direction: column;\n",
              "  align-items: center;\n",
              "  background-color: var(--sklearn-color-background);\n",
              "  padding-right: 1em;\n",
              "  padding-left: 1em;\n",
              "}\n",
              "\n",
              "\n",
              "/* Toggleable style: style used for estimator/Pipeline/ColumnTransformer box that is\n",
              "clickable and can be expanded/collapsed.\n",
              "- Pipeline and ColumnTransformer use this feature and define the default style\n",
              "- Estimators will overwrite some part of the style using the `sk-estimator` class\n",
              "*/\n",
              "\n",
              "/* Pipeline and ColumnTransformer style (default) */\n",
              "\n",
              "#sk-container-id-2 div.sk-toggleable {\n",
              "  /* Default theme specific background. It is overwritten whether we have a\n",
              "  specific estimator or a Pipeline/ColumnTransformer */\n",
              "  background-color: var(--sklearn-color-background);\n",
              "}\n",
              "\n",
              "/* Toggleable label */\n",
              "#sk-container-id-2 label.sk-toggleable__label {\n",
              "  cursor: pointer;\n",
              "  display: flex;\n",
              "  width: 100%;\n",
              "  margin-bottom: 0;\n",
              "  padding: 0.5em;\n",
              "  box-sizing: border-box;\n",
              "  text-align: center;\n",
              "  align-items: start;\n",
              "  justify-content: space-between;\n",
              "  gap: 0.5em;\n",
              "}\n",
              "\n",
              "#sk-container-id-2 label.sk-toggleable__label .caption {\n",
              "  font-size: 0.6rem;\n",
              "  font-weight: lighter;\n",
              "  color: var(--sklearn-color-text-muted);\n",
              "}\n",
              "\n",
              "#sk-container-id-2 label.sk-toggleable__label-arrow:before {\n",
              "  /* Arrow on the left of the label */\n",
              "  content: \"▸\";\n",
              "  float: left;\n",
              "  margin-right: 0.25em;\n",
              "  color: var(--sklearn-color-icon);\n",
              "}\n",
              "\n",
              "#sk-container-id-2 label.sk-toggleable__label-arrow:hover:before {\n",
              "  color: var(--sklearn-color-text);\n",
              "}\n",
              "\n",
              "/* Toggleable content - dropdown */\n",
              "\n",
              "#sk-container-id-2 div.sk-toggleable__content {\n",
              "  max-height: 0;\n",
              "  max-width: 0;\n",
              "  overflow: hidden;\n",
              "  text-align: left;\n",
              "  /* unfitted */\n",
              "  background-color: var(--sklearn-color-unfitted-level-0);\n",
              "}\n",
              "\n",
              "#sk-container-id-2 div.sk-toggleable__content.fitted {\n",
              "  /* fitted */\n",
              "  background-color: var(--sklearn-color-fitted-level-0);\n",
              "}\n",
              "\n",
              "#sk-container-id-2 div.sk-toggleable__content pre {\n",
              "  margin: 0.2em;\n",
              "  border-radius: 0.25em;\n",
              "  color: var(--sklearn-color-text);\n",
              "  /* unfitted */\n",
              "  background-color: var(--sklearn-color-unfitted-level-0);\n",
              "}\n",
              "\n",
              "#sk-container-id-2 div.sk-toggleable__content.fitted pre {\n",
              "  /* unfitted */\n",
              "  background-color: var(--sklearn-color-fitted-level-0);\n",
              "}\n",
              "\n",
              "#sk-container-id-2 input.sk-toggleable__control:checked~div.sk-toggleable__content {\n",
              "  /* Expand drop-down */\n",
              "  max-height: 200px;\n",
              "  max-width: 100%;\n",
              "  overflow: auto;\n",
              "}\n",
              "\n",
              "#sk-container-id-2 input.sk-toggleable__control:checked~label.sk-toggleable__label-arrow:before {\n",
              "  content: \"▾\";\n",
              "}\n",
              "\n",
              "/* Pipeline/ColumnTransformer-specific style */\n",
              "\n",
              "#sk-container-id-2 div.sk-label input.sk-toggleable__control:checked~label.sk-toggleable__label {\n",
              "  color: var(--sklearn-color-text);\n",
              "  background-color: var(--sklearn-color-unfitted-level-2);\n",
              "}\n",
              "\n",
              "#sk-container-id-2 div.sk-label.fitted input.sk-toggleable__control:checked~label.sk-toggleable__label {\n",
              "  background-color: var(--sklearn-color-fitted-level-2);\n",
              "}\n",
              "\n",
              "/* Estimator-specific style */\n",
              "\n",
              "/* Colorize estimator box */\n",
              "#sk-container-id-2 div.sk-estimator input.sk-toggleable__control:checked~label.sk-toggleable__label {\n",
              "  /* unfitted */\n",
              "  background-color: var(--sklearn-color-unfitted-level-2);\n",
              "}\n",
              "\n",
              "#sk-container-id-2 div.sk-estimator.fitted input.sk-toggleable__control:checked~label.sk-toggleable__label {\n",
              "  /* fitted */\n",
              "  background-color: var(--sklearn-color-fitted-level-2);\n",
              "}\n",
              "\n",
              "#sk-container-id-2 div.sk-label label.sk-toggleable__label,\n",
              "#sk-container-id-2 div.sk-label label {\n",
              "  /* The background is the default theme color */\n",
              "  color: var(--sklearn-color-text-on-default-background);\n",
              "}\n",
              "\n",
              "/* On hover, darken the color of the background */\n",
              "#sk-container-id-2 div.sk-label:hover label.sk-toggleable__label {\n",
              "  color: var(--sklearn-color-text);\n",
              "  background-color: var(--sklearn-color-unfitted-level-2);\n",
              "}\n",
              "\n",
              "/* Label box, darken color on hover, fitted */\n",
              "#sk-container-id-2 div.sk-label.fitted:hover label.sk-toggleable__label.fitted {\n",
              "  color: var(--sklearn-color-text);\n",
              "  background-color: var(--sklearn-color-fitted-level-2);\n",
              "}\n",
              "\n",
              "/* Estimator label */\n",
              "\n",
              "#sk-container-id-2 div.sk-label label {\n",
              "  font-family: monospace;\n",
              "  font-weight: bold;\n",
              "  display: inline-block;\n",
              "  line-height: 1.2em;\n",
              "}\n",
              "\n",
              "#sk-container-id-2 div.sk-label-container {\n",
              "  text-align: center;\n",
              "}\n",
              "\n",
              "/* Estimator-specific */\n",
              "#sk-container-id-2 div.sk-estimator {\n",
              "  font-family: monospace;\n",
              "  border: 1px dotted var(--sklearn-color-border-box);\n",
              "  border-radius: 0.25em;\n",
              "  box-sizing: border-box;\n",
              "  margin-bottom: 0.5em;\n",
              "  /* unfitted */\n",
              "  background-color: var(--sklearn-color-unfitted-level-0);\n",
              "}\n",
              "\n",
              "#sk-container-id-2 div.sk-estimator.fitted {\n",
              "  /* fitted */\n",
              "  background-color: var(--sklearn-color-fitted-level-0);\n",
              "}\n",
              "\n",
              "/* on hover */\n",
              "#sk-container-id-2 div.sk-estimator:hover {\n",
              "  /* unfitted */\n",
              "  background-color: var(--sklearn-color-unfitted-level-2);\n",
              "}\n",
              "\n",
              "#sk-container-id-2 div.sk-estimator.fitted:hover {\n",
              "  /* fitted */\n",
              "  background-color: var(--sklearn-color-fitted-level-2);\n",
              "}\n",
              "\n",
              "/* Specification for estimator info (e.g. \"i\" and \"?\") */\n",
              "\n",
              "/* Common style for \"i\" and \"?\" */\n",
              "\n",
              ".sk-estimator-doc-link,\n",
              "a:link.sk-estimator-doc-link,\n",
              "a:visited.sk-estimator-doc-link {\n",
              "  float: right;\n",
              "  font-size: smaller;\n",
              "  line-height: 1em;\n",
              "  font-family: monospace;\n",
              "  background-color: var(--sklearn-color-background);\n",
              "  border-radius: 1em;\n",
              "  height: 1em;\n",
              "  width: 1em;\n",
              "  text-decoration: none !important;\n",
              "  margin-left: 0.5em;\n",
              "  text-align: center;\n",
              "  /* unfitted */\n",
              "  border: var(--sklearn-color-unfitted-level-1) 1pt solid;\n",
              "  color: var(--sklearn-color-unfitted-level-1);\n",
              "}\n",
              "\n",
              ".sk-estimator-doc-link.fitted,\n",
              "a:link.sk-estimator-doc-link.fitted,\n",
              "a:visited.sk-estimator-doc-link.fitted {\n",
              "  /* fitted */\n",
              "  border: var(--sklearn-color-fitted-level-1) 1pt solid;\n",
              "  color: var(--sklearn-color-fitted-level-1);\n",
              "}\n",
              "\n",
              "/* On hover */\n",
              "div.sk-estimator:hover .sk-estimator-doc-link:hover,\n",
              ".sk-estimator-doc-link:hover,\n",
              "div.sk-label-container:hover .sk-estimator-doc-link:hover,\n",
              ".sk-estimator-doc-link:hover {\n",
              "  /* unfitted */\n",
              "  background-color: var(--sklearn-color-unfitted-level-3);\n",
              "  color: var(--sklearn-color-background);\n",
              "  text-decoration: none;\n",
              "}\n",
              "\n",
              "div.sk-estimator.fitted:hover .sk-estimator-doc-link.fitted:hover,\n",
              ".sk-estimator-doc-link.fitted:hover,\n",
              "div.sk-label-container:hover .sk-estimator-doc-link.fitted:hover,\n",
              ".sk-estimator-doc-link.fitted:hover {\n",
              "  /* fitted */\n",
              "  background-color: var(--sklearn-color-fitted-level-3);\n",
              "  color: var(--sklearn-color-background);\n",
              "  text-decoration: none;\n",
              "}\n",
              "\n",
              "/* Span, style for the box shown on hovering the info icon */\n",
              ".sk-estimator-doc-link span {\n",
              "  display: none;\n",
              "  z-index: 9999;\n",
              "  position: relative;\n",
              "  font-weight: normal;\n",
              "  right: .2ex;\n",
              "  padding: .5ex;\n",
              "  margin: .5ex;\n",
              "  width: min-content;\n",
              "  min-width: 20ex;\n",
              "  max-width: 50ex;\n",
              "  color: var(--sklearn-color-text);\n",
              "  box-shadow: 2pt 2pt 4pt #999;\n",
              "  /* unfitted */\n",
              "  background: var(--sklearn-color-unfitted-level-0);\n",
              "  border: .5pt solid var(--sklearn-color-unfitted-level-3);\n",
              "}\n",
              "\n",
              ".sk-estimator-doc-link.fitted span {\n",
              "  /* fitted */\n",
              "  background: var(--sklearn-color-fitted-level-0);\n",
              "  border: var(--sklearn-color-fitted-level-3);\n",
              "}\n",
              "\n",
              ".sk-estimator-doc-link:hover span {\n",
              "  display: block;\n",
              "}\n",
              "\n",
              "/* \"?\"-specific style due to the `<a>` HTML tag */\n",
              "\n",
              "#sk-container-id-2 a.estimator_doc_link {\n",
              "  float: right;\n",
              "  font-size: 1rem;\n",
              "  line-height: 1em;\n",
              "  font-family: monospace;\n",
              "  background-color: var(--sklearn-color-background);\n",
              "  border-radius: 1rem;\n",
              "  height: 1rem;\n",
              "  width: 1rem;\n",
              "  text-decoration: none;\n",
              "  /* unfitted */\n",
              "  color: var(--sklearn-color-unfitted-level-1);\n",
              "  border: var(--sklearn-color-unfitted-level-1) 1pt solid;\n",
              "}\n",
              "\n",
              "#sk-container-id-2 a.estimator_doc_link.fitted {\n",
              "  /* fitted */\n",
              "  border: var(--sklearn-color-fitted-level-1) 1pt solid;\n",
              "  color: var(--sklearn-color-fitted-level-1);\n",
              "}\n",
              "\n",
              "/* On hover */\n",
              "#sk-container-id-2 a.estimator_doc_link:hover {\n",
              "  /* unfitted */\n",
              "  background-color: var(--sklearn-color-unfitted-level-3);\n",
              "  color: var(--sklearn-color-background);\n",
              "  text-decoration: none;\n",
              "}\n",
              "\n",
              "#sk-container-id-2 a.estimator_doc_link.fitted:hover {\n",
              "  /* fitted */\n",
              "  background-color: var(--sklearn-color-fitted-level-3);\n",
              "}\n",
              "</style><div id=\"sk-container-id-2\" class=\"sk-top-container\"><div class=\"sk-text-repr-fallback\"><pre>RandomForestClassifier(class_weight=&#x27;balanced&#x27;, max_depth=12, max_features=0.8,\n",
              "                       min_samples_leaf=5, min_samples_split=10, n_jobs=-1,\n",
              "                       random_state=42)</pre><b>In a Jupyter environment, please rerun this cell to show the HTML representation or trust the notebook. <br />On GitHub, the HTML representation is unable to render, please try loading this page with nbviewer.org.</b></div><div class=\"sk-container\" hidden><div class=\"sk-item\"><div class=\"sk-estimator fitted sk-toggleable\"><input class=\"sk-toggleable__control sk-hidden--visually\" id=\"sk-estimator-id-2\" type=\"checkbox\" checked><label for=\"sk-estimator-id-2\" class=\"sk-toggleable__label fitted sk-toggleable__label-arrow\"><div><div>RandomForestClassifier</div></div><div><a class=\"sk-estimator-doc-link fitted\" rel=\"noreferrer\" target=\"_blank\" href=\"https://scikit-learn.org/1.6/modules/generated/sklearn.ensemble.RandomForestClassifier.html\">?<span>Documentation for RandomForestClassifier</span></a><span class=\"sk-estimator-doc-link fitted\">i<span>Fitted</span></span></div></label><div class=\"sk-toggleable__content fitted\"><pre>RandomForestClassifier(class_weight=&#x27;balanced&#x27;, max_depth=12, max_features=0.8,\n",
              "                       min_samples_leaf=5, min_samples_split=10, n_jobs=-1,\n",
              "                       random_state=42)</pre></div> </div></div></div></div>"
            ]
          },
          "metadata": {},
          "execution_count": 62
        }
      ]
    },
    {
      "cell_type": "code",
      "source": [
        "import joblib\n",
        "\n",
        "# Save the model to a file\n",
        "joblib.dump(rnd_clf, 'random_forest_model.joblib')"
      ],
      "metadata": {
        "colab": {
          "base_uri": "https://localhost:8080/"
        },
        "id": "_qeFgp1zWiI4",
        "outputId": "fd7bdad4-8dbd-48fe-b897-c193ff3a27df"
      },
      "execution_count": null,
      "outputs": [
        {
          "output_type": "execute_result",
          "data": {
            "text/plain": [
              "['random_forest_model.joblib']"
            ]
          },
          "metadata": {},
          "execution_count": 63
        }
      ]
    },
    {
      "cell_type": "code",
      "source": [
        "for score, name in zip(rnd_clf.feature_importances_, feature_names):\n",
        "    print(round(score, 2), name)"
      ],
      "metadata": {
        "colab": {
          "base_uri": "https://localhost:8080/"
        },
        "id": "GL3Ti2VMnGm_",
        "outputId": "a984e558-6037-4c15-a031-99f8604f0577"
      },
      "execution_count": null,
      "outputs": [
        {
          "output_type": "stream",
          "name": "stdout",
          "text": [
            "0.0 dur\n",
            "0.0 spkts\n",
            "0.0 dpkts\n",
            "0.08 sbytes\n",
            "0.01 dbytes\n",
            "0.0 rate\n",
            "0.52 sttl\n",
            "0.0 dttl\n",
            "0.0 sload\n",
            "0.02 dload\n",
            "0.01 sloss\n",
            "0.0 dloss\n",
            "0.0 sinpkt\n",
            "0.0 dinpkt\n",
            "0.0 sjit\n",
            "0.0 djit\n",
            "0.0 swin\n",
            "0.0 stcpb\n",
            "0.0 dtcpb\n",
            "0.0 dwin\n",
            "0.0 tcprtt\n",
            "0.01 synack\n",
            "0.0 ackdat\n",
            "0.04 smean\n",
            "0.01 dmean\n",
            "0.0 trans_depth\n",
            "0.0 response_body_len\n",
            "0.01 ct_srv_src\n",
            "0.14 ct_state_ttl\n",
            "0.0 ct_dst_ltm\n",
            "0.0 ct_src_dport_ltm\n",
            "0.0 ct_dst_sport_ltm\n",
            "0.03 ct_dst_src_ltm\n",
            "0.0 is_ftp_login\n",
            "0.0 ct_ftp_cmd\n",
            "0.0 ct_flw_http_mthd\n",
            "0.0 ct_src_ltm\n",
            "0.07 ct_srv_dst\n",
            "0.0 is_sm_ips_ports\n",
            "0.0 proto_a/n\n",
            "0.0 proto_aes-sp3-d\n",
            "0.0 proto_any\n",
            "0.0 proto_argus\n",
            "0.0 proto_aris\n",
            "0.0 proto_arp\n",
            "0.0 proto_ax.25\n",
            "0.0 proto_bbn-rcc\n",
            "0.0 proto_bna\n",
            "0.0 proto_br-sat-mon\n",
            "0.0 proto_cbt\n",
            "0.0 proto_cftp\n",
            "0.0 proto_chaos\n",
            "0.0 proto_compaq-peer\n",
            "0.0 proto_cphb\n",
            "0.0 proto_cpnx\n",
            "0.0 proto_crtp\n",
            "0.0 proto_crudp\n",
            "0.0 proto_dcn\n",
            "0.0 proto_ddp\n",
            "0.0 proto_ddx\n",
            "0.0 proto_dgp\n",
            "0.0 proto_egp\n",
            "0.0 proto_eigrp\n",
            "0.0 proto_emcon\n",
            "0.0 proto_encap\n",
            "0.0 proto_etherip\n",
            "0.0 proto_fc\n",
            "0.0 proto_fire\n",
            "0.0 proto_ggp\n",
            "0.0 proto_gmtp\n",
            "0.0 proto_gre\n",
            "0.0 proto_hmp\n",
            "0.0 proto_i-nlsp\n",
            "0.0 proto_iatp\n",
            "0.0 proto_ib\n",
            "0.0 proto_icmp\n",
            "0.0 proto_idpr\n",
            "0.0 proto_idpr-cmtp\n",
            "0.0 proto_idrp\n",
            "0.0 proto_ifmp\n",
            "0.0 proto_igmp\n",
            "0.0 proto_igp\n",
            "0.0 proto_il\n",
            "0.0 proto_ip\n",
            "0.0 proto_ipcomp\n",
            "0.0 proto_ipcv\n",
            "0.0 proto_ipip\n",
            "0.0 proto_iplt\n",
            "0.0 proto_ipnip\n",
            "0.0 proto_ippc\n",
            "0.0 proto_ipv6\n",
            "0.0 proto_ipv6-frag\n",
            "0.0 proto_ipv6-no\n",
            "0.0 proto_ipv6-opts\n",
            "0.0 proto_ipv6-route\n",
            "0.0 proto_ipx-n-ip\n",
            "0.0 proto_irtp\n",
            "0.0 proto_isis\n",
            "0.0 proto_iso-ip\n",
            "0.0 proto_iso-tp4\n",
            "0.0 proto_kryptolan\n",
            "0.0 proto_l2tp\n",
            "0.0 proto_larp\n",
            "0.0 proto_leaf-1\n",
            "0.0 proto_leaf-2\n",
            "0.0 proto_merit-inp\n",
            "0.0 proto_mfe-nsp\n",
            "0.0 proto_mhrp\n",
            "0.0 proto_micp\n",
            "0.0 proto_mobile\n",
            "0.0 proto_mtp\n",
            "0.0 proto_mux\n",
            "0.0 proto_narp\n",
            "0.0 proto_netblt\n",
            "0.0 proto_nsfnet-igp\n",
            "0.0 proto_nvp\n",
            "0.0 proto_ospf\n",
            "0.0 proto_pgm\n",
            "0.0 proto_pim\n",
            "0.0 proto_pipe\n",
            "0.0 proto_pnni\n",
            "0.0 proto_pri-enc\n",
            "0.0 proto_prm\n",
            "0.0 proto_ptp\n",
            "0.0 proto_pup\n",
            "0.0 proto_pvp\n",
            "0.0 proto_qnx\n",
            "0.0 proto_rdp\n",
            "0.0 proto_rsvp\n",
            "0.0 proto_rtp\n",
            "0.0 proto_rvd\n",
            "0.0 proto_sat-expak\n",
            "0.0 proto_sat-mon\n",
            "0.0 proto_sccopmce\n",
            "0.0 proto_scps\n",
            "0.0 proto_sctp\n",
            "0.0 proto_sdrp\n",
            "0.0 proto_secure-vmtp\n",
            "0.0 proto_sep\n",
            "0.0 proto_skip\n",
            "0.0 proto_sm\n",
            "0.0 proto_smp\n",
            "0.0 proto_snp\n",
            "0.0 proto_sprite-rpc\n",
            "0.0 proto_sps\n",
            "0.0 proto_srp\n",
            "0.0 proto_st2\n",
            "0.0 proto_stp\n",
            "0.0 proto_sun-nd\n",
            "0.0 proto_swipe\n",
            "0.0 proto_tcf\n",
            "0.0 proto_tcp\n",
            "0.0 proto_tlsp\n",
            "0.0 proto_tp++\n",
            "0.0 proto_trunk-1\n",
            "0.0 proto_trunk-2\n",
            "0.0 proto_ttp\n",
            "0.0 proto_udp\n",
            "0.0 proto_unas\n",
            "0.0 proto_uti\n",
            "0.0 proto_vines\n",
            "0.0 proto_visa\n",
            "0.0 proto_vmtp\n",
            "0.0 proto_vrrp\n",
            "0.0 proto_wb-expak\n",
            "0.0 proto_wb-mon\n",
            "0.0 proto_wsn\n",
            "0.0 proto_xnet\n",
            "0.0 proto_xns-idp\n",
            "0.0 proto_xtp\n",
            "0.0 proto_zero\n",
            "0.0 service_dhcp\n",
            "0.0 service_dns\n",
            "0.0 service_ftp\n",
            "0.0 service_ftp-data\n",
            "0.0 service_http\n",
            "0.0 service_irc\n",
            "0.0 service_pop3\n",
            "0.0 service_radius\n",
            "0.0 service_smtp\n",
            "0.0 service_snmp\n",
            "0.0 service_ssh\n",
            "0.0 service_ssl\n",
            "0.0 state_ECO\n",
            "0.0 state_FIN\n",
            "0.0 state_INT\n",
            "0.0 state_PAR\n",
            "0.0 state_REQ\n",
            "0.0 state_RST\n",
            "0.0 state_URN\n",
            "0.0 state_no\n"
          ]
        }
      ]
    },
    {
      "cell_type": "code",
      "source": [
        "importances = rnd_clf.feature_importances_\n",
        "indices = np.argsort(importances)\n",
        "features = np.concatenate([numerical_feature_names, categorical_feature_names])\n",
        "plt.title('Feature Importances of Decision Tree Classifier')\n",
        "count = 10 # top # importance\n",
        "plt.barh(range(count), importances[indices][len(indices)-count:], color='g', align='center')\n",
        "plt.yticks(range(count), [features[i] for i in indices[len(indices)-count:]])\n",
        "plt.xlabel('Relative Importance')\n",
        "plt.show()"
      ],
      "metadata": {
        "colab": {
          "base_uri": "https://localhost:8080/",
          "height": 472
        },
        "id": "yGZn6gLpoBuq",
        "outputId": "5af7aab2-60d1-4cbc-90af-599f61afdba6"
      },
      "execution_count": null,
      "outputs": [
        {
          "output_type": "display_data",
          "data": {
            "text/plain": [
              "<Figure size 640x480 with 1 Axes>"
            ],
            "image/png": "[encoded data removed]"
          },
          "metadata": {}
        }
      ]
    },
    {
      "cell_type": "code",
      "source": [
        "y2_pred_rf_train = rnd_clf.predict(X_train_prepared)"
      ],
      "metadata": {
        "id": "q3u5nsQhlvQF"
      },
      "execution_count": null,
      "outputs": []
    },
    {
      "cell_type": "code",
      "source": [
        "print(\"Accuracy:\",metrics.accuracy_score(y2_train_prepared, y2_pred_rf_train))\n",
        "\n",
        "report=metrics.classification_report(y2_train_prepared, y2_pred_rf_train)\n",
        "\n",
        "RNDclf_name=['Random Forest Classifer','RegLog']\n",
        "\n",
        "print('Reporting for %s:'%RNDclf_name)\n",
        "\n",
        "print(report)"
      ],
      "metadata": {
        "colab": {
          "base_uri": "https://localhost:8080/"
        },
        "id": "oAcvHeILm0ch",
        "outputId": "eb1b6f2a-c798-4a3a-cd50-cbc000cc0787"
      },
      "execution_count": null,
      "outputs": [
        {
          "output_type": "stream",
          "name": "stdout",
          "text": [
            "Accuracy: 0.948557382471869\n",
            "Reporting for ['Random Forest Classifer', 'RegLog']:\n",
            "              precision    recall  f1-score   support\n",
            "\n",
            "           0       0.88      0.97      0.92     56000\n",
            "           1       0.98      0.94      0.96    119341\n",
            "\n",
            "    accuracy                           0.95    175341\n",
            "   macro avg       0.93      0.95      0.94    175341\n",
            "weighted avg       0.95      0.95      0.95    175341\n",
            "\n"
          ]
        }
      ]
    },
    {
      "cell_type": "code",
      "source": [
        "y2_pred_rf_test = rnd_clf.predict(X_test_prepared)"
      ],
      "metadata": {
        "id": "xyYS-DsY8vQg"
      },
      "execution_count": null,
      "outputs": []
    },
    {
      "cell_type": "code",
      "source": [
        "print(\"Accuracy:\",metrics.accuracy_score(y2_test_prepared, y2_pred_rf_test))\n",
        "\n",
        "report=metrics.classification_report(y2_test_prepared, y2_pred_rf_test)\n",
        "\n",
        "RNDclf_name=['Random Forest Classifer','RegLog']\n",
        "\n",
        "print('Reporting for %s:'%RNDclf_name)\n",
        "\n",
        "print(report)"
      ],
      "metadata": {
        "colab": {
          "base_uri": "https://localhost:8080/"
        },
        "id": "7A7cZ42e828K",
        "outputId": "a03f8eaf-d871-4693-c99e-3d3fd6824762"
      },
      "execution_count": null,
      "outputs": [
        {
          "output_type": "stream",
          "name": "stdout",
          "text": [
            "Accuracy: 0.9166909585580333\n",
            "Reporting for ['Random Forest Classifer', 'RegLog']:\n",
            "              precision    recall  f1-score   support\n",
            "\n",
            "           0       0.95      0.86      0.90     37000\n",
            "           1       0.89      0.97      0.93     45332\n",
            "\n",
            "    accuracy                           0.92     82332\n",
            "   macro avg       0.92      0.91      0.91     82332\n",
            "weighted avg       0.92      0.92      0.92     82332\n",
            "\n"
          ]
        }
      ]
    },
    {
      "cell_type": "code",
      "source": [
        "from sklearn.model_selection import train_test_split\n",
        "X_train_MLP, X_valid_MLP, y2_train_MLP, y_valid_MLP = train_test_split(\n",
        "    X_train_prepared, y2_train_prepared, test_size=0.1, random_state=42)"
      ],
      "metadata": {
        "id": "9UY9aYL5Mu3a"
      },
      "execution_count": null,
      "outputs": []
    },
    {
      "cell_type": "code",
      "source": [
        "import tensorflow as tf\n",
        "from tensorflow import keras\n",
        "\n",
        "print(tf.__version__)\n",
        "print(keras.__version__)"
      ],
      "metadata": {
        "id": "NA8T-L8PwM3_",
        "colab": {
          "base_uri": "https://localhost:8080/"
        },
        "outputId": "dc3828e3-5f98-4ba5-9298-8c95afd8a999"
      },
      "execution_count": null,
      "outputs": [
        {
          "output_type": "stream",
          "name": "stdout",
          "text": [
            "2.18.0\n",
            "3.8.0\n"
          ]
        }
      ]
    },
    {
      "cell_type": "code",
      "source": [
        "tf.random.set_seed(42)"
      ],
      "metadata": {
        "id": "88SZ2aXKq9Qe"
      },
      "execution_count": null,
      "outputs": []
    },
    {
      "cell_type": "code",
      "source": [
        "import sys\n",
        "if \"google.colab\" in sys.modules:\n",
        "    %pip install -q -U keras_tuner"
      ],
      "metadata": {
        "id": "v3H2pqwhNVQr",
        "colab": {
          "base_uri": "https://localhost:8080/"
        },
        "outputId": "97fcb468-bce6-48d9-8713-1d01b75e53b2"
      },
      "execution_count": null,
      "outputs": [
        {
          "output_type": "stream",
          "name": "stdout",
          "text": [
            "\u001b[?25l   \u001b[90m━━━━━━━━━━━━━━━━━━━━━━━━━━━━━━━━━━━━━━━━\u001b[0m \u001b[32m0.0/129.1 kB\u001b[0m \u001b[31m?\u001b[0m eta \u001b[36m-:--:--\u001b[0m\r\u001b[2K   \u001b[91m━━━━━━━━━━━━━━━━━━━━━━━━━━━━\u001b[0m\u001b[91m╸\u001b[0m\u001b[90m━━━━━━━━━━━\u001b[0m \u001b[32m92.2/129.1 kB\u001b[0m \u001b[31m2.4 MB/s\u001b[0m eta \u001b[36m0:00:01\u001b[0m\r\u001b[2K   \u001b[90m━━━━━━━━━━━━━━━━━━━━━━━━━━━━━━━━━━━━━━━━\u001b[0m \u001b[32m129.1/129.1 kB\u001b[0m \u001b[31m2.5 MB/s\u001b[0m eta \u001b[36m0:00:00\u001b[0m\n",
            "\u001b[?25h"
          ]
        }
      ]
    },
    {
      "cell_type": "code",
      "source": [
        "def build_model():\n",
        "    n_hidden = 3  # Number of hidden layers\n",
        "    n_neurons = 64  # Neurons per layer\n",
        "    learning_rate = 0.00905127409782462  # Predefined learning rate\n",
        "    optimizer = tf.keras.optimizers.Adam(learning_rate=learning_rate)  # Optimizer set to Adam\n",
        "\n",
        "    model1 = tf.keras.Sequential()\n",
        "    model1.add(tf.keras.layers.InputLayer(shape=(191,)))  # Input layer for 191 features\n",
        "\n",
        "    for _ in range(n_hidden):\n",
        "        model1.add(tf.keras.layers.Dense(n_neurons, activation=\"relu\"))  # Hidden layers\n",
        "\n",
        "    model1.add(tf.keras.layers.Dense(1, activation='sigmoid'))  # Output layer for binary classification\n",
        "\n",
        "    model1.compile(\n",
        "        optimizer=optimizer,\n",
        "        loss='binary_crossentropy',\n",
        "        metrics=[\"accuracy\", tf.keras.metrics.Precision(), tf.keras.metrics.Recall()]\n",
        "    )\n",
        "\n",
        "    return model1\n",
        "\n",
        "model1 = build_model()\n",
        "history = model1.fit(\n",
        "    X_train_MLP, y2_train_MLP,\n",
        "    epochs=10,\n",
        "    batch_size=32,\n",
        "    validation_data=(X_valid_MLP, y_valid_MLP)\n",
        ")\n"
      ],
      "metadata": {
        "colab": {
          "base_uri": "https://localhost:8080/"
        },
        "id": "_9EqmLmy4_O-",
        "outputId": "004008b5-ccb1-413f-fff0-0a6cb2995240"
      },
      "execution_count": null,
      "outputs": [
        {
          "output_type": "stream",
          "name": "stdout",
          "text": [
            "Epoch 1/10\n",
            "\u001b[1m4932/4932\u001b[0m \u001b[32m━━━━━━━━━━━━━━━━━━━━\u001b[0m\u001b[37m\u001b[0m \u001b[1m18s\u001b[0m 3ms/step - accuracy: 0.9310 - loss: 0.1521 - precision_6: 0.9181 - recall_6: 0.9868 - val_accuracy: 0.9349 - val_loss: 0.1254 - val_precision_6: 0.9340 - val_recall_6: 0.9730\n",
            "Epoch 2/10\n",
            "\u001b[1m4932/4932\u001b[0m \u001b[32m━━━━━━━━━━━━━━━━━━━━\u001b[0m\u001b[37m\u001b[0m \u001b[1m19s\u001b[0m 3ms/step - accuracy: 0.9386 - loss: 0.1281 - precision_6: 0.9314 - recall_6: 0.9823 - val_accuracy: 0.9356 - val_loss: 0.1234 - val_precision_6: 0.9351 - val_recall_6: 0.9727\n",
            "Epoch 3/10\n",
            "\u001b[1m4932/4932\u001b[0m \u001b[32m━━━━━━━━━━━━━━━━━━━━\u001b[0m\u001b[37m\u001b[0m \u001b[1m14s\u001b[0m 3ms/step - accuracy: 0.9386 - loss: 0.1258 - precision_6: 0.9343 - recall_6: 0.9788 - val_accuracy: 0.9366 - val_loss: 0.1221 - val_precision_6: 0.9370 - val_recall_6: 0.9722\n",
            "Epoch 4/10\n",
            "\u001b[1m4932/4932\u001b[0m \u001b[32m━━━━━━━━━━━━━━━━━━━━\u001b[0m\u001b[37m\u001b[0m \u001b[1m16s\u001b[0m 3ms/step - accuracy: 0.9398 - loss: 0.1210 - precision_6: 0.9445 - recall_6: 0.9686 - val_accuracy: 0.9373 - val_loss: 0.1198 - val_precision_6: 0.9314 - val_recall_6: 0.9800\n",
            "Epoch 5/10\n",
            "\u001b[1m4932/4932\u001b[0m \u001b[32m━━━━━━━━━━━━━━━━━━━━\u001b[0m\u001b[37m\u001b[0m \u001b[1m19s\u001b[0m 3ms/step - accuracy: 0.9404 - loss: 0.1211 - precision_6: 0.9371 - recall_6: 0.9782 - val_accuracy: 0.9381 - val_loss: 0.1187 - val_precision_6: 0.9359 - val_recall_6: 0.9758\n",
            "Epoch 6/10\n",
            "\u001b[1m4932/4932\u001b[0m \u001b[32m━━━━━━━━━━━━━━━━━━━━\u001b[0m\u001b[37m\u001b[0m \u001b[1m20s\u001b[0m 3ms/step - accuracy: 0.9388 - loss: 0.1256 - precision_6: 0.9327 - recall_6: 0.9810 - val_accuracy: 0.9401 - val_loss: 0.1180 - val_precision_6: 0.9441 - val_recall_6: 0.9693\n",
            "Epoch 7/10\n",
            "\u001b[1m4932/4932\u001b[0m \u001b[32m━━━━━━━━━━━━━━━━━━━━\u001b[0m\u001b[37m\u001b[0m \u001b[1m14s\u001b[0m 3ms/step - accuracy: 0.9412 - loss: 0.1206 - precision_6: 0.9392 - recall_6: 0.9771 - val_accuracy: 0.9376 - val_loss: 0.1184 - val_precision_6: 0.9278 - val_recall_6: 0.9849\n",
            "Epoch 8/10\n",
            "\u001b[1m4932/4932\u001b[0m \u001b[32m━━━━━━━━━━━━━━━━━━━━\u001b[0m\u001b[37m\u001b[0m \u001b[1m21s\u001b[0m 3ms/step - accuracy: 0.9402 - loss: 0.1194 - precision_6: 0.9353 - recall_6: 0.9801 - val_accuracy: 0.9377 - val_loss: 0.1204 - val_precision_6: 0.9408 - val_recall_6: 0.9694\n",
            "Epoch 9/10\n",
            "\u001b[1m4932/4932\u001b[0m \u001b[32m━━━━━━━━━━━━━━━━━━━━\u001b[0m\u001b[37m\u001b[0m \u001b[1m14s\u001b[0m 3ms/step - accuracy: 0.9408 - loss: 0.1209 - precision_6: 0.9372 - recall_6: 0.9787 - val_accuracy: 0.9420 - val_loss: 0.1173 - val_precision_6: 0.9474 - val_recall_6: 0.9685\n",
            "Epoch 10/10\n",
            "\u001b[1m4932/4932\u001b[0m \u001b[32m━━━━━━━━━━━━━━━━━━━━\u001b[0m\u001b[37m\u001b[0m \u001b[1m21s\u001b[0m 3ms/step - accuracy: 0.9430 - loss: 0.1163 - precision_6: 0.9424 - recall_6: 0.9760 - val_accuracy: 0.9407 - val_loss: 0.1184 - val_precision_6: 0.9463 - val_recall_6: 0.9677\n"
          ]
        }
      ]
    },
    {
      "cell_type": "code",
      "source": [
        "model1.save('mlp_model.h5')"
      ],
      "metadata": {
        "colab": {
          "base_uri": "https://localhost:8080/"
        },
        "id": "ruU-sFfFbgam",
        "outputId": "b7aa1662-218c-48ef-e9d4-687224561758"
      },
      "execution_count": null,
      "outputs": [
        {
          "output_type": "stream",
          "name": "stderr",
          "text": [
            "WARNING:absl:You are saving your model as an HDF5 file via `model.save()` or `keras.saving.save_model(model)`. This file format is considered legacy. We recommend using instead the native Keras format, e.g. `model.save('my_model.keras')` or `keras.saving.save_model(model, 'my_model.keras')`. \n"
          ]
        }
      ]
    },
    {
      "cell_type": "code",
      "source": [
        "tf.keras.utils.plot_model(model1, \"UNSW_NB15_model1.png\", show_shapes=True)"
      ],
      "metadata": {
        "colab": {
          "base_uri": "https://localhost:8080/",
          "height": 1000
        },
        "id": "4L-tVOVJPy3S",
        "outputId": "49e9afc5-9e60-4f21-9959-5b217c582485"
      },
      "execution_count": null,
      "outputs": [
        {
          "output_type": "execute_result",
          "data": {
            "image/png": "[encoded data removed]",
            "text/plain": [
              "<IPython.core.display.Image object>"
            ]
          },
          "metadata": {},
          "execution_count": 84
        }
      ]
    },
    {
      "cell_type": "code",
      "source": [
        "history.params"
      ],
      "metadata": {
        "colab": {
          "base_uri": "https://localhost:8080/"
        },
        "id": "qwcWzP4bOWsf",
        "outputId": "ebc39db0-c68e-4a86-a8c6-f2b7caae5b3e"
      },
      "execution_count": null,
      "outputs": [
        {
          "output_type": "execute_result",
          "data": {
            "text/plain": [
              "{'verbose': 'auto', 'epochs': 10, 'steps': 4932}"
            ]
          },
          "metadata": {},
          "execution_count": 77
        }
      ]
    },
    {
      "cell_type": "code",
      "source": [
        "import matplotlib.pyplot as plt\n",
        "import pandas as pd\n",
        "\n",
        "# Convert training history to DataFrame\n",
        "pd.DataFrame(history.history).plot(\n",
        "    figsize=(8, 5),\n",
        "    xlim=[0, len(history.history['accuracy']) - 1],  # Adjust to match the number of epochs\n",
        "    ylim=[0, 1],  # Accuracy and loss are normalized between 0 and 1\n",
        "    grid=True,\n",
        "    xlabel=\"Epoch\",\n",
        "    style=[\"r--\", \"r--.\", \"b-\", \"b-*\"]  # Red for loss, blue for accuracy\n",
        ")\n",
        "\n",
        "# Add legend\n",
        "plt.legend(loc=\"lower left\")\n",
        "\n",
        "# Show the plot\n",
        "plt.show()"
      ],
      "metadata": {
        "colab": {
          "base_uri": "https://localhost:8080/",
          "height": 470
        },
        "id": "6LIPCOZSOKku",
        "outputId": "7fde6b3c-606c-4ecc-b5f9-53ba76eac2ba"
      },
      "execution_count": null,
      "outputs": [
        {
          "output_type": "display_data",
          "data": {
            "text/plain": [
              "<Figure size 800x500 with 1 Axes>"
            ],
            "image/png": "[encoded data removed]"
          },
          "metadata": {}
        }
      ]
    },
    {
      "cell_type": "code",
      "source": [
        "import matplotlib.pyplot as plt\n",
        "\n",
        "epochs = range(1, len(history.history['accuracy']) + 1)\n",
        "\n",
        "plt.plot(epochs, history.history['accuracy'], label='Training Accuracy')\n",
        "plt.plot(epochs, history.history['val_accuracy'], label='Validation Accuracy')\n",
        "plt.xlabel('Epochs')\n",
        "plt.ylabel('Accuracy')\n",
        "plt.legend()\n",
        "plt.show()"
      ],
      "metadata": {
        "colab": {
          "base_uri": "https://localhost:8080/",
          "height": 449
        },
        "id": "bXT9VSDNORYJ",
        "outputId": "8b4c80dd-748a-4d59-bdaa-aecd110a4105"
      },
      "execution_count": null,
      "outputs": [
        {
          "output_type": "display_data",
          "data": {
            "text/plain": [
              "<Figure size 640x480 with 1 Axes>"
            ],
            "image/png": "[encoded data removed]"
          },
          "metadata": {}
        }
      ]
    },
    {
      "cell_type": "code",
      "source": [
        "model1.evaluate(X_test_prepared, y2_test_prepared)"
      ],
      "metadata": {
        "colab": {
          "base_uri": "https://localhost:8080/"
        },
        "id": "FzvvBZo3SnGZ",
        "outputId": "3725917c-290a-4bf3-90ff-ff1518b78f75"
      },
      "execution_count": null,
      "outputs": [
        {
          "output_type": "stream",
          "name": "stdout",
          "text": [
            "\u001b[1m2573/2573\u001b[0m \u001b[32m━━━━━━━━━━━━━━━━━━━━\u001b[0m\u001b[37m\u001b[0m \u001b[1m6s\u001b[0m 2ms/step - accuracy: 0.9265 - loss: 4.7769 - precision: 0.9526 - recall: 0.9368\n"
          ]
        },
        {
          "output_type": "execute_result",
          "data": {
            "text/plain": [
              "[3.256443738937378, 0.8521959781646729, 0.8175011873245239, 0.9418070912361145]"
            ]
          },
          "metadata": {},
          "execution_count": 80
        }
      ]
    },
    {
      "cell_type": "code",
      "source": [
        "import tensorflow as tf\n",
        "import keras_tuner as kt\n",
        "\n",
        "def build_model():\n",
        "    n_hidden = 6  # Number of hidden layers\n",
        "    n_neurons = 32  # Neurons per layer\n",
        "    learning_rate = 0.00905127409782462  # Predefined learning rate\n",
        "    optimizer = tf.keras.optimizers.SGD(learning_rate=learning_rate)  # Optimizer set to SGD\n",
        "\n",
        "    model2 = tf.keras.Sequential()\n",
        "    model2.add(tf.keras.layers.InputLayer(shape=(191,)))  # Input layer for 191 features\n",
        "\n",
        "    for _ in range(n_hidden):\n",
        "        model2.add(tf.keras.layers.Dense(n_neurons, activation=\"relu\"))  # Hidden layers\n",
        "\n",
        "    model2.add(tf.keras.layers.Dense(1, activation='sigmoid'))  # Output layer for binary classification\n",
        "\n",
        "    model2.compile(\n",
        "        optimizer=optimizer,\n",
        "        loss='binary_crossentropy',\n",
        "        metrics=[\"accuracy\", tf.keras.metrics.Precision(), tf.keras.metrics.Recall(),tf.keras.metrics.f1_score()]\n",
        "    )\n",
        "\n",
        "    return model2\n",
        "\n",
        "model2 = build_model()\n",
        "history2 = model2.fit(\n",
        "    X_train_MLP, y2_train_MLP,\n",
        "    epochs=10,\n",
        "    batch_size=32,\n",
        "    validation_data=(X_valid_MLP, y_valid_MLP)\n",
        ")\n"
      ],
      "metadata": {
        "colab": {
          "base_uri": "https://localhost:8080/"
        },
        "id": "5T3iXl4O78G3",
        "outputId": "91a76647-47e7-46ac-88fb-374603ce47c9"
      },
      "execution_count": null,
      "outputs": [
        {
          "output_type": "stream",
          "name": "stdout",
          "text": [
            "Epoch 1/10\n",
            "\u001b[1m4932/4932\u001b[0m \u001b[32m━━━━━━━━━━━━━━━━━━━━\u001b[0m\u001b[37m\u001b[0m \u001b[1m18s\u001b[0m 3ms/step - accuracy: 0.8628 - loss: 0.3042 - precision_1: 0.8437 - recall_1: 0.9903 - val_accuracy: 0.9344 - val_loss: 0.1395 - val_precision_1: 0.9215 - val_recall_1: 0.9877\n",
            "Epoch 2/10\n",
            "\u001b[1m4932/4932\u001b[0m \u001b[32m━━━━━━━━━━━━━━━━━━━━\u001b[0m\u001b[37m\u001b[0m \u001b[1m24s\u001b[0m 4ms/step - accuracy: 0.9377 - loss: 0.1334 - precision_1: 0.9332 - recall_1: 0.9787 - val_accuracy: 0.9381 - val_loss: 0.1305 - val_precision_1: 0.9231 - val_recall_1: 0.9915\n",
            "Epoch 3/10\n",
            "\u001b[1m4932/4932\u001b[0m \u001b[32m━━━━━━━━━━━━━━━━━━━━\u001b[0m\u001b[37m\u001b[0m \u001b[1m16s\u001b[0m 3ms/step - accuracy: 0.9397 - loss: 0.1265 - precision_1: 0.9374 - recall_1: 0.9766 - val_accuracy: 0.9385 - val_loss: 0.1268 - val_precision_1: 0.9234 - val_recall_1: 0.9918\n",
            "Epoch 4/10\n",
            "\u001b[1m4932/4932\u001b[0m \u001b[32m━━━━━━━━━━━━━━━━━━━━\u001b[0m\u001b[37m\u001b[0m \u001b[1m16s\u001b[0m 3ms/step - accuracy: 0.9403 - loss: 0.1235 - precision_1: 0.9386 - recall_1: 0.9763 - val_accuracy: 0.9385 - val_loss: 0.1250 - val_precision_1: 0.9237 - val_recall_1: 0.9915\n",
            "Epoch 5/10\n",
            "\u001b[1m4932/4932\u001b[0m \u001b[32m━━━━━━━━━━━━━━━━━━━━\u001b[0m\u001b[37m\u001b[0m \u001b[1m18s\u001b[0m 4ms/step - accuracy: 0.9414 - loss: 0.1217 - precision_1: 0.9400 - recall_1: 0.9764 - val_accuracy: 0.9381 - val_loss: 0.1231 - val_precision_1: 0.9237 - val_recall_1: 0.9908\n",
            "Epoch 6/10\n",
            "\u001b[1m4932/4932\u001b[0m \u001b[32m━━━━━━━━━━━━━━━━━━━━\u001b[0m\u001b[37m\u001b[0m \u001b[1m18s\u001b[0m 3ms/step - accuracy: 0.9422 - loss: 0.1205 - precision_1: 0.9407 - recall_1: 0.9767 - val_accuracy: 0.9391 - val_loss: 0.1218 - val_precision_1: 0.9249 - val_recall_1: 0.9909\n",
            "Epoch 7/10\n",
            "\u001b[1m4932/4932\u001b[0m \u001b[32m━━━━━━━━━━━━━━━━━━━━\u001b[0m\u001b[37m\u001b[0m \u001b[1m18s\u001b[0m 4ms/step - accuracy: 0.9427 - loss: 0.1193 - precision_1: 0.9412 - recall_1: 0.9769 - val_accuracy: 0.9383 - val_loss: 0.1215 - val_precision_1: 0.9239 - val_recall_1: 0.9909\n",
            "Epoch 8/10\n",
            "\u001b[1m4932/4932\u001b[0m \u001b[32m━━━━━━━━━━━━━━━━━━━━\u001b[0m\u001b[37m\u001b[0m \u001b[1m18s\u001b[0m 3ms/step - accuracy: 0.9429 - loss: 0.1186 - precision_1: 0.9417 - recall_1: 0.9767 - val_accuracy: 0.9397 - val_loss: 0.1205 - val_precision_1: 0.9275 - val_recall_1: 0.9886\n",
            "Epoch 9/10\n",
            "\u001b[1m4932/4932\u001b[0m \u001b[32m━━━━━━━━━━━━━━━━━━━━\u001b[0m\u001b[37m\u001b[0m \u001b[1m16s\u001b[0m 3ms/step - accuracy: 0.9431 - loss: 0.1177 - precision_1: 0.9421 - recall_1: 0.9765 - val_accuracy: 0.9392 - val_loss: 0.1199 - val_precision_1: 0.9266 - val_recall_1: 0.9889\n",
            "Epoch 10/10\n",
            "\u001b[1m4932/4932\u001b[0m \u001b[32m━━━━━━━━━━━━━━━━━━━━\u001b[0m\u001b[37m\u001b[0m \u001b[1m21s\u001b[0m 3ms/step - accuracy: 0.9433 - loss: 0.1171 - precision_1: 0.9426 - recall_1: 0.9763 - val_accuracy: 0.9390 - val_loss: 0.1197 - val_precision_1: 0.9268 - val_recall_1: 0.9883\n"
          ]
        }
      ]
    },
    {
      "cell_type": "code",
      "source": [
        "model2.save('mlp_model2.h5')"
      ],
      "metadata": {
        "colab": {
          "base_uri": "https://localhost:8080/"
        },
        "id": "YSuKrC68dcs2",
        "outputId": "0f03ec4b-9969-4832-d2f8-8d705321061a"
      },
      "execution_count": null,
      "outputs": [
        {
          "output_type": "stream",
          "name": "stderr",
          "text": [
            "WARNING:absl:You are saving your model as an HDF5 file via `model.save()` or `keras.saving.save_model(model)`. This file format is considered legacy. We recommend using instead the native Keras format, e.g. `model.save('my_model.keras')` or `keras.saving.save_model(model, 'my_model.keras')`. \n"
          ]
        }
      ]
    },
    {
      "cell_type": "code",
      "source": [
        "model2.evaluate(X_test_prepared, y2_test_prepared)"
      ],
      "metadata": {
        "colab": {
          "base_uri": "https://localhost:8080/"
        },
        "id": "q8TtHRO29Z7J",
        "outputId": "ab677faf-f724-4b8e-c787-194cfb73de36"
      },
      "execution_count": null,
      "outputs": [
        {
          "output_type": "stream",
          "name": "stdout",
          "text": [
            "\u001b[1m2573/2573\u001b[0m \u001b[32m━━━━━━━━━━━━━━━━━━━━\u001b[0m\u001b[37m\u001b[0m \u001b[1m6s\u001b[0m 2ms/step - accuracy: 0.9524 - loss: 0.1024 - precision_1: 0.9403 - recall_1: 0.9896\n"
          ]
        },
        {
          "output_type": "execute_result",
          "data": {
            "text/plain": [
              "[0.2939007580280304,\n",
              " 0.8332361578941345,\n",
              " 0.7710663676261902,\n",
              " 0.9915071129798889]"
            ]
          },
          "metadata": {},
          "execution_count": 83
        }
      ]
    },
    {
      "cell_type": "code",
      "source": [
        "import tensorflow as tf\n",
        "import keras_tuner as kt\n",
        "\n",
        "def build_model():\n",
        "    n_hidden = 6  # Number of hidden layers\n",
        "    n_neurons =  96 # Neurons per layer\n",
        "    learning_rate = 0.0012482904754698163  # Predefined learning rate\n",
        "    optimizer = tf.keras.optimizers.SGD(learning_rate=learning_rate)  # Optimizer set to SGD\n",
        "\n",
        "    model3 = tf.keras.Sequential()\n",
        "    model3.add(tf.keras.layers.InputLayer(shape=(191,)))  # Input layer for 191 features\n",
        "\n",
        "    for _ in range(n_hidden):\n",
        "        model3.add(tf.keras.layers.Dense(n_neurons, activation=\"relu\"))  # Hidden layers\n",
        "\n",
        "    model3.add(tf.keras.layers.Dense(1, activation='sigmoid'))  # Output layer for binary classification\n",
        "\n",
        "    model3.compile(\n",
        "        optimizer=optimizer,\n",
        "        loss='binary_crossentropy',\n",
        "        metrics=[\"accuracy\", tf.keras.metrics.Precision(), tf.keras.metrics.Recall(), tf.keras.metrics.f1_score()]\n",
        "    )\n",
        "\n",
        "    return model3\n",
        "\n",
        "model3 = build_model()\n",
        "history3 = model3.fit(\n",
        "    X_train_MLP, y2_train_MLP,\n",
        "    epochs=10,\n",
        "    batch_size=32,\n",
        "    validation_data=(X_valid_MLP, y_valid_MLP)\n",
        ")\n"
      ],
      "metadata": {
        "colab": {
          "base_uri": "https://localhost:8080/"
        },
        "id": "R04OxOCP-28P",
        "outputId": "965710b1-c0a1-47fe-9518-53e9cff982fe"
      },
      "execution_count": null,
      "outputs": [
        {
          "output_type": "stream",
          "name": "stdout",
          "text": [
            "Epoch 1/10\n",
            "\u001b[1m4932/4932\u001b[0m \u001b[32m━━━━━━━━━━━━━━━━━━━━\u001b[0m\u001b[37m\u001b[0m \u001b[1m22s\u001b[0m 4ms/step - accuracy: 0.7137 - loss: 0.5663 - precision_2: 0.7056 - recall_2: 0.9992 - val_accuracy: 0.9158 - val_loss: 0.2744 - val_precision_2: 0.8948 - val_recall_2: 0.9929\n",
            "Epoch 2/10\n",
            "\u001b[1m4932/4932\u001b[0m \u001b[32m━━━━━━━━━━━━━━━━━━━━\u001b[0m\u001b[37m\u001b[0m \u001b[1m20s\u001b[0m 4ms/step - accuracy: 0.9212 - loss: 0.2287 - precision_2: 0.9004 - recall_2: 0.9944 - val_accuracy: 0.9313 - val_loss: 0.1724 - val_precision_2: 0.9134 - val_recall_2: 0.9931\n",
            "Epoch 3/10\n",
            "\u001b[1m4932/4932\u001b[0m \u001b[32m━━━━━━━━━━━━━━━━━━━━\u001b[0m\u001b[37m\u001b[0m \u001b[1m19s\u001b[0m 4ms/step - accuracy: 0.9346 - loss: 0.1623 - precision_2: 0.9178 - recall_2: 0.9930 - val_accuracy: 0.9346 - val_loss: 0.1487 - val_precision_2: 0.9200 - val_recall_2: 0.9899\n",
            "Epoch 4/10\n",
            "\u001b[1m4932/4932\u001b[0m \u001b[32m━━━━━━━━━━━━━━━━━━━━\u001b[0m\u001b[37m\u001b[0m \u001b[1m20s\u001b[0m 4ms/step - accuracy: 0.9364 - loss: 0.1424 - precision_2: 0.9249 - recall_2: 0.9869 - val_accuracy: 0.9341 - val_loss: 0.1380 - val_precision_2: 0.9235 - val_recall_2: 0.9846\n",
            "Epoch 5/10\n",
            "\u001b[1m4932/4932\u001b[0m \u001b[32m━━━━━━━━━━━━━━━━━━━━\u001b[0m\u001b[37m\u001b[0m \u001b[1m19s\u001b[0m 4ms/step - accuracy: 0.9377 - loss: 0.1337 - precision_2: 0.9293 - recall_2: 0.9834 - val_accuracy: 0.9354 - val_loss: 0.1327 - val_precision_2: 0.9266 - val_recall_2: 0.9830\n",
            "Epoch 6/10\n",
            "\u001b[1m4932/4932\u001b[0m \u001b[32m━━━━━━━━━━━━━━━━━━━━\u001b[0m\u001b[37m\u001b[0m \u001b[1m21s\u001b[0m 4ms/step - accuracy: 0.9388 - loss: 0.1293 - precision_2: 0.9314 - recall_2: 0.9825 - val_accuracy: 0.9354 - val_loss: 0.1296 - val_precision_2: 0.9285 - val_recall_2: 0.9805\n",
            "Epoch 7/10\n",
            "\u001b[1m4932/4932\u001b[0m \u001b[32m━━━━━━━━━━━━━━━━━━━━\u001b[0m\u001b[37m\u001b[0m \u001b[1m18s\u001b[0m 4ms/step - accuracy: 0.9395 - loss: 0.1264 - precision_2: 0.9335 - recall_2: 0.9811 - val_accuracy: 0.9363 - val_loss: 0.1275 - val_precision_2: 0.9308 - val_recall_2: 0.9791\n",
            "Epoch 8/10\n",
            "\u001b[1m4932/4932\u001b[0m \u001b[32m━━━━━━━━━━━━━━━━━━━━\u001b[0m\u001b[37m\u001b[0m \u001b[1m21s\u001b[0m 4ms/step - accuracy: 0.9399 - loss: 0.1246 - precision_2: 0.9348 - recall_2: 0.9802 - val_accuracy: 0.9370 - val_loss: 0.1261 - val_precision_2: 0.9322 - val_recall_2: 0.9784\n",
            "Epoch 9/10\n",
            "\u001b[1m4932/4932\u001b[0m \u001b[32m━━━━━━━━━━━━━━━━━━━━\u001b[0m\u001b[37m\u001b[0m \u001b[1m20s\u001b[0m 4ms/step - accuracy: 0.9409 - loss: 0.1232 - precision_2: 0.9360 - recall_2: 0.9803 - val_accuracy: 0.9373 - val_loss: 0.1250 - val_precision_2: 0.9333 - val_recall_2: 0.9776\n",
            "Epoch 10/10\n",
            "\u001b[1m4932/4932\u001b[0m \u001b[32m━━━━━━━━━━━━━━━━━━━━\u001b[0m\u001b[37m\u001b[0m \u001b[1m20s\u001b[0m 4ms/step - accuracy: 0.9414 - loss: 0.1222 - precision_2: 0.9372 - recall_2: 0.9796 - val_accuracy: 0.9376 - val_loss: 0.1241 - val_precision_2: 0.9340 - val_recall_2: 0.9772\n"
          ]
        }
      ]
    },
    {
      "cell_type": "code",
      "source": [
        "model3.save('mlp_model3.h5')"
      ],
      "metadata": {
        "colab": {
          "base_uri": "https://localhost:8080/"
        },
        "id": "gJKFnqhxebnd",
        "outputId": "4b1556de-77fb-476a-9cef-eea229d0853d"
      },
      "execution_count": null,
      "outputs": [
        {
          "output_type": "stream",
          "name": "stderr",
          "text": [
            "WARNING:absl:You are saving your model as an HDF5 file via `model.save()` or `keras.saving.save_model(model)`. This file format is considered legacy. We recommend using instead the native Keras format, e.g. `model.save('my_model.keras')` or `keras.saving.save_model(model, 'my_model.keras')`. \n"
          ]
        }
      ]
    },
    {
      "cell_type": "code",
      "source": [
        "model3.evaluate(X_test_prepared, y2_test_prepared)"
      ],
      "metadata": {
        "colab": {
          "base_uri": "https://localhost:8080/"
        },
        "id": "6qfYJeI3AVnS",
        "outputId": "9b77a92a-9bd5-48c2-93ce-037ec7ec330e"
      },
      "execution_count": null,
      "outputs": [
        {
          "output_type": "stream",
          "name": "stdout",
          "text": [
            "\u001b[1m2573/2573\u001b[0m \u001b[32m━━━━━━━━━━━━━━━━━━━━\u001b[0m\u001b[37m\u001b[0m \u001b[1m7s\u001b[0m 3ms/step - accuracy: 0.9472 - loss: 0.1092 - precision_2: 0.9417 - recall_2: 0.9803\n"
          ]
        },
        {
          "output_type": "execute_result",
          "data": {
            "text/plain": [
              "[0.2812468707561493,\n",
              " 0.8366006016731262,\n",
              " 0.7797335982322693,\n",
              " 0.9801023602485657]"
            ]
          },
          "metadata": {},
          "execution_count": 99
        }
      ]
    }
  ]
}